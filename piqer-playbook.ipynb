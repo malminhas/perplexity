{
 "cells": [
  {
   "cell_type": "markdown",
   "id": "8c2d388c-0959-4363-89c2-9c8cd8bccd1f",
   "metadata": {},
   "source": [
    "# Piqer Perplexity Playbook"
   ]
  },
  {
   "cell_type": "markdown",
   "id": "1c8ac2d0-00c2-4a73-907b-0c58caefa3d3",
   "metadata": {},
   "source": [
    "<p>\n",
    "Mal Minhas, v0.6<br>\n",
    "11.11.24\n",
    "</p>\n",
    "<p>\n",
    "<h4>Versions</h4>\n",
    "<ul>\n",
    "<li><b>v0.1</b>: 11.11.24. First version</li>\n",
    "</ul>\n",
    "</p>"
   ]
  },
  {
   "cell_type": "markdown",
   "id": "c14553b7-003c-4847-bfa3-46e099e69a9d",
   "metadata": {},
   "source": [
    "### 1. Introduction"
   ]
  },
  {
   "cell_type": "markdown",
   "id": "d52aba79-c4ce-4122-b07d-fef3673ea695",
   "metadata": {},
   "source": [
    "This notebook builds off a conversation with Tim earlier today and his work on [piqer](https://www.piqer.com).  What is outlined here is a quick recipe whereby we pull down the articles in a feed using piqer and then generate a summary of each one."
   ]
  },
  {
   "cell_type": "markdown",
   "id": "7a0cad92-206d-41be-92b2-e4789711e303",
   "metadata": {},
   "source": [
    "### 2. Retrieving the feed article links using piqer"
   ]
  },
  {
   "cell_type": "code",
   "execution_count": 1,
   "id": "9c3d39b4-fc0c-46cc-a9b9-c3ec33660505",
   "metadata": {},
   "outputs": [
    {
     "name": "stdout",
     "output_type": "stream",
     "text": [
      "Piqer found 1 articles at climatecto.substack.com/feed\n",
      "First article is at 'https://climatecto.substack.com/p/the-true-nature-of-the-crisis'\n"
     ]
    }
   ],
   "source": [
    "from IPython.display import display, Markdown\n",
    "from bs4 import BeautifulSoup\n",
    "import requests\n",
    "import os\n",
    "\n",
    "def getPiqerArticleUrls(target):\n",
    "    url = f\"https://www.piqer.com/rss/{target}\"\n",
    "    r = requests.get(url)\n",
    "    assert(r.status_code == 200)\n",
    "    html_content = r.text\n",
    "    # Parse the HTML content using BeautifulSoup\n",
    "    soup = BeautifulSoup(html_content, 'html.parser')\n",
    "    # Find all <a> tags within the list and extract href attributes\n",
    "    article_urls = [a['href'] for a in soup.find_all('a', href=True)]    \n",
    "    return article_urls\n",
    "\n",
    "feed = \"climatecto.substack.com/feed\"\n",
    "articles = getPiqerArticleUrls(feed)\n",
    "print(f\"Piqer found {len(articles)} articles at {feed}\")\n",
    "print(f\"First article is at '{articles[0]}'\")"
   ]
  },
  {
   "cell_type": "markdown",
   "id": "7a05631f-c877-4fe3-bbd6-7fd89792ae90",
   "metadata": {},
   "source": [
    "### 3. Generating a summary of each article along with citations"
   ]
  },
  {
   "cell_type": "code",
   "execution_count": 2,
   "id": "1cdd7ab9-a91a-4950-aa73-ab388ba5f2df",
   "metadata": {},
   "outputs": [],
   "source": [
    "API_KEY = os.environ.get('PERPLEXITY_API_KEY')\n",
    "DEFAULT_MODEL = 'llama-3.1-sonar-small-128k-online'\n",
    "DEFAULT_TOKENS = 1024\n",
    "CONCISE_DETAIL = 'Be precise and concise.'\n",
    "MID_LEVEL_DETAIL = 'Explain in a few sentences.'\n",
    "GREAT_DETAIL = 'Explain in a lot of detail.'\n",
    "POLITE_DETAIL = 'You are an artificial intelligence assistant and you need to engage in a helpful, detailed, polite conversation with a user.'\n",
    "DEFAULT_TEMP = 0.0\n",
    "\n",
    "def renderTextAsMarkdown(text: str):\n",
    "    display(Markdown(text))\n",
    "\n",
    "def getPerplexityResponse(question:str, model:str=DEFAULT_MODEL, direction:str=MID_LEVEL_DETAIL, max_tokens:int=DEFAULT_TOKENS, temperature:float=DEFAULT_TEMP) -> str:\n",
    "    url = \"https://api.perplexity.ai/chat/completions\"\n",
    "    payload = {\n",
    "        \"model\": model,\n",
    "        \"stream\": False,\n",
    "        \"max_tokens\": max_tokens,\n",
    "        \"temperature\": temperature,\n",
    "        \"messages\": [\n",
    "            {\n",
    "                \"role\": \"system\",\n",
    "                \"content\": f\"{direction}\"\n",
    "            },\n",
    "            {\n",
    "                \"role\": \"user\",\n",
    "                \"content\": question\n",
    "            }\n",
    "        ]\n",
    "    }\n",
    "    headers = {\n",
    "        \"accept\": \"application/json\",\n",
    "        \"content-type\": \"application/json\",\n",
    "        \"Authorization\": f\"Bearer {API_KEY}\",\n",
    "    }\n",
    "    r = requests.post(url, json=payload, headers=headers)\n",
    "    assert(r.status_code == 200)\n",
    "    return r.json()\n",
    "\n",
    "def renderResponse(d):\n",
    "    return renderTextAsMarkdown(d.get(\"choices\")[0].get(\"message\").get(\"content\"))\n",
    "\n",
    "def getCitations(d):\n",
    "    def formatReferences(url_list):\n",
    "        return [f\"[{i + 1}]: {url}\" for i, url in enumerate(url_list)]\n",
    "    for ref in formatReferences(d.get(\"citations\")):\n",
    "        display(ref)"
   ]
  },
  {
   "cell_type": "code",
   "execution_count": 3,
   "id": "54d2d12c-b85d-455a-b22b-e1d02a14b402",
   "metadata": {},
   "outputs": [],
   "source": [
    "def generateSummary(url):\n",
    "    prompt = f\"Please generate a summary of the article at this URL which captures its key themes and takeaways: {url}\"\n",
    "    d = getPerplexityResponse(prompt)\n",
    "    renderResponse(d)\n",
    "    return d"
   ]
  },
  {
   "cell_type": "markdown",
   "id": "18ac1363-bcde-4850-bb4d-45b7b99eb7f1",
   "metadata": {},
   "source": [
    "Now we can invoke `generateSummary` to generate a summary of the required article and render it as Markdown:"
   ]
  },
  {
   "cell_type": "code",
   "execution_count": 4,
   "id": "4848caf8-8c93-42f6-927b-a8331fe2dbc0",
   "metadata": {},
   "outputs": [
    {
     "data": {
      "text/markdown": [
       "The article \"The True Nature of the Crisis\" on the Climate CTO Substack discusses the complexities and misconceptions surrounding the climate crisis. Here are the key themes and takeaways:\n",
       "\n",
       "1. **Misconceptions About Climate Change**:\n",
       "   - The article challenges common beliefs about global warming and climate change, suggesting that much of what is known is incorrect or oversimplified[1].\n",
       "\n",
       "2. **Renewable Energy and Collective Action**:\n",
       "   - It emphasizes the importance of shifting towards renewable energy and collective action to combat climate change, highlighting that this fight is ongoing and demands sustained effort[2].\n",
       "\n",
       "3. **The Real Cost of Climate Failure**:\n",
       "   - The article underscores the severe consequences of failing to address climate change, including unprecedented societal changes and increased risk of mass displacement events[3].\n",
       "\n",
       "4. **Economic Systems and Environmental Impact**:\n",
       "   - It critiques neoliberal economics for prioritizing growth over sustainability, arguing that this approach exacerbates the environmental crisis by perpetuating excessive energy use and material transformation[5].\n",
       "\n",
       "5. **Authoritarianism and Climate Crisis**:\n",
       "   - The article warns about the potential for authoritarian demagogues to exploit the climate crisis for political gain, using scapegoats like refugees to activate nationalist sentiments[4].\n",
       "\n",
       "6. **Systemic Change and Resilience**:\n",
       "   - It advocates for systemic change and fostering local resilience to mitigate the effects of the climate crisis, emphasizing the need for a sustainable future that prioritizes human wellbeing over economic growth[2][5]."
      ],
      "text/plain": [
       "<IPython.core.display.Markdown object>"
      ]
     },
     "metadata": {},
     "output_type": "display_data"
    },
    {
     "name": "stdout",
     "output_type": "stream",
     "text": [
      "CPU times: user 11.2 ms, sys: 2.78 ms, total: 13.9 ms\n",
      "Wall time: 3.48 s\n"
     ]
    }
   ],
   "source": [
    "%%time\n",
    "\n",
    "d = generateSummary(articles[0])"
   ]
  },
  {
   "cell_type": "markdown",
   "id": "d7974c03-e60d-4faf-a1d0-4d56523cdfc6",
   "metadata": {},
   "source": [
    "Let's pull out the citations:"
   ]
  },
  {
   "cell_type": "code",
   "execution_count": 5,
   "id": "b3e0c491-7058-4109-92e9-086ff134b042",
   "metadata": {},
   "outputs": [
    {
     "data": {
      "text/plain": [
       "'[1]: https://richardcrim.substack.com'"
      ]
     },
     "metadata": {},
     "output_type": "display_data"
    },
    {
     "data": {
      "text/plain": [
       "'[2]: https://rickylanusse.substack.com/p/the-one-reason-why-the-climate-crisis-3a6/comments'"
      ]
     },
     "metadata": {},
     "output_type": "display_data"
    },
    {
     "data": {
      "text/plain": [
       "'[3]: https://alexsteffen.substack.com/p/the-real-cost-of-climate-failure'"
      ]
     },
     "metadata": {},
     "output_type": "display_data"
    },
    {
     "data": {
      "text/plain": [
       "'[4]: https://davekarpf.substack.com/p/will-the-climate-crisis-be-a-boon'"
      ]
     },
     "metadata": {},
     "output_type": "display_data"
    },
    {
     "data": {
      "text/plain": [
       "'[5]: https://www.planetcritical.com/p/the-world-is-in-crisis'"
      ]
     },
     "metadata": {},
     "output_type": "display_data"
    }
   ],
   "source": [
    "getCitations(d)"
   ]
  },
  {
   "cell_type": "markdown",
   "id": "8a4e3e4a-fba1-4d40-b389-d5119caa161e",
   "metadata": {},
   "source": [
    "These look wonky and incomplete."
   ]
  }
 ],
 "metadata": {
  "kernelspec": {
   "display_name": "Python 3 (ipykernel)",
   "language": "python",
   "name": "python3"
  },
  "language_info": {
   "codemirror_mode": {
    "name": "ipython",
    "version": 3
   },
   "file_extension": ".py",
   "mimetype": "text/x-python",
   "name": "python",
   "nbconvert_exporter": "python",
   "pygments_lexer": "ipython3",
   "version": "3.11.9"
  }
 },
 "nbformat": 4,
 "nbformat_minor": 5
}
