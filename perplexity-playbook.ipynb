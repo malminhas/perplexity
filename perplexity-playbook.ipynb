{
 "cells": [
  {
   "cell_type": "markdown",
   "id": "419db21c-0a9d-4f4e-83bb-36f70b8fabe9",
   "metadata": {},
   "source": [
    "# Perplexity playbook"
   ]
  },
  {
   "cell_type": "markdown",
   "id": "c71d82e1-e147-495e-b6a9-3acccdc16e5c",
   "metadata": {},
   "source": [
    "<p>\n",
    "Mal Minhas, v0.3<br>\n",
    "15.01.24\n",
    "</p>"
   ]
  },
  {
   "cell_type": "markdown",
   "id": "802262f0-12b1-4bf4-b84a-906dcb938f9a",
   "metadata": {},
   "source": [
    "## 1. Introduction"
   ]
  },
  {
   "cell_type": "markdown",
   "id": "1d30ba74-dd1d-4f40-8032-d97146a56891",
   "metadata": {},
   "source": [
    "Perplexity is an intelligent search engine with a chatbot sytle interface that leverages popular AI models to offer comprehensive answers to user inquiries.  It is able to search the internet to provide real-time information via a friendly user experience that includes native mobile apps.  The tool is specifically designed to perform as a research companion providing links to underlying source articles unlike ChatGPT in default mode.  Perplexity comes with an API called [`pplx-api`](https://blog.perplexity.ai/blog/introducing-pplx-api) which was introduced in October 2023.  See [here](https://docs.perplexity.ai/docs/getting-started) for a guide on how to set up an API key and get started with `pplx-api`.  The following examples assume you have set up the API key in an environment variable called `PERPLEXITY_API_KEY`."
   ]
  },
  {
   "cell_type": "markdown",
   "id": "decf70c0-bd76-4eab-8f0c-c73b7e3e9ca6",
   "metadata": {},
   "source": [
    "Supported models are [as follows](https://docs.perplexity.ai/docs/model-cards):\n",
    "```\n",
    "Model\t                  Context Length       Model Type\n",
    "codellama-34b-instruct\t      16384          Chat Completion\n",
    "llama-2-70b-chat               4096          Chat Completion\n",
    "mistral-7b-instruct [2]\t       4096 [1]      Chat Completion\n",
    "mixtral-8x7b-instruct\t       4096 [1]      Chat Completion\n",
    "pplx-7b-chat\t               8192          Chat Completion\n",
    "pplx-70b-chat\t               4096          Chat Completion\n",
    "pplx-7b-online\t               4096          Chat Completion\n",
    "pplx-70b-online\t               4096          Chat Completion\n",
    "\n",
    "[1] We will be increasing the context length of mistral-7b-instruct to 32k tokens (see roadmap).\n",
    "[2] This model refers to the v0.2 release of mistral-7b-instruct.\n",
    "```"
   ]
  },
  {
   "cell_type": "markdown",
   "id": "f0f67141-26d5-4317-b863-e996d8397894",
   "metadata": {},
   "source": [
    "The only API function currently supported is on `chat_completions` documented [here](https://docs.perplexity.ai/reference/post_chat_completions).  The next section outlines how to use it."
   ]
  },
  {
   "cell_type": "markdown",
   "id": "2e448db2-9950-4092-8d86-cb2ffad33c8b",
   "metadata": {},
   "source": [
    "## 2. Basic Usage"
   ]
  },
  {
   "cell_type": "markdown",
   "id": "b4d6a2db-1f2a-4c0d-a471-8c9f5242c89a",
   "metadata": {},
   "source": [
    "Let's start with a few basics including a utility function to render text for display in Jupyter:"
   ]
  },
  {
   "cell_type": "code",
   "execution_count": 1,
   "id": "08b053ca-d2ba-4d04-85a0-d8d20f59ce4a",
   "metadata": {},
   "outputs": [],
   "source": [
    "import os\n",
    "import requests\n",
    "from IPython.display import Markdown, display\n",
    "\n",
    "def renderCompletion(text: str):\n",
    "    display(Markdown(text))\n",
    "    \n",
    "API_KEY = os.environ.get(\"PERPLEXITY_API_KEY\")\n",
    "DEFAULT_MODEL = \"mistral-7b-instruct\"\n",
    "DEFAULT_TOKENS = 1024\n",
    "CONCISE_DETAIL = \"Be precise and concise.\"\n",
    "MID_LEVEL_DETAIL = \"Explain in a few sentences.\"\n",
    "GREAT_DETAIL = \"Explain in a lot of detail.\"\n",
    "POLITE_DETAIL = \"You are an artificial intelligence assistant and you need to \\engage in a helpful, detailed, polite conversation with a user.\"\n",
    "DEFAULT_TEMP = 0.0"
   ]
  },
  {
   "cell_type": "markdown",
   "id": "89c761bc-e7bd-4cc2-a49c-db21c99047ea",
   "metadata": {},
   "source": [
    "The following is a convenience function that wraps the Perplexity API allowing different models to be used and also differing levels of depth of response detail:"
   ]
  },
  {
   "cell_type": "code",
   "execution_count": 2,
   "id": "e429ee1e-712b-4d36-9ca8-f680b08232d0",
   "metadata": {},
   "outputs": [],
   "source": [
    "def getPerplexityResponse(question:str, model:str=DEFAULT_MODEL, direction:str=MID_LEVEL_DETAIL, max_tokens:int=DEFAULT_TOKENS, temperature:float=DEFAULT_TEMP) -> str:\n",
    "    url = \"https://api.perplexity.ai/chat/completions\"\n",
    "    payload = {\n",
    "        \"model\": model,\n",
    "        \"stream\": False,\n",
    "        \"max_tokens\": max_tokens,\n",
    "        \"temperature\": temperature,\n",
    "        \"messages\": [\n",
    "            {\n",
    "                \"role\": \"system\",\n",
    "                \"content\": f\"{direction}\"\n",
    "            },\n",
    "            {\n",
    "                \"role\": \"user\",\n",
    "                \"content\": question\n",
    "            }\n",
    "        ]\n",
    "    }\n",
    "    headers = {\n",
    "        \"accept\": \"application/json\",\n",
    "        \"content-type\": \"application/json\",\n",
    "        \"Authorization\": f\"Bearer {API_KEY}\",\n",
    "    }\n",
    "    response = requests.post(url, json=payload, headers=headers).json()\n",
    "    return renderCompletion(response.get(\"choices\")[0].get(\"message\").get(\"content\"))"
   ]
  },
  {
   "cell_type": "markdown",
   "id": "ef9feef6-aaba-433c-9b47-2985b031c9a5",
   "metadata": {},
   "source": [
    "Let's test the function on an example query using the default Mistral 7b model and then Llama2.  Note the differences in response timing:"
   ]
  },
  {
   "cell_type": "code",
   "execution_count": 3,
   "id": "66286a1c-026e-47e5-900e-99e670d54db6",
   "metadata": {},
   "outputs": [
    {
     "data": {
      "text/markdown": [
       "In Southampton, UK, if you have a broken washing machine, you should call a professional appliance repair technician. They have the necessary skills and expertise to diagnose and fix common washing machine issues. You can look up local appliance repair services online or check directories like Yell or Thomson Local. Alternatively, you could contact a local appliance repair company, such as Southampton Appliance Repairs or A1 Appliance Repairs, for assistance. Make sure to describe the problem accurately when you call to help them prepare for the repair visit"
      ],
      "text/plain": [
       "<IPython.core.display.Markdown object>"
      ]
     },
     "metadata": {},
     "output_type": "display_data"
    },
    {
     "name": "stdout",
     "output_type": "stream",
     "text": [
      "CPU times: user 17 ms, sys: 5 ms, total: 22 ms\n",
      "Wall time: 1.67 s\n"
     ]
    }
   ],
   "source": [
    "%%time\n",
    "\n",
    "prompt = \"\"\"I have a broken washing machine and I live in Southamption in the UK. \n",
    "What can I do to get it mended?  What trade do I need to call?\"\"\"\n",
    "getPerplexityResponse(prompt)"
   ]
  },
  {
   "cell_type": "code",
   "execution_count": 4,
   "id": "2cc80f9f-1aff-4921-bcef-cabdb74eeb54",
   "metadata": {},
   "outputs": [
    {
     "data": {
      "text/markdown": [
       "If you have a broken washing machine in Southampton, UK, you can call a local appliance repair service or a professional appliance engineer to fix the issue. You can search online for appliance repair services in your area, or look up local trade directories such as Yell or Checkatrade to find a reputable repair person. Additionally, you can also contact the manufacturer's customer service number to see if they offer repair services or can recommend a local technician"
      ],
      "text/plain": [
       "<IPython.core.display.Markdown object>"
      ]
     },
     "metadata": {},
     "output_type": "display_data"
    },
    {
     "name": "stdout",
     "output_type": "stream",
     "text": [
      "CPU times: user 20 ms, sys: 4.89 ms, total: 24.9 ms\n",
      "Wall time: 2.24 s\n"
     ]
    }
   ],
   "source": [
    "%%time\n",
    "\n",
    "getPerplexityResponse(prompt, model='llama-2-70b-chat')"
   ]
  },
  {
   "cell_type": "code",
   "execution_count": 5,
   "id": "b25a8b4b-9e7b-4ebd-a73d-5814167e75ad",
   "metadata": {},
   "outputs": [
    {
     "data": {
      "text/markdown": [
       "I'm so sorry to hear that your washing machine is broken! There are a few options you can consider to get it mended.\n",
       "\n",
       "1. Contact the manufacturer: If your washing machine is still under warranty, you may be able to contact the manufacturer for repair or replacement options. They may be able to provide you with a repair kit or send a technician to your location to fix the machine.\n",
       "2. Call a repair service: There are many repair services that specialize in fixing washing machines. You can search online for \"washing machine repair\" in your area and compare prices and reviews to find a reputable service.\n",
       "3. Contact a plumber: If your washing machine is not under warranty, you may need to call a plumber to fix the issue. Plumbers often have experience with fixing washing machines and other appliances.\n",
       "4. Consider purchasing a new machine: If your washing machine is old or has been in continuous use for a long time, it may be more cost-effective to purchase a new machine rather than trying to repair it.\n",
       "\n",
       "In Southampton, you can call the following trade professionals for assistance:\n",
       "\n",
       "* Washing machine repair services:\n",
       "\t+ Washing Machine Repair Southampton: 023 8066 1111\n",
       "\t+ Southampton Washing Machine Repair: 023 8066 2222\n",
       "* Plumbers:\n",
       "\t+ Southampton Plumbing: 023 8066 3333\n",
       "\t+ Plumbing Southampton: 023 8066 4444\n",
       "\n",
       "I hope this information is helpful! If you have any further questions, please don't hesitate to ask"
      ],
      "text/plain": [
       "<IPython.core.display.Markdown object>"
      ]
     },
     "metadata": {},
     "output_type": "display_data"
    },
    {
     "name": "stdout",
     "output_type": "stream",
     "text": [
      "CPU times: user 25.8 ms, sys: 5.78 ms, total: 31.6 ms\n",
      "Wall time: 5.52 s\n"
     ]
    }
   ],
   "source": [
    "%%time\n",
    "\n",
    "getPerplexityResponse(prompt, model='codellama-34b-instruct', direction=POLITE_DETAIL)"
   ]
  },
  {
   "cell_type": "markdown",
   "id": "f279a8ba-f0bf-4b09-9ae2-9ccf478e47f8",
   "metadata": {},
   "source": [
    "Let's see how it handles a query with a more detailed response:"
   ]
  },
  {
   "cell_type": "code",
   "execution_count": 6,
   "id": "a806519b-adc5-40e6-b1f3-89e25d29bde8",
   "metadata": {},
   "outputs": [
    {
     "data": {
      "text/markdown": [
       "A broken garden gate that is no longer closing properly is an issue that requires the expertise of a tradesperson specializing in carpentry, specifically in gate repair or installation. Here's a detailed explanation of why this is the case and what you can expect when you call a carpenter to fix the problem.\n",
       "\n",
       "Carpentry is a skilled trade that involves the design, construction, and repair of structures made of wood, as well as other materials like metal and plastic. Carpenters are trained to work with various tools and techniques to create, install, and maintain structures, including doors and gates.\n",
       "\n",
       "When it comes to a garden gate, there are several components that can malfunction, leading to it not closing properly. These components include the hinges, the latch or lock, the posts or frames, and the gate itself.\n",
       "\n",
       "Hinges are the metal fittings that attach the gate to the posts or walls. Over time, hinges can become loose, rusted, or worn out, causing the gate to sag or not close properly. A carpenter can assess the condition of the hinges and either tighten or replace them as needed.\n",
       "\n",
       "The latch or lock is the mechanism that secures the gate when it's closed. If the gate is not closing properly due to a faulty latch or lock, a carpenter can inspect the issue and make any necessary repairs or replacements.\n",
       "\n",
       "The posts or frames that support the gate can also be a source of the problem. If the posts are rotten, uneven, or have shifted, the gate may not close properly. A carpenter can assess the condition of the posts and either repair or replace them as needed.\n",
       "\n",
       "Lastly, the gate itself may be the issue. If the gate is warped, bent, or otherwise damaged, it may not close properly. A carpenter can assess the condition of the gate and either repair or replace it as needed.\n",
       "\n",
       "When you call a carpenter to fix your broken garden gate, they will typically follow these steps:\n",
       "\n",
       "1. Inspection: The carpenter will inspect the gate and identify the cause of the problem.\n",
       "2. Quote: Based on the inspection, the carpenter will provide you with a quote for the repairs or replacement.\n",
       "3. Repairs or Replacement: The carpenter will then carry out the repairs or replacement as agreed.\n",
       "4. Testing: Once the repairs or replacement are complete, the carpenter will test the gate to ensure it's closing properly.\n",
       "5. Cleanup: The carpenter will clean up the work area and leave your garden looking neat and tidy.\n",
       "\n",
       "In summary, if you have a broken garden gate that is no longer closing properly, you should call a carpenter to fix it. Carpenters are trained to assess and repair various components of gates, including hinges, latches, locks, posts, and the gate itself. They will follow a process of inspection, quote, repairs or replacement, testing, and cleanup to ensure your garden gate is functioning properly once again"
      ],
      "text/plain": [
       "<IPython.core.display.Markdown object>"
      ]
     },
     "metadata": {},
     "output_type": "display_data"
    },
    {
     "name": "stdout",
     "output_type": "stream",
     "text": [
      "CPU times: user 24.8 ms, sys: 7.43 ms, total: 32.2 ms\n",
      "Wall time: 6.23 s\n"
     ]
    }
   ],
   "source": [
    "%%time\n",
    "\n",
    "prompt = \"\"\"\"I have a broken garden gate which is no longer closing properly.  \n",
    "What trade do I need to call to fix it?\"\"\"\n",
    "getPerplexityResponse(prompt, direction=GREAT_DETAIL)"
   ]
  },
  {
   "cell_type": "markdown",
   "id": "4535bd91-d3a0-4032-b952-32d73a98f96e",
   "metadata": {},
   "source": [
    "## 3. Streaming interface"
   ]
  },
  {
   "cell_type": "markdown",
   "id": "94051f96-5242-44e8-a42b-b2b0c9d0aaef",
   "metadata": {},
   "source": [
    "tbd"
   ]
  },
  {
   "cell_type": "code",
   "execution_count": 7,
   "id": "5138fc38-a51f-457e-9a7d-381c35f30699",
   "metadata": {},
   "outputs": [
    {
     "name": "stdout",
     "output_type": "stream",
     "text": [
      "CPU times: user 9 µs, sys: 1 µs, total: 10 µs\n",
      "Wall time: 13.8 µs\n"
     ]
    }
   ],
   "source": [
    "%%time\n",
    "\n",
    "def getPerplexityStreamingResponse(question, model=DEFAULT_MODEL, direction=MID_LEVEL_DETAIL, max_tokens=DEFAULT_TOKENS, temperature=DEFAULT_TEMP):\n",
    "    url = \"https://api.perplexity.ai/chat/completions\"\n",
    "    payload = {\n",
    "        \"model\": model,\n",
    "        \"stream\": True,\n",
    "        \"max_tokens\": max_tokens,\n",
    "        \"temperature\": temperature,\n",
    "        \"messages\": [\n",
    "            {\n",
    "                \"role\": \"system\",\n",
    "                \"content\": direction,\n",
    "            },\n",
    "            {\n",
    "                \"role\": \"user\",\n",
    "                \"content\": question\n",
    "            }\n",
    "        ]\n",
    "    }\n",
    "    headers = {\n",
    "        \"accept\": \"application/json\",\n",
    "        \"content-type\": \"application/json\",\n",
    "        \"Authorization\": f\"Bearer {API_KEY}\",\n",
    "    }\n",
    "    print('start')\n",
    "    response_stream = requests.post(url, json=payload, headers=headers)\n",
    "    print('end')\n",
    "    for response in response_stream:\n",
    "        print(len(response))\n",
    "    #return response.get(\"choices\")[0].get(\"message\").get(\"content\")\n",
    "\n",
    "prompt = \"\"\"I have a broken washing machine and I live in Southamption in the UK. \n",
    "What can I do to get it mended?  What trade do I need to call?\"\"\"\n",
    "#getPerplexityStreamingResponse(prompt, direction=GREAT_DETAIL)"
   ]
  }
 ],
 "metadata": {
  "kernelspec": {
   "display_name": "Python 3 (ipykernel)",
   "language": "python",
   "name": "python3"
  },
  "language_info": {
   "codemirror_mode": {
    "name": "ipython",
    "version": 3
   },
   "file_extension": ".py",
   "mimetype": "text/x-python",
   "name": "python",
   "nbconvert_exporter": "python",
   "pygments_lexer": "ipython3",
   "version": "3.10.10"
  }
 },
 "nbformat": 4,
 "nbformat_minor": 5
}
