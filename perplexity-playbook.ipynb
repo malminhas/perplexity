{
 "cells": [
  {
   "cell_type": "markdown",
   "id": "419db21c-0a9d-4f4e-83bb-36f70b8fabe9",
   "metadata": {},
   "source": [
    "# Perplexity playbook"
   ]
  },
  {
   "cell_type": "markdown",
   "id": "c71d82e1-e147-495e-b6a9-3acccdc16e5c",
   "metadata": {
    "jp-MarkdownHeadingCollapsed": true,
    "tags": []
   },
   "source": [
    "<p>\n",
    "Mal Minhas, v0.6<br>\n",
    "09.11.24\n",
    "</p>\n",
    "<p>\n",
    "<h4>Versions</h4>\n",
    "<ul>\n",
    "<li><b>v0.3</b>: 15.01.24. First version</li>\n",
    "<li><b>v0.4</b>: 02.06.24. Updated for latest Perplexity API</li>\n",
    "<li><b>v0.5</b>: 01.08.24. Updated again for latest Perplexity API and llama 3.1 support</li>\n",
    "<li><b>v0.6</b>: 09.11.24. Updated to include support for retrieving citations</li>        \n",
    "</ul>\n",
    "</p>"
   ]
  },
  {
   "cell_type": "markdown",
   "id": "802262f0-12b1-4bf4-b84a-906dcb938f9a",
   "metadata": {
    "tags": []
   },
   "source": [
    "## 1. Introduction"
   ]
  },
  {
   "cell_type": "markdown",
   "id": "1d30ba74-dd1d-4f40-8032-d97146a56891",
   "metadata": {},
   "source": [
    "Perplexity is an intelligent search engine with a chatbot sytle interface that leverages popular AI models to offer comprehensive answers to user inquiries.  It is able to search the internet to provide real-time information via a friendly user experience that includes native mobile apps.  The tool is specifically designed to perform as a research companion providing links to underlying source articles unlike ChatGPT in default mode.  Perplexity comes with an OpenAI-compliant API called [`pplx-api`](https://blog.perplexity.ai/blog/introducing-pplx-api) which was introduced in October 2023.  See [here](https://docs.perplexity.ai/docs/getting-started) for a guide on how to set up an API key and get started with `pplx-api` per the documetnation [here](https://docs.perplexity.ai/).  Perplexity regularly update the model support for this API and at the time of writing the latest and greatest supported model is `llama-3.1`.  The following examples assume you have set up the API key in an environment variable called `PERPLEXITY_API_KEY`."
   ]
  },
  {
   "cell_type": "markdown",
   "id": "decf70c0-bd76-4eab-8f0c-c73b7e3e9ca6",
   "metadata": {},
   "source": [
    "Supported models are [as follows](https://docs.perplexity.ai/guides/model-cards):\n",
    "```\n",
    "Perplexity Models\n",
    "Model\tParameter Count\tContext Length\tModel Type\n",
    "llama-3.1-sonar-small-128k-online\t8B\t127,072\tChat Completion\n",
    "llama-3.1-sonar-large-128k-online\t70B\t127,072\tChat Completion\n",
    "llama-3.1-sonar-huge-128k-online\t405B\t127,072\tChat Completion\n",
    "llama-3.1-sonar-small-128k-chat\t8B\t127,072\tChat Completion\n",
    "llama-3.1-sonar-large-128k-chat\t70B\t127,072\tChat Completion\n",
    "\n",
    "Open-Source Models\n",
    "Where possible, we try to match the Hugging Face implementation.\n",
    "Model\tParameter Count\tContext Length\tModel Type\n",
    "llama-3.1-8b-instruct\t8B\t131,072\tChat Completion\n",
    "llama-3.1-70b-instruct\t70B\t131,072\tChat Completion\n",
    "\n",
    "```"
   ]
  },
  {
   "cell_type": "markdown",
   "id": "f0f67141-26d5-4317-b863-e996d8397894",
   "metadata": {},
   "source": [
    "The only API function currently supported is on `chat_completions` documented [here](https://docs.perplexity.ai/reference/post_chat_completions).  The next section outlines how to use it."
   ]
  },
  {
   "cell_type": "markdown",
   "id": "2e448db2-9950-4092-8d86-cb2ffad33c8b",
   "metadata": {},
   "source": [
    "## 2. Basic Usage"
   ]
  },
  {
   "cell_type": "markdown",
   "id": "b4d6a2db-1f2a-4c0d-a471-8c9f5242c89a",
   "metadata": {},
   "source": [
    "Let's start with a few basics including a utility function to render text for display in Jupyter:"
   ]
  },
  {
   "cell_type": "code",
   "execution_count": 1,
   "id": "08b053ca-d2ba-4d04-85a0-d8d20f59ce4a",
   "metadata": {},
   "outputs": [],
   "source": [
    "import os\n",
    "import requests\n",
    "from IPython.display import display, Markdown\n",
    "\n",
    "def renderTextAsMarkdown(text: str):\n",
    "    display(Markdown(text))\n",
    "    \n",
    "API_KEY = os.environ.get('PERPLEXITY_API_KEY')\n",
    "DEFAULT_MODEL = 'llama-3.1-sonar-small-128k-online'\n",
    "DEFAULT_TOKENS = 1024\n",
    "CONCISE_DETAIL = 'Be precise and concise.'\n",
    "MID_LEVEL_DETAIL = 'Explain in a few sentences.'\n",
    "GREAT_DETAIL = 'Explain in a lot of detail.'\n",
    "POLITE_DETAIL = 'You are an artificial intelligence assistant and you need to engage in a helpful, detailed, polite conversation with a user.'\n",
    "DEFAULT_TEMP = 0.0"
   ]
  },
  {
   "cell_type": "markdown",
   "id": "89c761bc-e7bd-4cc2-a49c-db21c99047ea",
   "metadata": {},
   "source": [
    "The following is a convenience function that wraps the Perplexity API allowing different models to be used and also differing levels of depth of response detail:"
   ]
  },
  {
   "cell_type": "code",
   "execution_count": 2,
   "id": "e429ee1e-712b-4d36-9ca8-f680b08232d0",
   "metadata": {},
   "outputs": [],
   "source": [
    "def getPerplexityResponse(question:str, model:str=DEFAULT_MODEL, direction:str=MID_LEVEL_DETAIL, max_tokens:int=DEFAULT_TOKENS, temperature:float=DEFAULT_TEMP) -> str:\n",
    "    url = \"https://api.perplexity.ai/chat/completions\"\n",
    "    payload = {\n",
    "        \"model\": model,\n",
    "        \"stream\": False,\n",
    "        \"max_tokens\": max_tokens,\n",
    "        \"temperature\": temperature,\n",
    "        \"messages\": [\n",
    "            {\n",
    "                \"role\": \"system\",\n",
    "                \"content\": f\"{direction}\"\n",
    "            },\n",
    "            {\n",
    "                \"role\": \"user\",\n",
    "                \"content\": question\n",
    "            }\n",
    "        ]\n",
    "    }\n",
    "    headers = {\n",
    "        \"accept\": \"application/json\",\n",
    "        \"content-type\": \"application/json\",\n",
    "        \"Authorization\": f\"Bearer {API_KEY}\",\n",
    "    }\n",
    "    r = requests.post(url, json=payload, headers=headers)\n",
    "    assert(r.status_code == 200)\n",
    "    return r.json()\n",
    "\n",
    "def renderResponse(d):\n",
    "    return renderTextAsMarkdown(d.get(\"choices\")[0].get(\"message\").get(\"content\"))\n",
    "\n",
    "def getModel(d):\n",
    "    return renderTextAsMarkdown(d.get(\"model\"))\n",
    "    \n",
    "def getCitations(d):\n",
    "    def formatReferences(url_list):\n",
    "        return [f\"[{i + 1}]: {url}\" for i, url in enumerate(url_list)]\n",
    "    for ref in formatReferences(d.get(\"citations\")):\n",
    "        display(ref)"
   ]
  },
  {
   "cell_type": "markdown",
   "id": "ef9feef6-aaba-433c-9b47-2985b031c9a5",
   "metadata": {},
   "source": [
    "Let's test the function on an example query using the default `llama-3.1-sonar-small-128k-online` model and then `llama-3.1-8b-instruct`.  Note the differences in response timing:"
   ]
  },
  {
   "cell_type": "code",
   "execution_count": 3,
   "id": "66286a1c-026e-47e5-900e-99e670d54db6",
   "metadata": {},
   "outputs": [
    {
     "data": {
      "text/markdown": [
       "If you have a broken washing machine in Southampton, UK, you can consider the following options:\n",
       "\n",
       "1. **Advanced Appliance Care**: They offer fixed-price repairs for all makes and models, with a focus on Southampton and Winchester areas. However, they do not provide same-day service when booking online[1].\n",
       "\n",
       "2. **Domestec**: This service offers same/next day call outs and repairs all major brands of domestic appliances, including washing machines. They charge a £61.95+VAT one-off fixed call out & labour charge, with parts quoted separately[2].\n",
       "\n",
       "3. **Hedge End Domestics**: A family-run business with over 35 years of experience, they provide same or next day service for various appliance repairs, including washing machines. They carry spare parts for major brands and offer competitive prices[3].\n",
       "\n",
       "4. **AA Quality Domestics**: Experienced in fixing all makes and models of domestic appliances, they can usually visit within 24 hours and source spare parts quickly. They also offer new appliances if the old one is beyond repair[4].\n",
       "\n",
       "5. **NAC (Domestic Appliances)**: Provides fast and reliable washing machine repairs in Southampton with same day or next day services available. Their engineers carry a wide range of parts and offer a guarantee on their work[5].\n",
       "\n",
       "You can contact any of these services to book a repair, and they will send a qualified engineer to fix your washing machine."
      ],
      "text/plain": [
       "<IPython.core.display.Markdown object>"
      ]
     },
     "metadata": {},
     "output_type": "display_data"
    },
    {
     "name": "stdout",
     "output_type": "stream",
     "text": [
      "CPU times: user 11.2 ms, sys: 4.71 ms, total: 15.9 ms\n",
      "Wall time: 3.29 s\n"
     ]
    }
   ],
   "source": [
    "%%time\n",
    "\n",
    "prompt = \"\"\"I have a broken washing machine and I live in Southamption in the UK. \n",
    "What can I do to get it mended?  What trade do I need to call?\"\"\"\n",
    "d = getPerplexityResponse(prompt)\n",
    "renderResponse(d)"
   ]
  },
  {
   "cell_type": "markdown",
   "id": "5d986e66-2d22-47a0-b895-52965bf859af",
   "metadata": {},
   "source": [
    "As of 09.11.24, Perplexity are offering citations as part of the API response.  We can pull them out as follows.  The URLs all work and point to valid companies that could help with this job:"
   ]
  },
  {
   "cell_type": "code",
   "execution_count": 4,
   "id": "de7c60f1-d226-4a41-bfa9-b203e96cce96",
   "metadata": {},
   "outputs": [
    {
     "data": {
      "text/plain": [
       "'[1]: https://www.advancedappliancecare.co.uk/appliances-we-repair/washing-machine-repairs/'"
      ]
     },
     "metadata": {},
     "output_type": "display_data"
    },
    {
     "data": {
      "text/plain": [
       "'[2]: https://domestec.co.uk/southampton-appliance-repairs/'"
      ]
     },
     "metadata": {},
     "output_type": "display_data"
    },
    {
     "data": {
      "text/plain": [
       "'[3]: https://www.hedgeenddomestics.co.uk'"
      ]
     },
     "metadata": {},
     "output_type": "display_data"
    },
    {
     "data": {
      "text/plain": [
       "'[4]: https://www.aaqualitydomesticappliances.co.uk/domestic-appliance-repairs'"
      ]
     },
     "metadata": {},
     "output_type": "display_data"
    },
    {
     "data": {
      "text/plain": [
       "'[5]: https://nacrepair.co.uk/appliance-repairs/washing-machine-repair/washing-machine-repair-southampton/'"
      ]
     },
     "metadata": {},
     "output_type": "display_data"
    }
   ],
   "source": [
    "getCitations(d)"
   ]
  },
  {
   "cell_type": "code",
   "execution_count": 5,
   "id": "2cc80f9f-1aff-4921-bcef-cabdb74eeb54",
   "metadata": {},
   "outputs": [
    {
     "data": {
      "text/markdown": [
       "Sorry to hear that your washing machine is broken In the UK, you'll want to call a professional appliance repair service to fix your washing machine. You can search online for \"washing machine repair Southampton\" or \"appliance repair Southampton\" to find local companies that offer this service.\n",
       "\n",
       "Typically, you'll want to contact a domestic appliance repair engineer, who is a skilled tradesperson trained to repair and maintain household appliances, including washing machines. They will assess the issue, provide a quote, and carry out the necessary repairs to get your washing machine working again.\n",
       "\n",
       "You can also check online directories like Rated People, MyBuilder, or TrustATrader to find reputable appliance repair services in your area."
      ],
      "text/plain": [
       "<IPython.core.display.Markdown object>"
      ]
     },
     "metadata": {},
     "output_type": "display_data"
    },
    {
     "name": "stdout",
     "output_type": "stream",
     "text": [
      "CPU times: user 6.25 ms, sys: 2.38 ms, total: 8.63 ms\n",
      "Wall time: 1.09 s\n"
     ]
    }
   ],
   "source": [
    "%%time\n",
    "\n",
    "renderResponse(getPerplexityResponse(prompt, model='llama-3.1-8b-instruct'))"
   ]
  },
  {
   "cell_type": "code",
   "execution_count": 6,
   "id": "b25a8b4b-9e7b-4ebd-a73d-5814167e75ad",
   "metadata": {},
   "outputs": [
    {
     "data": {
      "text/markdown": [
       "I'm so sorry to hear that your washing machine is broken Don't worry, I'm here to help you get it fixed.\n",
       "\n",
       "In the UK, the trade you'll need to call is an appliance repair engineer, specifically a washing machine repair engineer. They specialize in fixing domestic appliances, including washing machines.\n",
       "\n",
       "Here are a few options to get your washing machine repaired:\n",
       "\n",
       "1. **Local Appliance Repair Services**: You can search online for appliance repair services in Southampton. Websites like Rated People, MyBuilder, or Checkatrade can connect you with local engineers who offer washing machine repair services. You can read reviews, check their ratings, and get quotes from multiple engineers.\n",
       "2. **Manufacturer's Customer Service**: If your washing machine is still under warranty, you can contact the manufacturer's customer service department for assistance. They may be able to send a repair engineer or provide guidance on how to fix the issue.\n",
       "3. **National Appliance Repair Companies**: Companies like AO Repair, Currys PC World Repair, or Bosch Home Appliances Repair offer washing machine repair services across the UK. You can visit their websites, enter your postcode, and book a repair appointment.\n",
       "4. **Word of Mouth**: Ask friends, family, or neighbors if they know any reliable appliance repair engineers in Southampton. Personal recommendations can be a great way to find a trustworthy engineer.\n",
       "\n",
       "Before calling an engineer, it's a good idea to:\n",
       "\n",
       "* Check your warranty to see if it's still valid\n",
       "* Gather information about the issue with your washing machine (e.g., error codes, symptoms)\n",
       "* Have your washing machine's make and model ready\n",
       "\n",
       "When you call the engineer, be prepared to provide your address, a brief description of the issue, and any relevant information about your washing machine.\n",
       "\n",
       "I hope this helps you get your washing machine repaired quickly and efficiently"
      ],
      "text/plain": [
       "<IPython.core.display.Markdown object>"
      ]
     },
     "metadata": {},
     "output_type": "display_data"
    },
    {
     "name": "stdout",
     "output_type": "stream",
     "text": [
      "CPU times: user 7.28 ms, sys: 8.53 ms, total: 15.8 ms\n",
      "Wall time: 2.47 s\n"
     ]
    }
   ],
   "source": [
    "%%time\n",
    "\n",
    "renderResponse(getPerplexityResponse(prompt, model='llama-3.1-8b-instruct', direction=POLITE_DETAIL))"
   ]
  },
  {
   "cell_type": "code",
   "execution_count": 7,
   "id": "1569eb3f-9dac-4f47-9a80-02babdeb6d57",
   "metadata": {},
   "outputs": [
    {
     "data": {
      "text/markdown": [
       "If you have a broken washing machine and live in Southampton, UK, there are several options to get it repaired. Here are a few steps you can take:\n",
       "\n",
       "1. **Domestec Appliance Repairs**:\n",
       "   - **Contact Information**: 02380 111 621\n",
       "   - **Service**: Offers same/next day call outs for washing machine repairs in Southampton. They repair all major brands and provide a 12-month guarantee on parts and labor[1].\n",
       "\n",
       "2. **AA Quality Domestics**:\n",
       "   - **Contact Information**: 023 8049 1088\n",
       "   - **Service**: Provides experienced tradesmen for washing machine repairs in Southampton and Winchester. They can usually visit within 24 hours and offer a quick repair service[2].\n",
       "\n",
       "3. **Hedge End Domestics**:\n",
       "   - **Contact Information**: 01489 782 072\n",
       "   - **Service**: Offers same or next day appliance repair services, including washing machines, in Southampton and surrounding areas. They carry spare parts for major brands and have over 35 years of experience[3].\n",
       "\n",
       "4. **NAC (Domestic Appliances)**:\n",
       "   - **Contact Information**: Book online or call for details\n",
       "   - **Service**: Provides fast and reliable washing machine repairs in Southampton with same or next day services available. They have a network of engineers who can diagnose and fix various types of washing machines[4].\n",
       "\n",
       "5. **Advanced Appliance Care**:\n",
       "   - **Contact Information**: Book online or call for details\n",
       "   - **Service**: Offers fixed price repairs on all makes and models of washing machines in Southampton and Winchester. They have years of experience and good reviews[5].\n",
       "\n",
       "You can choose any of these services based on your convenience and the specific needs of your washing machine. It's always a good idea to check their availability and any additional costs for parts before booking a repair."
      ],
      "text/plain": [
       "<IPython.core.display.Markdown object>"
      ]
     },
     "metadata": {},
     "output_type": "display_data"
    },
    {
     "name": "stdout",
     "output_type": "stream",
     "text": [
      "CPU times: user 7.97 ms, sys: 5.37 ms, total: 13.3 ms\n",
      "Wall time: 4.29 s\n"
     ]
    }
   ],
   "source": [
    "%%time\n",
    "\n",
    "renderResponse(getPerplexityResponse(prompt, model='llama-3.1-sonar-small-128k-online', direction=POLITE_DETAIL))"
   ]
  },
  {
   "cell_type": "markdown",
   "id": "f279a8ba-f0bf-4b09-9ae2-9ccf478e47f8",
   "metadata": {},
   "source": [
    "Let's see how it handles a query with a more detailed response:"
   ]
  },
  {
   "cell_type": "code",
   "execution_count": 8,
   "id": "a806519b-adc5-40e6-b1f3-89e25d29bde8",
   "metadata": {},
   "outputs": [
    {
     "data": {
      "text/markdown": [
       "To fix a broken garden gate that is no longer closing properly, you typically need to call a carpenter or a handyman who specializes in gate repair. Here’s a detailed breakdown of the steps you can take:\n",
       "\n",
       "1. **Assess the Damage**: Before calling a professional, try to identify the issue with your gate. Common problems include:\n",
       "   - Sagging or uneven gate alignment\n",
       "   - Broken hinges or latches\n",
       "   - Loose screws or bolts\n",
       "   - Rotting wood\n",
       "\n",
       "2. **DIY Repair**: If the issue is minor, you might be able to fix it yourself. For example, if the gate is sagging, you can try adjusting the hinges or adding spacers to ensure proper alignment, as described in the DIY video from YouTube[2].\n",
       "\n",
       "3. **Call a Professional**: If the problem is more complex or if you're not comfortable with DIY repairs, it's best to hire a professional. Here are some options:\n",
       "   - **Carpenter**: A carpenter specializes in woodworking and can repair or replace wooden gates, including fixing hinges, latches, and ensuring proper alignment.\n",
       "   - **Handyman**: A handyman is a general repair person who can handle a variety of tasks, including gate repairs. They might not specialize in carpentry but can still fix many common issues.\n",
       "   - **Fence/Gate Repair Specialist**: Some companies specialize in fence and gate repairs. These professionals have the expertise to handle all types of gate issues, from simple adjustments to complex repairs.\n",
       "\n",
       "4. **Local Service Providers**: Websites like Angi can help you find local professionals who specialize in fence and gate repairs. You can read reviews and compare prices to find the best service for your needs[5].\n",
       "\n",
       "5. **Cost Estimates**: The cost to repair a gate can vary widely depending on the extent of the damage and the materials needed. On average, fence gate repair costs range from $100 to $400[3].\n",
       "\n",
       "By following these steps, you should be able to find the right professional to fix your broken garden gate and ensure it functions properly again."
      ],
      "text/plain": [
       "<IPython.core.display.Markdown object>"
      ]
     },
     "metadata": {},
     "output_type": "display_data"
    },
    {
     "name": "stdout",
     "output_type": "stream",
     "text": [
      "CPU times: user 8.46 ms, sys: 9.91 ms, total: 18.4 ms\n",
      "Wall time: 4.61 s\n"
     ]
    }
   ],
   "source": [
    "%%time\n",
    "\n",
    "prompt = \"\"\"\"I have a broken garden gate which is no longer closing properly.  \n",
    "What trade do I need to call to fix it?\"\"\"\n",
    "renderResponse(getPerplexityResponse(prompt, model='llama-3.1-sonar-small-128k-online', direction=GREAT_DETAIL))"
   ]
  },
  {
   "cell_type": "markdown",
   "id": "4535bd91-d3a0-4032-b952-32d73a98f96e",
   "metadata": {},
   "source": [
    "## 3. Streaming interface"
   ]
  },
  {
   "cell_type": "markdown",
   "id": "94051f96-5242-44e8-a42b-b2b0c9d0aaef",
   "metadata": {},
   "source": [
    "This is an outline of how to build a streaming interface for Perplexity.  More work needs to be done to flesh it out."
   ]
  },
  {
   "cell_type": "code",
   "execution_count": 9,
   "id": "5138fc38-a51f-457e-9a7d-381c35f30699",
   "metadata": {},
   "outputs": [
    {
     "name": "stdout",
     "output_type": "stream",
     "text": [
      "CPU times: user 5 μs, sys: 3 μs, total: 8 μs\n",
      "Wall time: 12.2 μs\n"
     ]
    }
   ],
   "source": [
    "%%time\n",
    "\n",
    "def getPerplexityStreamingResponse(question, model=DEFAULT_MODEL, direction=MID_LEVEL_DETAIL, max_tokens=DEFAULT_TOKENS, temperature=DEFAULT_TEMP):\n",
    "    url = \"https://api.perplexity.ai/chat/completions\"\n",
    "    payload = {\n",
    "        \"model\": model,\n",
    "        \"stream\": True,\n",
    "        \"max_tokens\": max_tokens,\n",
    "        \"temperature\": temperature,\n",
    "        \"messages\": [\n",
    "            {\n",
    "                \"role\": \"system\",\n",
    "                \"content\": direction,\n",
    "            },\n",
    "            {\n",
    "                \"role\": \"user\",\n",
    "                \"content\": question\n",
    "            }\n",
    "        ]\n",
    "    }\n",
    "    headers = {\n",
    "        \"accept\": \"application/json\",\n",
    "        \"content-type\": \"application/json\",\n",
    "        \"Authorization\": f\"Bearer {API_KEY}\",\n",
    "    }\n",
    "    print('start')\n",
    "    response_stream = requests.post(url, json=payload, headers=headers)\n",
    "    print('end')\n",
    "    for response in response_stream:\n",
    "        print(len(response))\n",
    "    #return response.get(\"choices\")[0].get(\"message\").get(\"content\")\n",
    "\n",
    "prompt = \"\"\"I have a broken washing machine and I live in Southamption in the UK. \n",
    "What can I do to get it mended?  What trade do I need to call?\"\"\"\n",
    "#getPerplexityStreamingResponse(prompt, direction=GREAT_DETAIL)"
   ]
  }
 ],
 "metadata": {
  "kernelspec": {
   "display_name": "Python 3 (ipykernel)",
   "language": "python",
   "name": "python3"
  },
  "language_info": {
   "codemirror_mode": {
    "name": "ipython",
    "version": 3
   },
   "file_extension": ".py",
   "mimetype": "text/x-python",
   "name": "python",
   "nbconvert_exporter": "python",
   "pygments_lexer": "ipython3",
   "version": "3.11.9"
  }
 },
 "nbformat": 4,
 "nbformat_minor": 5
}
