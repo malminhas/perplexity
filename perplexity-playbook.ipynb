{
 "cells": [
  {
   "cell_type": "markdown",
   "id": "419db21c-0a9d-4f4e-83bb-36f70b8fabe9",
   "metadata": {},
   "source": [
    "# Perplexity playbook"
   ]
  },
  {
   "cell_type": "markdown",
   "id": "c71d82e1-e147-495e-b6a9-3acccdc16e5c",
   "metadata": {
    "jp-MarkdownHeadingCollapsed": true,
    "tags": []
   },
   "source": [
    "<p>\n",
    "Mal Minhas, v0.4<br>\n",
    "02.06.24\n",
    "</p>\n",
    "<p>\n",
    "<h4>Versions</h4>\n",
    "<ul>\n",
    "<li><b>v0.3</b>: 15.01.24. First version</li>\n",
    "<li><b>v0.4</b>: 02.06.24. Updated for latest Perplexity API</li>\n",
    "</ul>\n",
    "</p>"
   ]
  },
  {
   "cell_type": "markdown",
   "id": "802262f0-12b1-4bf4-b84a-906dcb938f9a",
   "metadata": {
    "tags": []
   },
   "source": [
    "## 1. Introduction"
   ]
  },
  {
   "cell_type": "markdown",
   "id": "1d30ba74-dd1d-4f40-8032-d97146a56891",
   "metadata": {},
   "source": [
    "Perplexity is an intelligent search engine with a chatbot sytle interface that leverages popular AI models to offer comprehensive answers to user inquiries.  It is able to search the internet to provide real-time information via a friendly user experience that includes native mobile apps.  The tool is specifically designed to perform as a research companion providing links to underlying source articles unlike ChatGPT in default mode.  Perplexity comes with an API called [`pplx-api`](https://blog.perplexity.ai/blog/introducing-pplx-api) which was introduced in October 2023.  See [here](https://docs.perplexity.ai/docs/getting-started) for a guide on how to set up an API key and get started with `pplx-api`.  The following examples assume you have set up the API key in an environment variable called `PERPLEXITY_API_KEY`."
   ]
  },
  {
   "cell_type": "markdown",
   "id": "decf70c0-bd76-4eab-8f0c-c73b7e3e9ca6",
   "metadata": {},
   "source": [
    "Supported models are [as follows](https://docs.perplexity.ai/docs/model-cards):\n",
    "```\n",
    "Perplexity Models\n",
    "Model\tParameter Count\tContext Length\tModel Type\n",
    "llama-3-sonar-small-32k-chat\t8B\t32768\tChat Completion\n",
    "llama-3-sonar-small-32k-online\t8B\t28000\tChat Completion\n",
    "llama-3-sonar-large-32k-chat\t70B\t32768\tChat Completion\n",
    "llama-3-sonar-large-32k-online\t70B\t28000\tChat Completion\n",
    "\n",
    "Open-Source Models\n",
    "Where possible, we try to match the Hugging Face implementation.\n",
    "Model\tParameter Count\tContext Length\tModel Type\n",
    "llama-3-8b-instruct\t8B\t8192\tChat Completion\n",
    "llama-3-70b-instruct\t70B\t8192\tChat Completion\n",
    "mixtral-8x7b-instruct\t8x7B\t16384\tChat Completion\n",
    "```"
   ]
  },
  {
   "cell_type": "markdown",
   "id": "a28fc81f-6d15-48f6-89bc-d4ae9c33011a",
   "metadata": {},
   "source": [
    "Of these models, the response [here](https://docs.perplexity.ai/discuss/65b27c5fc46f38007527c07f) suggests you should use `pplx-7b-online` or `pplx-70b-online` for real-time data."
   ]
  },
  {
   "cell_type": "markdown",
   "id": "f0f67141-26d5-4317-b863-e996d8397894",
   "metadata": {},
   "source": [
    "The only API function currently supported is on `chat_completions` documented [here](https://docs.perplexity.ai/reference/post_chat_completions).  The next section outlines how to use it."
   ]
  },
  {
   "cell_type": "markdown",
   "id": "2e448db2-9950-4092-8d86-cb2ffad33c8b",
   "metadata": {},
   "source": [
    "## 2. Basic Usage"
   ]
  },
  {
   "cell_type": "markdown",
   "id": "b4d6a2db-1f2a-4c0d-a471-8c9f5242c89a",
   "metadata": {},
   "source": [
    "Let's start with a few basics including a utility function to render text for display in Jupyter:"
   ]
  },
  {
   "cell_type": "code",
   "execution_count": 1,
   "id": "08b053ca-d2ba-4d04-85a0-d8d20f59ce4a",
   "metadata": {},
   "outputs": [],
   "source": [
    "import os\n",
    "import requests\n",
    "from IPython.display import Markdown, display\n",
    "\n",
    "def renderCompletion(text: str):\n",
    "    display(Markdown(text))\n",
    "    \n",
    "API_KEY = os.environ.get(\"PERPLEXITY_API_KEY\")\n",
    "DEFAULT_MODEL = \"mistral-7b-instruct\"\n",
    "DEFAULT_TOKENS = 1024\n",
    "CONCISE_DETAIL = \"Be precise and concise.\"\n",
    "MID_LEVEL_DETAIL = \"Explain in a few sentences.\"\n",
    "GREAT_DETAIL = \"Explain in a lot of detail.\"\n",
    "POLITE_DETAIL = \"You are an artificial intelligence assistant and you need to engage in a helpful, detailed, polite conversation with a user.\"\n",
    "DEFAULT_TEMP = 0.0"
   ]
  },
  {
   "cell_type": "markdown",
   "id": "89c761bc-e7bd-4cc2-a49c-db21c99047ea",
   "metadata": {},
   "source": [
    "The following is a convenience function that wraps the Perplexity API allowing different models to be used and also differing levels of depth of response detail:"
   ]
  },
  {
   "cell_type": "code",
   "execution_count": 2,
   "id": "e429ee1e-712b-4d36-9ca8-f680b08232d0",
   "metadata": {},
   "outputs": [],
   "source": [
    "def getPerplexityResponse(question:str, model:str=DEFAULT_MODEL, direction:str=MID_LEVEL_DETAIL, max_tokens:int=DEFAULT_TOKENS, temperature:float=DEFAULT_TEMP) -> str:\n",
    "    url = \"https://api.perplexity.ai/chat/completions\"\n",
    "    payload = {\n",
    "        \"model\": model,\n",
    "        \"stream\": False,\n",
    "        \"max_tokens\": max_tokens,\n",
    "        \"temperature\": temperature,\n",
    "        \"messages\": [\n",
    "            {\n",
    "                \"role\": \"system\",\n",
    "                \"content\": f\"{direction}\"\n",
    "            },\n",
    "            {\n",
    "                \"role\": \"user\",\n",
    "                \"content\": question\n",
    "            }\n",
    "        ]\n",
    "    }\n",
    "    headers = {\n",
    "        \"accept\": \"application/json\",\n",
    "        \"content-type\": \"application/json\",\n",
    "        \"Authorization\": f\"Bearer {API_KEY}\",\n",
    "    }\n",
    "    r = requests.post(url, json=payload, headers=headers)\n",
    "    assert(r.status_code == 200)\n",
    "    return renderCompletion(r.json().get(\"choices\")[0].get(\"message\").get(\"content\"))"
   ]
  },
  {
   "cell_type": "markdown",
   "id": "ef9feef6-aaba-433c-9b47-2985b031c9a5",
   "metadata": {},
   "source": [
    "Let's test the function on an example query using the default Mistral 7b model and then Llama2.  Note the differences in response timing:"
   ]
  },
  {
   "cell_type": "code",
   "execution_count": 3,
   "id": "66286a1c-026e-47e5-900e-99e670d54db6",
   "metadata": {},
   "outputs": [
    {
     "data": {
      "text/markdown": [
       "In Southampton, UK, if you have a broken washing machine, you should call a professional appliance repair technician. They have the necessary skills and expertise to diagnose and fix common washing machine issues. You can look up local appliance repair services online or check directories like Yell or Thomson Local. Alternatively, you could contact a local appliance repair company, such as Southampton Appliance Repairs or A1 Appliance Repairs, for assistance. Make sure to describe the problem accurately when you call to help them prepare for the repair visit."
      ],
      "text/plain": [
       "<IPython.core.display.Markdown object>"
      ]
     },
     "metadata": {},
     "output_type": "display_data"
    },
    {
     "name": "stdout",
     "output_type": "stream",
     "text": [
      "CPU times: user 38.7 ms, sys: 10.5 ms, total: 49.2 ms\n",
      "Wall time: 1.38 s\n"
     ]
    }
   ],
   "source": [
    "%%time\n",
    "\n",
    "prompt = \"\"\"I have a broken washing machine and I live in Southamption in the UK. \n",
    "What can I do to get it mended?  What trade do I need to call?\"\"\"\n",
    "getPerplexityResponse(prompt)"
   ]
  },
  {
   "cell_type": "code",
   "execution_count": 4,
   "id": "2cc80f9f-1aff-4921-bcef-cabdb74eeb54",
   "metadata": {},
   "outputs": [
    {
     "data": {
      "text/markdown": [
       "Sorry to hear that your washing machine is broken In the UK, you can call a professional appliance repair service to fix your washing machine. You can search online for \"washing machine repair Southampton\" or \"appliance repair Southampton\" to find local companies that offer this service. Alternatively, you can also check online directories like Rated People or TrustATrader to find a reputable repair service in your area."
      ],
      "text/plain": [
       "<IPython.core.display.Markdown object>"
      ]
     },
     "metadata": {},
     "output_type": "display_data"
    },
    {
     "name": "stdout",
     "output_type": "stream",
     "text": [
      "CPU times: user 22.2 ms, sys: 5.22 ms, total: 27.4 ms\n",
      "Wall time: 1.05 s\n"
     ]
    }
   ],
   "source": [
    "%%time\n",
    "\n",
    "getPerplexityResponse(prompt, model='llama-3-8b-instruct')"
   ]
  },
  {
   "cell_type": "code",
   "execution_count": 5,
   "id": "b25a8b4b-9e7b-4ebd-a73d-5814167e75ad",
   "metadata": {},
   "outputs": [
    {
     "data": {
      "text/markdown": [
       "Sorry to hear that your washing machine is broken Don't worry, I'm here to help you get it fixed.\n",
       "\n",
       "To get your washing machine repaired, you'll need to call an appliance repair technician or a domestic appliance engineer. They specialize in fixing household appliances like washing machines, dishwashers, and refrigerators.\n",
       "\n",
       "Here are your options:\n",
       "\n",
       "1. **Manufacturer's Repair Service**: If your washing machine is still under warranty, you can contact the manufacturer's customer service department to schedule a repair. They'll send an authorized technician to fix the issue.\n",
       "2. **Local Appliance Repair Companies**: Search online for appliance repair companies in Southampton that specialize in washing machine repairs. You can check review websites like TrustATrader, Rated People, or Checkatrade to find reliable and rated technicians in your area.\n",
       "3. **Independent Repair Technicians**: You can also search for independent repair technicians in Southampton who specialize in washing machine repairs. They might offer more competitive pricing and flexible scheduling.\n",
       "\n",
       "Before calling a technician, it's a good idea to have some information ready:\n",
       "\n",
       "* The make and model of your washing machine\n",
       "* A detailed description of the problem you're experiencing (e.g., not spinning, not draining, not turning on)\n",
       "* Any error codes or lights that are flashing on the machine\n",
       "\n",
       "When you call a technician, ask them about their:\n",
       "\n",
       "* Experience with your washing machine's brand and model\n",
       "* Availability and response time\n",
       "* Pricing and payment terms\n",
       "* Warranty or guarantee on their repairs\n",
       "\n",
       "Additionally, you can also check if your home insurance policy covers appliance repairs or if you have a home emergency cover that includes washing machine repairs.\n",
       "\n",
       "I hope this helps you get your washing machine up and running again"
      ],
      "text/plain": [
       "<IPython.core.display.Markdown object>"
      ]
     },
     "metadata": {},
     "output_type": "display_data"
    },
    {
     "name": "stdout",
     "output_type": "stream",
     "text": [
      "CPU times: user 25.3 ms, sys: 5.24 ms, total: 30.5 ms\n",
      "Wall time: 7.88 s\n"
     ]
    }
   ],
   "source": [
    "%%time\n",
    "\n",
    "getPerplexityResponse(prompt, model='llama-3-70b-instruct', direction=POLITE_DETAIL)"
   ]
  },
  {
   "cell_type": "code",
   "execution_count": 6,
   "id": "1569eb3f-9dac-4f47-9a80-02babdeb6d57",
   "metadata": {},
   "outputs": [
    {
     "data": {
      "text/markdown": [
       "I'm so sorry to hear that your washing machine is broken I'd be happy to help you find a solution.\n",
       "\n",
       "Firstly, let's identify the best course of action. Since you're located in Southampton, UK, I recommend starting with a local approach. Here are a few options you can consider:\n",
       "\n",
       "1. **Appliance Repair Services**: You can search online for appliance repair services in Southampton that specialize in washing machine repairs. You can check websites like Rated People, TrustATrader, or Checkatrade to find reputable tradespeople in your area. Provide them with your washing machine's make and model, and they'll be able to assess the issue and provide a quote for the repair.\n",
       "2. **Manufacturer's Customer Service**: If your washing machine is still under warranty or you're unsure about the repair cost, you can contact the manufacturer's customer service department. They may be able to provide guidance on the best course of action or send a technician to repair the machine.\n",
       "3. **Local Electricians or Handymen**: If you're not sure what type of repair is needed, you can also contact local electricians or handymen in Southampton who may be able to assess the issue and provide a quote for the repair.\n",
       "\n",
       "As for the trade you need to call, it depends on the nature of the repair. If the issue is electrical, you may want to contact an electrician. If it's a mechanical or technical issue, you may want to contact an appliance repair specialist.\n",
       "\n",
       "Before calling anyone, it's a good idea to have the following information ready:\n",
       "\n",
       "* Your washing machine's make and model\n",
       "* A brief description of the issue you're experiencing\n",
       "* Any error codes or messages displayed on the machine\n",
       "* Your location in Southampton (this will help the tradesperson plan their visit)\n",
       "\n",
       "Remember to always check the tradesperson's reviews, ratings, and qualifications before booking their services. This will ensure you're getting a reliable and skilled professional to fix your washing machine.\n",
       "\n",
       "I hope this helps you get started on finding a solution for your broken washing machine"
      ],
      "text/plain": [
       "<IPython.core.display.Markdown object>"
      ]
     },
     "metadata": {},
     "output_type": "display_data"
    },
    {
     "name": "stdout",
     "output_type": "stream",
     "text": [
      "CPU times: user 24 ms, sys: 4.85 ms, total: 28.8 ms\n",
      "Wall time: 4.98 s\n"
     ]
    }
   ],
   "source": [
    "%%time\n",
    "\n",
    "getPerplexityResponse(prompt, model='llama-3-sonar-small-32k-chat', direction=POLITE_DETAIL)"
   ]
  },
  {
   "cell_type": "markdown",
   "id": "f279a8ba-f0bf-4b09-9ae2-9ccf478e47f8",
   "metadata": {},
   "source": [
    "Let's see how it handles a query with a more detailed response:"
   ]
  },
  {
   "cell_type": "code",
   "execution_count": null,
   "id": "a806519b-adc5-40e6-b1f3-89e25d29bde8",
   "metadata": {},
   "outputs": [],
   "source": [
    "%%time\n",
    "\n",
    "prompt = \"\"\"\"I have a broken garden gate which is no longer closing properly.  \n",
    "What trade do I need to call to fix it?\"\"\"\n",
    "getPerplexityResponse(prompt, model='llama-3-sonar-small-32k-chat', direction=GREAT_DETAIL)"
   ]
  },
  {
   "cell_type": "markdown",
   "id": "4535bd91-d3a0-4032-b952-32d73a98f96e",
   "metadata": {},
   "source": [
    "## 3. Streaming interface"
   ]
  },
  {
   "cell_type": "markdown",
   "id": "94051f96-5242-44e8-a42b-b2b0c9d0aaef",
   "metadata": {},
   "source": [
    "tbd"
   ]
  },
  {
   "cell_type": "code",
   "execution_count": null,
   "id": "5138fc38-a51f-457e-9a7d-381c35f30699",
   "metadata": {},
   "outputs": [],
   "source": [
    "%%time\n",
    "\n",
    "def getPerplexityStreamingResponse(question, model=DEFAULT_MODEL, direction=MID_LEVEL_DETAIL, max_tokens=DEFAULT_TOKENS, temperature=DEFAULT_TEMP):\n",
    "    url = \"https://api.perplexity.ai/chat/completions\"\n",
    "    payload = {\n",
    "        \"model\": model,\n",
    "        \"stream\": True,\n",
    "        \"max_tokens\": max_tokens,\n",
    "        \"temperature\": temperature,\n",
    "        \"messages\": [\n",
    "            {\n",
    "                \"role\": \"system\",\n",
    "                \"content\": direction,\n",
    "            },\n",
    "            {\n",
    "                \"role\": \"user\",\n",
    "                \"content\": question\n",
    "            }\n",
    "        ]\n",
    "    }\n",
    "    headers = {\n",
    "        \"accept\": \"application/json\",\n",
    "        \"content-type\": \"application/json\",\n",
    "        \"Authorization\": f\"Bearer {API_KEY}\",\n",
    "    }\n",
    "    print('start')\n",
    "    response_stream = requests.post(url, json=payload, headers=headers)\n",
    "    print('end')\n",
    "    for response in response_stream:\n",
    "        print(len(response))\n",
    "    #return response.get(\"choices\")[0].get(\"message\").get(\"content\")\n",
    "\n",
    "prompt = \"\"\"I have a broken washing machine and I live in Southamption in the UK. \n",
    "What can I do to get it mended?  What trade do I need to call?\"\"\"\n",
    "#getPerplexityStreamingResponse(prompt, direction=GREAT_DETAIL)"
   ]
  }
 ],
 "metadata": {
  "kernelspec": {
   "display_name": "Python 3 (ipykernel)",
   "language": "python",
   "name": "python3"
  },
  "language_info": {
   "codemirror_mode": {
    "name": "ipython",
    "version": 3
   },
   "file_extension": ".py",
   "mimetype": "text/x-python",
   "name": "python",
   "nbconvert_exporter": "python",
   "pygments_lexer": "ipython3",
   "version": "3.9.2"
  }
 },
 "nbformat": 4,
 "nbformat_minor": 5
}
