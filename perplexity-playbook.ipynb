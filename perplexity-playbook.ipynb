{
 "cells": [
  {
   "cell_type": "markdown",
   "id": "419db21c-0a9d-4f4e-83bb-36f70b8fabe9",
   "metadata": {},
   "source": [
    "# Perplexity playbook"
   ]
  },
  {
   "cell_type": "markdown",
   "id": "c71d82e1-e147-495e-b6a9-3acccdc16e5c",
   "metadata": {
    "jp-MarkdownHeadingCollapsed": true,
    "tags": []
   },
   "source": [
    "<p>\n",
    "Mal Minhas, v0.5<br>\n",
    "01.08.24\n",
    "</p>\n",
    "<p>\n",
    "<h4>Versions</h4>\n",
    "<ul>\n",
    "<li><b>v0.3</b>: 15.01.24. First version</li>\n",
    "<li><b>v0.4</b>: 02.06.24. Updated for latest Perplexity API</li>\n",
    "<li><b>v0.5</b>: 01.08.24. Updated again for latest Perplexity API and llama 3.1 support</li>\n",
    "</ul>\n",
    "</p>"
   ]
  },
  {
   "cell_type": "markdown",
   "id": "802262f0-12b1-4bf4-b84a-906dcb938f9a",
   "metadata": {
    "tags": []
   },
   "source": [
    "## 1. Introduction"
   ]
  },
  {
   "cell_type": "markdown",
   "id": "1d30ba74-dd1d-4f40-8032-d97146a56891",
   "metadata": {},
   "source": [
    "Perplexity is an intelligent search engine with a chatbot sytle interface that leverages popular AI models to offer comprehensive answers to user inquiries.  It is able to search the internet to provide real-time information via a friendly user experience that includes native mobile apps.  The tool is specifically designed to perform as a research companion providing links to underlying source articles unlike ChatGPT in default mode.  Perplexity comes with an OpenAI-compliant API called [`pplx-api`](https://blog.perplexity.ai/blog/introducing-pplx-api) which was introduced in October 2023.  See [here](https://docs.perplexity.ai/docs/getting-started) for a guide on how to set up an API key and get started with `pplx-api` per the documetnation [here](https://docs.perplexity.ai/).  Perplexity regularly update the model support for this API and at the time of writing the latest and greatest supported model is `llama-3.1`.  The following examples assume you have set up the API key in an environment variable called `PERPLEXITY_API_KEY`."
   ]
  },
  {
   "cell_type": "markdown",
   "id": "decf70c0-bd76-4eab-8f0c-c73b7e3e9ca6",
   "metadata": {},
   "source": [
    "Supported models are [as follows](https://docs.perplexity.ai/docs/model-cards):\n",
    "```\n",
    "Perplexity Models\n",
    "Model\tParameter Count\tContext Length\tModel Type\n",
    "llama-3-sonar-small-32k-online*\t8B\t28,000\tChat Completion\n",
    "llama-3-sonar-small-32k-chat*\t8B\t32,768\tChat Completion\n",
    "llama-3-sonar-large-32k-online*\t70B\t28,000\tChat Completion\n",
    "llama-3-sonar-large-32k-chat*\t70B\t32,768\tChat Completion\n",
    "llama-3.1-sonar-small-128k-online\t8B\t127,072\tChat Completion\n",
    "llama-3.1-sonar-small-128k-chat\t8B\t131,072\tChat Completion\n",
    "llama-3.1-sonar-large-128k-online\t70B\t127,072\tChat Completion\n",
    "llama-3.1-sonar-large-128k-chat\t70B\t131,072\tChat Completion\n",
    "\n",
    "Open-Source Models\n",
    "Where possible, we try to match the Hugging Face implementation.\n",
    "Model\tParameter Count\tContext Length\tModel Type\n",
    "llama-3-8b-instruct*\t8B\t8,192\tChat Completion\n",
    "llama-3-70b-instruct*\t70B\t8,192\tChat Completion\n",
    "mixtral-8x7b-instruct*\t8x7B\t16,384\tChat Completion\n",
    "llama-3.1-8b-instruct\t8B\t131,072\tChat Completion\n",
    "llama-3.1-70b-instruct\t70B\t131,072\tChat Completion\n",
    "\n",
    "* All these models will be deprecated on August 12 2024.\n",
    "```"
   ]
  },
  {
   "cell_type": "markdown",
   "id": "f0f67141-26d5-4317-b863-e996d8397894",
   "metadata": {},
   "source": [
    "The only API function currently supported is on `chat_completions` documented [here](https://docs.perplexity.ai/reference/post_chat_completions).  The next section outlines how to use it."
   ]
  },
  {
   "cell_type": "markdown",
   "id": "2e448db2-9950-4092-8d86-cb2ffad33c8b",
   "metadata": {},
   "source": [
    "## 2. Basic Usage"
   ]
  },
  {
   "cell_type": "markdown",
   "id": "b4d6a2db-1f2a-4c0d-a471-8c9f5242c89a",
   "metadata": {},
   "source": [
    "Let's start with a few basics including a utility function to render text for display in Jupyter:"
   ]
  },
  {
   "cell_type": "code",
   "execution_count": 1,
   "id": "08b053ca-d2ba-4d04-85a0-d8d20f59ce4a",
   "metadata": {},
   "outputs": [],
   "source": [
    "import os\n",
    "import requests\n",
    "from IPython.display import display, Markdown\n",
    "\n",
    "def renderCompletion(text: str):\n",
    "    display(Markdown(text))\n",
    "    \n",
    "API_KEY = os.environ.get('PERPLEXITY_API_KEY')\n",
    "DEFAULT_MODEL = 'llama-3.1-sonar-small-128k-online'\n",
    "DEFAULT_TOKENS = 1024\n",
    "CONCISE_DETAIL = 'Be precise and concise.'\n",
    "MID_LEVEL_DETAIL = 'Explain in a few sentences.'\n",
    "GREAT_DETAIL = 'Explain in a lot of detail.'\n",
    "POLITE_DETAIL = 'You are an artificial intelligence assistant and you need to engage in a helpful, detailed, polite conversation with a user.'\n",
    "DEFAULT_TEMP = 0.0"
   ]
  },
  {
   "cell_type": "markdown",
   "id": "89c761bc-e7bd-4cc2-a49c-db21c99047ea",
   "metadata": {},
   "source": [
    "The following is a convenience function that wraps the Perplexity API allowing different models to be used and also differing levels of depth of response detail:"
   ]
  },
  {
   "cell_type": "code",
   "execution_count": 2,
   "id": "e429ee1e-712b-4d36-9ca8-f680b08232d0",
   "metadata": {},
   "outputs": [],
   "source": [
    "def getPerplexityResponse(question:str, model:str=DEFAULT_MODEL, direction:str=MID_LEVEL_DETAIL, max_tokens:int=DEFAULT_TOKENS, temperature:float=DEFAULT_TEMP) -> str:\n",
    "    url = \"https://api.perplexity.ai/chat/completions\"\n",
    "    payload = {\n",
    "        \"model\": model,\n",
    "        \"stream\": False,\n",
    "        \"max_tokens\": max_tokens,\n",
    "        \"temperature\": temperature,\n",
    "        \"messages\": [\n",
    "            {\n",
    "                \"role\": \"system\",\n",
    "                \"content\": f\"{direction}\"\n",
    "            },\n",
    "            {\n",
    "                \"role\": \"user\",\n",
    "                \"content\": question\n",
    "            }\n",
    "        ]\n",
    "    }\n",
    "    headers = {\n",
    "        \"accept\": \"application/json\",\n",
    "        \"content-type\": \"application/json\",\n",
    "        \"Authorization\": f\"Bearer {API_KEY}\",\n",
    "    }\n",
    "    r = requests.post(url, json=payload, headers=headers)\n",
    "    assert(r.status_code == 200)\n",
    "    return renderCompletion(r.json().get(\"choices\")[0].get(\"message\").get(\"content\"))"
   ]
  },
  {
   "cell_type": "markdown",
   "id": "ef9feef6-aaba-433c-9b47-2985b031c9a5",
   "metadata": {},
   "source": [
    "Let's test the function on an example query using the default `llama-3.1-sonar-small-128k-online` model and then `llama-3.1-8b-instruct`.  Note the differences in response timing:"
   ]
  },
  {
   "cell_type": "code",
   "execution_count": 3,
   "id": "66286a1c-026e-47e5-900e-99e670d54db6",
   "metadata": {},
   "outputs": [
    {
     "data": {
      "text/markdown": [
       "To get your broken washing machine repaired in Southampton, UK, you can contact one of the following appliance repair services:\n",
       "\n",
       "1. **Hedge End Domestics**: They offer a same or next-day repair service for various appliances, including washing machines. You can call them at 01489 782 072 or visit their website for more information.\n",
       "\n",
       "2. **Southampton Appliance Repairs**: This service has over 15 years of experience and works with major manufacturers. They offer a fast, professional, and guaranteed repair service. You can call them at 02380 012208 or visit their website for more details.\n",
       "\n",
       "3. **Go Assist**: They provide affordable fixed-price repairs for washing machines and have a nationwide network of reliable engineers. You can book a repair online or call them at 0333 733 1234.\n",
       "\n",
       "These services can help you get your washing machine repaired efficiently and effectively."
      ],
      "text/plain": [
       "<IPython.core.display.Markdown object>"
      ]
     },
     "metadata": {},
     "output_type": "display_data"
    },
    {
     "name": "stdout",
     "output_type": "stream",
     "text": [
      "CPU times: user 12 ms, sys: 3.41 ms, total: 15.4 ms\n",
      "Wall time: 2.99 s\n"
     ]
    }
   ],
   "source": [
    "%%time\n",
    "\n",
    "prompt = \"\"\"I have a broken washing machine and I live in Southamption in the UK. \n",
    "What can I do to get it mended?  What trade do I need to call?\"\"\"\n",
    "getPerplexityResponse(prompt)"
   ]
  },
  {
   "cell_type": "code",
   "execution_count": 4,
   "id": "2cc80f9f-1aff-4921-bcef-cabdb74eeb54",
   "metadata": {},
   "outputs": [
    {
     "data": {
      "text/markdown": [
       "Sorry to hear that your washing machine is broken!\n",
       "\n",
       "In the UK, you'll want to call a professional appliance repair service to fix your washing machine. You can search online for \"washing machine repair Southamption\" or \"appliance repair Southamption\" to find local companies that offer this service.\n",
       "\n",
       "Typically, you'll want to contact a:\n",
       "\n",
       "* Appliance repair engineer (also known as a white goods repair engineer)\n",
       "* Domestic appliance repair service\n",
       "* Washing machine repair specialist\n",
       "\n",
       "These professionals will send someone to assess and fix your washing machine at your home. You can also check online review sites such as Trustpilot or Google Reviews to find a reputable and reliable repair service in your area."
      ],
      "text/plain": [
       "<IPython.core.display.Markdown object>"
      ]
     },
     "metadata": {},
     "output_type": "display_data"
    },
    {
     "name": "stdout",
     "output_type": "stream",
     "text": [
      "CPU times: user 9.93 ms, sys: 3.38 ms, total: 13.3 ms\n",
      "Wall time: 1.31 s\n"
     ]
    }
   ],
   "source": [
    "%%time\n",
    "\n",
    "getPerplexityResponse(prompt, model='llama-3.1-8b-instruct')"
   ]
  },
  {
   "cell_type": "code",
   "execution_count": 5,
   "id": "b25a8b4b-9e7b-4ebd-a73d-5814167e75ad",
   "metadata": {},
   "outputs": [
    {
     "data": {
      "text/markdown": [
       "I'm so sorry to hear that your washing machine is broken Don't worry, I'm here to help you get it fixed.\n",
       "\n",
       "In the UK, the trade you'll need to call is an appliance repair technician, specifically a washing machine repair specialist. They will be able to diagnose the issue and fix it for you.\n",
       "\n",
       "Here are a few options to consider:\n",
       "\n",
       "1. **Local appliance repair services**: You can search online for appliance repair services in Southampton. Websites like Rated People, MyBuilder, or Checkatrade can connect you with local, vetted tradespeople who specialize in washing machine repairs.\n",
       "2. **Manufacturer's authorized repair service**: If your washing machine is still under warranty or you want to use the manufacturer's authorized repair service, you can contact the manufacturer's customer support to find a local authorized repair center.\n",
       "3. **Independent repair shops**: You can also search for independent repair shops in Southampton that specialize in appliance repairs. They may offer more competitive pricing and flexible appointment times.\n",
       "4. **National repair companies**: Companies like AO Repair, Currys PC World Repair, or Hughes Repair offer appliance repair services across the UK, including in Southampton.\n",
       "\n",
       "Before calling a repair service, it's a good idea to:\n",
       "\n",
       "* Check your warranty to see if it's still valid and what's covered.\n",
       "* Gather information about the issue with your washing machine, such as error codes or symptoms.\n",
       "* Get quotes from multiple repair services to compare prices and services.\n",
       "\n",
       "When you call a repair service, be sure to ask about their:\n",
       "\n",
       "* Experience with washing machine repairs\n",
       "* Availability and appointment times\n",
       "* Pricing and any additional costs\n",
       "* Warranty or guarantee on their work\n",
       "\n",
       "I hope this helps you get your washing machine fixed quickly and efficiently"
      ],
      "text/plain": [
       "<IPython.core.display.Markdown object>"
      ]
     },
     "metadata": {},
     "output_type": "display_data"
    },
    {
     "name": "stdout",
     "output_type": "stream",
     "text": [
      "CPU times: user 8.51 ms, sys: 2.76 ms, total: 11.3 ms\n",
      "Wall time: 2.54 s\n"
     ]
    }
   ],
   "source": [
    "%%time\n",
    "\n",
    "getPerplexityResponse(prompt, model='llama-3.1-8b-instruct', direction=POLITE_DETAIL)"
   ]
  },
  {
   "cell_type": "code",
   "execution_count": 6,
   "id": "1569eb3f-9dac-4f47-9a80-02babdeb6d57",
   "metadata": {},
   "outputs": [
    {
     "data": {
      "text/markdown": [
       "I understand you have a broken washing machine and live in Southampton, UK. There are several options you can consider to get it repaired:\n",
       "\n",
       "1. **Domestic Appliance Repair Services**:\n",
       "   - **Hedge End Domestics**: This is a family-run business with over 35 years of experience in domestic appliance repairs. They offer same or next-day service and carry spare parts for major brands. You can contact them at 01489 782 072 or visit their website for more information.\n",
       "\n",
       "2. **Southampton Appliance Repairs**: This service has over 15 years of experience and works with major manufacturers. They offer a fast, professional, and guaranteed repair service. You can call them at 02380 012208 or visit their website for more details.\n",
       "\n",
       "3. **Go Assist**: This company offers affordable fixed prices for washing machine repairs and has a nationwide network of reliable engineers. They provide same-day or next-day services and are available in Southampton. You can book online or call them at 0333 733 1234.\n",
       "\n",
       "4. **NAC Repair**: While primarily focused on domestic appliances, they also offer repair services in Southampton. They have a network of experienced engineers and provide a repair guarantee. You can contact them at 0333 016 9622 or visit their website for more information.\n",
       "\n",
       "Each of these services offers a reliable and efficient way to get your washing machine repaired. You can choose the one that best fits your needs based on their availability, pricing, and reputation."
      ],
      "text/plain": [
       "<IPython.core.display.Markdown object>"
      ]
     },
     "metadata": {},
     "output_type": "display_data"
    },
    {
     "name": "stdout",
     "output_type": "stream",
     "text": [
      "CPU times: user 9.98 ms, sys: 3.11 ms, total: 13.1 ms\n",
      "Wall time: 3.92 s\n"
     ]
    }
   ],
   "source": [
    "%%time\n",
    "\n",
    "getPerplexityResponse(prompt, model='llama-3.1-sonar-small-128k-online', direction=POLITE_DETAIL)"
   ]
  },
  {
   "cell_type": "markdown",
   "id": "f279a8ba-f0bf-4b09-9ae2-9ccf478e47f8",
   "metadata": {},
   "source": [
    "Let's see how it handles a query with a more detailed response:"
   ]
  },
  {
   "cell_type": "code",
   "execution_count": 7,
   "id": "a806519b-adc5-40e6-b1f3-89e25d29bde8",
   "metadata": {},
   "outputs": [
    {
     "data": {
      "text/markdown": [
       "To fix a broken garden gate that is no longer closing properly, you would typically need to call a carpenter or a handyman. These professionals are skilled in working with wood and metal, which are common materials used in garden gates. They can assess the issue, identify the problem, and perform the necessary repairs to ensure the gate functions correctly again.\n",
       "\n",
       "Here are some steps you might follow to fix a sagging or misaligned garden gate:\n",
       "\n",
       "1. **Identify the Problem**: Determine the cause of the gate's malfunction. Common issues include sagging, misalignment, worn-out hinges, or damaged latch mechanisms.\n",
       "\n",
       "2. **Assess the Gate**: Inspect the gate for any visible damage or wear. Check if the hinges are loose or if the latch is not engaging properly.\n",
       "\n",
       "3. **Gather Tools and Materials**: Collect the necessary tools and materials, such as a screwdriver, adjustable wrench, level, tape measure, hammer, saw, pliers, lubricant (like WD-40), and replacement parts (hinges, latches, screws).\n",
       "\n",
       "4. **Support the Gate**: If the gate is sagging, support it with temporary bracing to prevent further damage while you work on it.\n",
       "\n",
       "5. **Remove the Gate**: Unscrew and lift the gate off the hinges to inspect for damage. Clean the hinge area to ensure proper alignment.\n",
       "\n",
       "6. **Repair Broken Parts**: Fix any broken parts, such as hinges or the latch mechanism. Replace damaged wood or metal components if necessary.\n",
       "\n",
       "7. **Realign and Reattach**: Align the gate properly and mark the hinge positions. Securely reattach the hinges and latch, ensuring they are tightened correctly.\n",
       "\n",
       "8. **Test the Gate**: Open and close the gate several times to check its movement and ensure it is level. Test the latch to make sure it engages properly.\n",
       "\n",
       "9. **Make Adjustments**: If necessary, make adjustments to the gate's alignment or tighten any loose screws. Apply lubricant to moving parts to keep them working smoothly.\n",
       "\n",
       "By following these steps and calling a carpenter or handyman if needed, you can effectively fix a broken garden gate that is no longer closing properly."
      ],
      "text/plain": [
       "<IPython.core.display.Markdown object>"
      ]
     },
     "metadata": {},
     "output_type": "display_data"
    },
    {
     "name": "stdout",
     "output_type": "stream",
     "text": [
      "CPU times: user 9.59 ms, sys: 4.77 ms, total: 14.4 ms\n",
      "Wall time: 4.6 s\n"
     ]
    }
   ],
   "source": [
    "%%time\n",
    "\n",
    "prompt = \"\"\"\"I have a broken garden gate which is no longer closing properly.  \n",
    "What trade do I need to call to fix it?\"\"\"\n",
    "getPerplexityResponse(prompt, model='llama-3.1-sonar-small-128k-online', direction=GREAT_DETAIL)"
   ]
  },
  {
   "cell_type": "markdown",
   "id": "4535bd91-d3a0-4032-b952-32d73a98f96e",
   "metadata": {},
   "source": [
    "## 3. Streaming interface"
   ]
  },
  {
   "cell_type": "markdown",
   "id": "94051f96-5242-44e8-a42b-b2b0c9d0aaef",
   "metadata": {},
   "source": [
    "This is an outline of how to build a streaming interface for Perplexity.  More work needs to be done to flesh it out."
   ]
  },
  {
   "cell_type": "code",
   "execution_count": 8,
   "id": "5138fc38-a51f-457e-9a7d-381c35f30699",
   "metadata": {},
   "outputs": [
    {
     "name": "stdout",
     "output_type": "stream",
     "text": [
      "CPU times: user 4 μs, sys: 1e+03 ns, total: 5 μs\n",
      "Wall time: 7.87 μs\n"
     ]
    }
   ],
   "source": [
    "%%time\n",
    "\n",
    "def getPerplexityStreamingResponse(question, model=DEFAULT_MODEL, direction=MID_LEVEL_DETAIL, max_tokens=DEFAULT_TOKENS, temperature=DEFAULT_TEMP):\n",
    "    url = \"https://api.perplexity.ai/chat/completions\"\n",
    "    payload = {\n",
    "        \"model\": model,\n",
    "        \"stream\": True,\n",
    "        \"max_tokens\": max_tokens,\n",
    "        \"temperature\": temperature,\n",
    "        \"messages\": [\n",
    "            {\n",
    "                \"role\": \"system\",\n",
    "                \"content\": direction,\n",
    "            },\n",
    "            {\n",
    "                \"role\": \"user\",\n",
    "                \"content\": question\n",
    "            }\n",
    "        ]\n",
    "    }\n",
    "    headers = {\n",
    "        \"accept\": \"application/json\",\n",
    "        \"content-type\": \"application/json\",\n",
    "        \"Authorization\": f\"Bearer {API_KEY}\",\n",
    "    }\n",
    "    print('start')\n",
    "    response_stream = requests.post(url, json=payload, headers=headers)\n",
    "    print('end')\n",
    "    for response in response_stream:\n",
    "        print(len(response))\n",
    "    #return response.get(\"choices\")[0].get(\"message\").get(\"content\")\n",
    "\n",
    "prompt = \"\"\"I have a broken washing machine and I live in Southamption in the UK. \n",
    "What can I do to get it mended?  What trade do I need to call?\"\"\"\n",
    "#getPerplexityStreamingResponse(prompt, direction=GREAT_DETAIL)"
   ]
  }
 ],
 "metadata": {
  "kernelspec": {
   "display_name": "Python 3 (ipykernel)",
   "language": "python",
   "name": "python3"
  },
  "language_info": {
   "codemirror_mode": {
    "name": "ipython",
    "version": 3
   },
   "file_extension": ".py",
   "mimetype": "text/x-python",
   "name": "python",
   "nbconvert_exporter": "python",
   "pygments_lexer": "ipython3",
   "version": "3.11.9"
  }
 },
 "nbformat": 4,
 "nbformat_minor": 5
}
