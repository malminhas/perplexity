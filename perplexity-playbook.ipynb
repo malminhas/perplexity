{
 "cells": [
  {
   "cell_type": "markdown",
   "id": "419db21c-0a9d-4f4e-83bb-36f70b8fabe9",
   "metadata": {},
   "source": [
    "# Perplexity playbook"
   ]
  },
  {
   "cell_type": "markdown",
   "id": "c71d82e1-e147-495e-b6a9-3acccdc16e5c",
   "metadata": {},
   "source": [
    "<p>\n",
    "Mal Minhas, v0.3<br>\n",
    "15.01.24\n",
    "</p>"
   ]
  },
  {
   "cell_type": "markdown",
   "id": "802262f0-12b1-4bf4-b84a-906dcb938f9a",
   "metadata": {},
   "source": [
    "## 1. Introduction"
   ]
  },
  {
   "cell_type": "markdown",
   "id": "1d30ba74-dd1d-4f40-8032-d97146a56891",
   "metadata": {},
   "source": [
    "Perplexity is an intelligent search engine with a chatbot sytle interface that leverages popular AI models to offer comprehensive answers to user inquiries.  It is able to search the internet to provide real-time information via a friendly user experience that includes native mobile apps.  The tool is specifically designed to perform as a research companion providing links to underlying source articles unlike ChatGPT in default mode.  Perplexity comes with an API called [`pplx-api`](https://blog.perplexity.ai/blog/introducing-pplx-api) which was introduced in October 2023.  See [here](https://docs.perplexity.ai/docs/getting-started) for a guide on how to set up an API key and get started with `pplx-api`.  The following examples assume you have set up the API key in an environment variable called `PERPLEXITY_API_KEY`."
   ]
  },
  {
   "cell_type": "markdown",
   "id": "decf70c0-bd76-4eab-8f0c-c73b7e3e9ca6",
   "metadata": {},
   "source": [
    "Supported models are [as follows](https://docs.perplexity.ai/docs/model-cards):\n",
    "```\n",
    "Model\t                  Context Length       Model Type\n",
    "codellama-34b-instruct\t      16384          Chat Completion\n",
    "llama-2-70b-chat               4096          Chat Completion\n",
    "mistral-7b-instruct [2]\t       4096 [1]      Chat Completion\n",
    "mixtral-8x7b-instruct\t       4096 [1]      Chat Completion\n",
    "pplx-7b-chat\t               8192          Chat Completion\n",
    "pplx-70b-chat\t               4096          Chat Completion\n",
    "pplx-7b-online\t               4096          Chat Completion\n",
    "pplx-70b-online\t               4096          Chat Completion\n",
    "\n",
    "[1] We will be increasing the context length of mistral-7b-instruct to 32k tokens (see roadmap).\n",
    "[2] This model refers to the v0.2 release of mistral-7b-instruct.\n",
    "```"
   ]
  },
  {
   "cell_type": "markdown",
   "id": "a28fc81f-6d15-48f6-89bc-d4ae9c33011a",
   "metadata": {},
   "source": [
    "Of these models, the response [here](https://docs.perplexity.ai/discuss/65b27c5fc46f38007527c07f) suggests you should use `pplx-7b-online` or `pplx-70b-online` for real-time data."
   ]
  },
  {
   "cell_type": "markdown",
   "id": "f0f67141-26d5-4317-b863-e996d8397894",
   "metadata": {},
   "source": [
    "The only API function currently supported is on `chat_completions` documented [here](https://docs.perplexity.ai/reference/post_chat_completions).  The next section outlines how to use it."
   ]
  },
  {
   "cell_type": "markdown",
   "id": "2e448db2-9950-4092-8d86-cb2ffad33c8b",
   "metadata": {},
   "source": [
    "## 2. Basic Usage"
   ]
  },
  {
   "cell_type": "markdown",
   "id": "b4d6a2db-1f2a-4c0d-a471-8c9f5242c89a",
   "metadata": {},
   "source": [
    "Let's start with a few basics including a utility function to render text for display in Jupyter:"
   ]
  },
  {
   "cell_type": "code",
   "execution_count": 2,
   "id": "08b053ca-d2ba-4d04-85a0-d8d20f59ce4a",
   "metadata": {},
   "outputs": [],
   "source": [
    "import os\n",
    "import requests\n",
    "from IPython.display import Markdown, display\n",
    "\n",
    "def renderCompletion(text: str):\n",
    "    display(Markdown(text))\n",
    "    \n",
    "API_KEY = os.environ.get(\"PERPLEXITY_API_KEY\")\n",
    "DEFAULT_MODEL = \"mistral-7b-instruct\"\n",
    "DEFAULT_TOKENS = 1024\n",
    "CONCISE_DETAIL = \"Be precise and concise.\"\n",
    "MID_LEVEL_DETAIL = \"Explain in a few sentences.\"\n",
    "GREAT_DETAIL = \"Explain in a lot of detail.\"\n",
    "POLITE_DETAIL = \"You are an artificial intelligence assistant and you need to engage in a helpful, detailed, polite conversation with a user.\"\n",
    "DEFAULT_TEMP = 0.0"
   ]
  },
  {
   "cell_type": "markdown",
   "id": "89c761bc-e7bd-4cc2-a49c-db21c99047ea",
   "metadata": {},
   "source": [
    "The following is a convenience function that wraps the Perplexity API allowing different models to be used and also differing levels of depth of response detail:"
   ]
  },
  {
   "cell_type": "code",
   "execution_count": 12,
   "id": "e429ee1e-712b-4d36-9ca8-f680b08232d0",
   "metadata": {},
   "outputs": [],
   "source": [
    "def getPerplexityResponse(question:str, model:str=DEFAULT_MODEL, direction:str=MID_LEVEL_DETAIL, max_tokens:int=DEFAULT_TOKENS, temperature:float=DEFAULT_TEMP) -> str:\n",
    "    url = \"https://api.perplexity.ai/chat/completions\"\n",
    "    payload = {\n",
    "        \"model\": model,\n",
    "        \"stream\": False,\n",
    "        \"max_tokens\": max_tokens,\n",
    "        \"temperature\": temperature,\n",
    "        \"messages\": [\n",
    "            {\n",
    "                \"role\": \"system\",\n",
    "                \"content\": f\"{direction}\"\n",
    "            },\n",
    "            {\n",
    "                \"role\": \"user\",\n",
    "                \"content\": question\n",
    "            }\n",
    "        ]\n",
    "    }\n",
    "    headers = {\n",
    "        \"accept\": \"application/json\",\n",
    "        \"content-type\": \"application/json\",\n",
    "        \"Authorization\": f\"Bearer {API_KEY}\",\n",
    "    }\n",
    "    r = requests.post(url, json=payload, headers=headers)\n",
    "    assert(r.status_code == 200)\n",
    "    return renderCompletion(r.json().get(\"choices\")[0].get(\"message\").get(\"content\"))"
   ]
  },
  {
   "cell_type": "markdown",
   "id": "ef9feef6-aaba-433c-9b47-2985b031c9a5",
   "metadata": {},
   "source": [
    "Let's test the function on an example query using the default Mistral 7b model and then Llama2.  Note the differences in response timing:"
   ]
  },
  {
   "cell_type": "code",
   "execution_count": 13,
   "id": "66286a1c-026e-47e5-900e-99e670d54db6",
   "metadata": {},
   "outputs": [
    {
     "data": {
      "text/markdown": [
       "In Southampton, UK, if you have a broken washing machine, you should call a professional appliance repair technician. They have the necessary skills and expertise to diagnose and fix common washing machine issues. You can look up local appliance repair services online or check directories like Yell or Thomson Local. Alternatively, you could contact a local appliance repair company, such as Southampton Appliance Repairs or A1 Appliance Repairs, for assistance. Make sure to describe the problem accurately when you call to help them prepare for the repair visit."
      ],
      "text/plain": [
       "<IPython.core.display.Markdown object>"
      ]
     },
     "metadata": {},
     "output_type": "display_data"
    },
    {
     "name": "stdout",
     "output_type": "stream",
     "text": [
      "CPU times: user 30.9 ms, sys: 9.89 ms, total: 40.8 ms\n",
      "Wall time: 1.28 s\n"
     ]
    }
   ],
   "source": [
    "%%time\n",
    "\n",
    "prompt = \"\"\"I have a broken washing machine and I live in Southamption in the UK. \n",
    "What can I do to get it mended?  What trade do I need to call?\"\"\"\n",
    "getPerplexityResponse(prompt)"
   ]
  },
  {
   "cell_type": "code",
   "execution_count": 14,
   "id": "2cc80f9f-1aff-4921-bcef-cabdb74eeb54",
   "metadata": {},
   "outputs": [
    {
     "data": {
      "text/markdown": [
       "If you have a broken washing machine in Southampton, UK, you can call a local appliance repair service or a professional washing machine technician to diagnose and fix the issue. You can search online for appliance repair services in your area or check online directories such as Yell or Checkatrade to find a reputable technician. Additionally, you can also contact the manufacturer's customer service number to see if they can provide assistance or recommend a repair service."
      ],
      "text/plain": [
       "<IPython.core.display.Markdown object>"
      ]
     },
     "metadata": {},
     "output_type": "display_data"
    },
    {
     "name": "stdout",
     "output_type": "stream",
     "text": [
      "CPU times: user 33.3 ms, sys: 3.25 ms, total: 36.5 ms\n",
      "Wall time: 2.33 s\n"
     ]
    }
   ],
   "source": [
    "%%time\n",
    "\n",
    "getPerplexityResponse(prompt, model='llama-2-70b-chat')"
   ]
  },
  {
   "cell_type": "code",
   "execution_count": 15,
   "id": "b25a8b4b-9e7b-4ebd-a73d-5814167e75ad",
   "metadata": {},
   "outputs": [
    {
     "data": {
      "text/markdown": [
       "I'm so sorry to hear that your washing machine is broken! There are a few options you can consider to get it mended.\n",
       "\n",
       "1. Contact the manufacturer: If you have purchased the washing machine from a reputable brand, you can contact their customer service department to inquire about repair options. They may be able to provide you with information on authorized repair centers or repair kits that can help you fix the machine yourself.\n",
       "2. Look for local appliance repair services: There may be local appliance repair services in your area that specialize in fixing washing machines. You can search online or check with local plumbers or electricians to find a reputable repair service.\n",
       "3. Check with your insurance provider: If you have home insurance, you may be able to file a claim for the repair costs. Contact your insurance provider to see if they cover appliance repairs and what the process is for filing a claim.\n",
       "4. Consider purchasing a new washing machine: If the repair costs are too high or you are unable to find a reliable repair service, it may be more cost-effective to purchase a new washing machine.\n",
       "\n",
       "In terms of the trade you need to call, it depends on the type of repair you need. If the repair is minor and you can fix it yourself, you may not need to call any trade. However, if the repair requires more extensive work, you may need to call a plumber or an appliance repair technician.\n",
       "\n",
       "I hope this information helps! If you have any further questions, please don't hesitate to ask."
      ],
      "text/plain": [
       "<IPython.core.display.Markdown object>"
      ]
     },
     "metadata": {},
     "output_type": "display_data"
    },
    {
     "name": "stdout",
     "output_type": "stream",
     "text": [
      "CPU times: user 33.1 ms, sys: 3.73 ms, total: 36.8 ms\n",
      "Wall time: 4.87 s\n"
     ]
    }
   ],
   "source": [
    "%%time\n",
    "\n",
    "getPerplexityResponse(prompt, model='codellama-34b-instruct', direction=POLITE_DETAIL)"
   ]
  },
  {
   "cell_type": "code",
   "execution_count": 16,
   "id": "1569eb3f-9dac-4f47-9a80-02babdeb6d57",
   "metadata": {},
   "outputs": [
    {
     "data": {
      "text/markdown": [
       "If you have a broken washing machine in Southampton, UK, you have a few options to get it repaired or disposed of:\n",
       "\n",
       "1. **Hire a professional repair service**: You can search for local washing machine repair services on websites like Angi. These services can help you diagnose the issue and provide a quote for the repair. Keep in mind that the service charge may be around $100 to $150.\n",
       "\n",
       "2. **Attempt a DIY repair**: If you're handy and the issue is minor, you might be able to fix the washing machine yourself. However, it's essential to be cautious when working with electrical wiring and appliance parts.\n",
       "\n",
       "3. **Sell the broken appliance**: You can try selling the broken washing machine for scrap metal or parts. Some used appliance stores may pay for a non-working washer, and you can also list the parts on platforms like eBay.\n",
       "\n",
       "4. **Donate or recycle**: If your washing machine is still in decent working order, you can donate it to a local charity or recycle it through a scrap metal yard or appliance store.\n",
       "\n",
       "Remember to be cautious when handling appliances and consider hiring a professional if you're unsure about the repair process."
      ],
      "text/plain": [
       "<IPython.core.display.Markdown object>"
      ]
     },
     "metadata": {},
     "output_type": "display_data"
    },
    {
     "name": "stdout",
     "output_type": "stream",
     "text": [
      "CPU times: user 24.4 ms, sys: 6.51 ms, total: 30.9 ms\n",
      "Wall time: 4.11 s\n"
     ]
    }
   ],
   "source": [
    "%%time\n",
    "\n",
    "getPerplexityResponse(prompt, model='pplx-7b-online', direction=POLITE_DETAIL)"
   ]
  },
  {
   "cell_type": "markdown",
   "id": "f279a8ba-f0bf-4b09-9ae2-9ccf478e47f8",
   "metadata": {},
   "source": [
    "Let's see how it handles a query with a more detailed response:"
   ]
  },
  {
   "cell_type": "code",
   "execution_count": 18,
   "id": "a806519b-adc5-40e6-b1f3-89e25d29bde8",
   "metadata": {},
   "outputs": [
    {
     "data": {
      "text/markdown": [
       "To fix a broken garden gate, you would typically need to call a handyman or a carpenter. These professionals are skilled in repairing and maintaining various types of structures, including gates. They can assess the damage, identify the cause of the problem, and provide a solution to fix the gate.\n",
       "\n",
       "Here are some steps to follow when dealing with a broken garden gate:\n",
       "\n",
       "1. **Inspect the gate**: Examine the gate to determine the extent of the damage. Look for any visible cracks, loose hinges, or broken parts.\n",
       "\n",
       "2. **Identify the cause**: Determine what caused the gate to break. It could be due to wear and tear, accidental damage, or a manufacturing defect.\n",
       "\n",
       "3. **Call a handyman or carpenter**: If you're not comfortable fixing the gate yourself, or if the damage is extensive, it's best to call a professional. A handyman or carpenter can assess the situation and provide a quote for the repair.\n",
       "\n",
       "4. **Get a quote**: Request a quote from the handyman or carpenter for the repair work. Make sure to ask about the cost, the time required for the repair, and any additional services they may offer.\n",
       "\n",
       "5. **Schedule the repair**: Once you've received a quote and are satisfied with the terms, schedule the repair. Make sure to communicate any specific requirements or preferences you have for the repair.\n",
       "\n",
       "6. **Monitor the progress**: Keep an eye on the progress of the repair work to ensure that it's being done correctly and to your satisfaction.\n",
       "\n",
       "7. **Test the gate**: After the repair is complete, test the gate to ensure it's functioning properly. If there are any issues, communicate them to the handyman or carpenter for further adjustments.\n",
       "\n",
       "Remember that the cost of the repair will depend on the extent of the damage and the materials needed for the repair. It's essential to get a quote from a professional to get an accurate estimate of the cost."
      ],
      "text/plain": [
       "<IPython.core.display.Markdown object>"
      ]
     },
     "metadata": {},
     "output_type": "display_data"
    },
    {
     "name": "stdout",
     "output_type": "stream",
     "text": [
      "CPU times: user 26.2 ms, sys: 11.9 ms, total: 38 ms\n",
      "Wall time: 2.77 s\n"
     ]
    }
   ],
   "source": [
    "%%time\n",
    "\n",
    "prompt = \"\"\"\"I have a broken garden gate which is no longer closing properly.  \n",
    "What trade do I need to call to fix it?\"\"\"\n",
    "getPerplexityResponse(prompt, model='pplx-7b-online', direction=GREAT_DETAIL)"
   ]
  },
  {
   "cell_type": "markdown",
   "id": "4535bd91-d3a0-4032-b952-32d73a98f96e",
   "metadata": {},
   "source": [
    "## 3. Streaming interface"
   ]
  },
  {
   "cell_type": "markdown",
   "id": "94051f96-5242-44e8-a42b-b2b0c9d0aaef",
   "metadata": {},
   "source": [
    "tbd"
   ]
  },
  {
   "cell_type": "code",
   "execution_count": 8,
   "id": "5138fc38-a51f-457e-9a7d-381c35f30699",
   "metadata": {},
   "outputs": [
    {
     "name": "stdout",
     "output_type": "stream",
     "text": [
      "CPU times: user 3 µs, sys: 0 ns, total: 3 µs\n",
      "Wall time: 3.81 µs\n"
     ]
    }
   ],
   "source": [
    "%%time\n",
    "\n",
    "def getPerplexityStreamingResponse(question, model=DEFAULT_MODEL, direction=MID_LEVEL_DETAIL, max_tokens=DEFAULT_TOKENS, temperature=DEFAULT_TEMP):\n",
    "    url = \"https://api.perplexity.ai/chat/completions\"\n",
    "    payload = {\n",
    "        \"model\": model,\n",
    "        \"stream\": True,\n",
    "        \"max_tokens\": max_tokens,\n",
    "        \"temperature\": temperature,\n",
    "        \"messages\": [\n",
    "            {\n",
    "                \"role\": \"system\",\n",
    "                \"content\": direction,\n",
    "            },\n",
    "            {\n",
    "                \"role\": \"user\",\n",
    "                \"content\": question\n",
    "            }\n",
    "        ]\n",
    "    }\n",
    "    headers = {\n",
    "        \"accept\": \"application/json\",\n",
    "        \"content-type\": \"application/json\",\n",
    "        \"Authorization\": f\"Bearer {API_KEY}\",\n",
    "    }\n",
    "    print('start')\n",
    "    response_stream = requests.post(url, json=payload, headers=headers)\n",
    "    print('end')\n",
    "    for response in response_stream:\n",
    "        print(len(response))\n",
    "    #return response.get(\"choices\")[0].get(\"message\").get(\"content\")\n",
    "\n",
    "prompt = \"\"\"I have a broken washing machine and I live in Southamption in the UK. \n",
    "What can I do to get it mended?  What trade do I need to call?\"\"\"\n",
    "#getPerplexityStreamingResponse(prompt, direction=GREAT_DETAIL)"
   ]
  }
 ],
 "metadata": {
  "kernelspec": {
   "display_name": "Python 3 (ipykernel)",
   "language": "python",
   "name": "python3"
  },
  "language_info": {
   "codemirror_mode": {
    "name": "ipython",
    "version": 3
   },
   "file_extension": ".py",
   "mimetype": "text/x-python",
   "name": "python",
   "nbconvert_exporter": "python",
   "pygments_lexer": "ipython3",
   "version": "3.12.1"
  }
 },
 "nbformat": 4,
 "nbformat_minor": 5
}
