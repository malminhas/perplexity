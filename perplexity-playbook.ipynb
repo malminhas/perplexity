{
 "cells": [
  {
   "cell_type": "markdown",
   "id": "419db21c-0a9d-4f4e-83bb-36f70b8fabe9",
   "metadata": {},
   "source": [
    "# Perplexity playbook"
   ]
  },
  {
   "cell_type": "markdown",
   "id": "c71d82e1-e147-495e-b6a9-3acccdc16e5c",
   "metadata": {
    "jp-MarkdownHeadingCollapsed": true,
    "tags": []
   },
   "source": [
    "<p>\n",
    "Mal Minhas, v0.7<br>\n",
    "25.01.25\n",
    "</p>\n",
    "<p>\n",
    "<h4>Versions</h4>\n",
    "<ul>\n",
    "<li><b>v0.3</b>: 15.01.24. First version</li>\n",
    "<li><b>v0.4</b>: 02.06.24. Updated for latest Perplexity API</li>\n",
    "<li><b>v0.5</b>: 01.08.24. Updated again for latest Perplexity API and llama 3.1 support</li>\n",
    "<li><b>v0.6</b>: 09.11.24. Updated to include support for retrieving citations</li>\n",
    "<li><b>v0.7</b>: 25.01.25. Updated to latest Perplexity models and added streaming support</li>\n",
    "</ul>\n",
    "</p>"
   ]
  },
  {
   "cell_type": "markdown",
   "id": "802262f0-12b1-4bf4-b84a-906dcb938f9a",
   "metadata": {
    "tags": []
   },
   "source": [
    "## 1. Introduction"
   ]
  },
  {
   "cell_type": "markdown",
   "id": "1d30ba74-dd1d-4f40-8032-d97146a56891",
   "metadata": {},
   "source": [
    "Perplexity is an intelligent search engine with a chatbot sytle interface that leverages popular AI models to offer comprehensive answers to user inquiries.  It is able to search the internet to provide real-time information via a friendly user experience that includes native mobile apps.  The tool is specifically designed to perform as a research companion providing links to underlying source articles unlike ChatGPT in default mode.  Perplexity comes with an OpenAI-compliant API called [`pplx-api`](https://blog.perplexity.ai/blog/introducing-pplx-api) which was introduced in October 2023.  See [here](https://docs.perplexity.ai/docs/getting-started) for a guide on how to set up an API key and get started with `pplx-api` per the documetnation [here](https://docs.perplexity.ai/).  Perplexity regularly update the model support for this API and at the time of writing the latest and greatest supported model is `llama-3.1`.  The following examples assume you have set up the API key in an environment variable called `PERPLEXITY_API_KEY`."
   ]
  },
  {
   "cell_type": "markdown",
   "id": "decf70c0-bd76-4eab-8f0c-c73b7e3e9ca6",
   "metadata": {},
   "source": [
    "Supported models are [as follows](https://docs.perplexity.ai/guides/model-cards):\n",
    "```\n",
    "Model\tContext Length\tModel Type\n",
    "sonar-pro\t200k\tChat Completion\n",
    "sonar\t127k\tChat Completion\n",
    "```"
   ]
  },
  {
   "cell_type": "markdown",
   "id": "f0f67141-26d5-4317-b863-e996d8397894",
   "metadata": {},
   "source": [
    "The only API function currently supported is on `chat_completions` documented [here](https://docs.perplexity.ai/reference/post_chat_completions).  The next section outlines how to use it."
   ]
  },
  {
   "cell_type": "markdown",
   "id": "2e448db2-9950-4092-8d86-cb2ffad33c8b",
   "metadata": {},
   "source": [
    "## 2. Basic Usage"
   ]
  },
  {
   "cell_type": "markdown",
   "id": "b4d6a2db-1f2a-4c0d-a471-8c9f5242c89a",
   "metadata": {},
   "source": [
    "Let's start with a few basics including a utility function to render text for display in Jupyter:"
   ]
  },
  {
   "cell_type": "code",
   "execution_count": 1,
   "id": "08b053ca-d2ba-4d04-85a0-d8d20f59ce4a",
   "metadata": {},
   "outputs": [],
   "source": [
    "import os\n",
    "import requests\n",
    "from IPython.display import display, Markdown\n",
    "\n",
    "def renderTextAsMarkdown(text: str):\n",
    "    display(Markdown(text))\n",
    "    \n",
    "API_KEY = os.environ.get('PERPLEXITY_API_KEY')\n",
    "DEFAULT_MODEL = 'sonar'\n",
    "DEFAULT_TOKENS = 1024\n",
    "CONCISE_DETAIL = 'Be precise and concise.'\n",
    "MID_LEVEL_DETAIL = 'Explain in a few sentences.'\n",
    "GREAT_DETAIL = 'Explain in a lot of detail.'\n",
    "POLITE_DETAIL = 'You are an artificial intelligence assistant and you need to engage in a helpful, detailed, polite conversation with a user.'\n",
    "DEFAULT_TEMP = 0.0"
   ]
  },
  {
   "cell_type": "markdown",
   "id": "89c761bc-e7bd-4cc2-a49c-db21c99047ea",
   "metadata": {},
   "source": [
    "The following is a convenience function that wraps the Perplexity API allowing different models to be used and also differing levels of depth of response detail:"
   ]
  },
  {
   "cell_type": "code",
   "execution_count": 2,
   "id": "e429ee1e-712b-4d36-9ca8-f680b08232d0",
   "metadata": {},
   "outputs": [],
   "source": [
    "def getPerplexityResponse(question:str, model:str=DEFAULT_MODEL, direction:str=MID_LEVEL_DETAIL, max_tokens:int=DEFAULT_TOKENS, temperature:float=DEFAULT_TEMP) -> str:\n",
    "    url = \"https://api.perplexity.ai/chat/completions\"\n",
    "    payload = {\n",
    "        \"model\": model,\n",
    "        \"stream\": False,\n",
    "        \"max_tokens\": max_tokens,\n",
    "        \"temperature\": temperature,\n",
    "        \"messages\": [\n",
    "            {\n",
    "                \"role\": \"system\",\n",
    "                \"content\": direction\n",
    "            },\n",
    "            {\n",
    "                \"role\": \"user\",\n",
    "                \"content\": question\n",
    "            }\n",
    "        ]\n",
    "    }\n",
    "    headers = {\n",
    "        \"accept\": \"application/json\",\n",
    "        \"content-type\": \"application/json\",\n",
    "        \"Authorization\": f\"Bearer {API_KEY}\",\n",
    "    }\n",
    "    r = requests.post(url, json=payload, headers=headers)\n",
    "    assert(r.status_code == 200)\n",
    "    return r.json()\n",
    "\n",
    "def renderResponse(d):\n",
    "    return renderTextAsMarkdown(d.get(\"choices\")[0].get(\"message\").get(\"content\"))\n",
    "\n",
    "def getModel(d):\n",
    "    return renderTextAsMarkdown(d.get(\"model\"))\n",
    "    \n",
    "def getCitations(d):\n",
    "    def formatReferences(url_list):\n",
    "        return [f\"[{i + 1}]: {url}\" for i, url in enumerate(url_list)]\n",
    "    for ref in formatReferences(d.get(\"citations\")):\n",
    "        print(ref)"
   ]
  },
  {
   "cell_type": "markdown",
   "id": "ef9feef6-aaba-433c-9b47-2985b031c9a5",
   "metadata": {},
   "source": [
    "Let's test the function on an example query using the default `llama-3.1-sonar-small-128k-online` model and then `llama-3.1-8b-instruct`.  Note the differences in response timing:"
   ]
  },
  {
   "cell_type": "code",
   "execution_count": 3,
   "id": "66286a1c-026e-47e5-900e-99e670d54db6",
   "metadata": {},
   "outputs": [
    {
     "data": {
      "text/markdown": [
       "To get your broken washing machine mended in Southampton, you should contact a professional appliance repair service. Trades such as appliance repair technicians or engineers are the best to call for this task. Companies like NAC and Go Assist offer reliable and fast washing machine repair services in Southampton, providing same-day or next-day appointments and covering a wide range of makes and models[1][2]. You can also consider contacting Harrap Domestic Appliances for comprehensive repair services[3]."
      ],
      "text/plain": [
       "<IPython.core.display.Markdown object>"
      ]
     },
     "metadata": {},
     "output_type": "display_data"
    },
    {
     "name": "stdout",
     "output_type": "stream",
     "text": [
      "CPU times: user 14.1 ms, sys: 7.09 ms, total: 21.2 ms\n",
      "Wall time: 3.39 s\n"
     ]
    }
   ],
   "source": [
    "%%time\n",
    "\n",
    "prompt = \"\"\"I have a broken washing machine and I live in Southamption in the UK. \n",
    "What can I do to get it mended?  What trade do I need to call?\"\"\"\n",
    "d = getPerplexityResponse(prompt)\n",
    "renderResponse(d)"
   ]
  },
  {
   "cell_type": "markdown",
   "id": "5d986e66-2d22-47a0-b895-52965bf859af",
   "metadata": {},
   "source": [
    "As of 09.11.24, Perplexity are offering citations as part of the API response.  We can pull them out as follows.  The URLs all work and point to valid companies that could help with this job:"
   ]
  },
  {
   "cell_type": "code",
   "execution_count": 4,
   "id": "de7c60f1-d226-4a41-bfa9-b203e96cce96",
   "metadata": {},
   "outputs": [
    {
     "name": "stdout",
     "output_type": "stream",
     "text": [
      "[1]: https://nacrepair.co.uk/appliance-repairs/washing-machine-repair/washing-machine-repair-southampton/\n",
      "[2]: https://go-assist.co.uk/appliance-repairs/washing-machine-repairs/washing-machine-repair-southampton\n",
      "[3]: https://www.harrapdomesticappliances.co.uk/p/appliances-repairs-and-spares\n",
      "[4]: https://www.southampton-appliance-repairs.co.uk/help/terms-conditions\n",
      "[5]: https://nacrepair.co.uk/appliance-repair/appliance-repair-southampton/\n"
     ]
    }
   ],
   "source": [
    "getCitations(d)"
   ]
  },
  {
   "cell_type": "code",
   "execution_count": 5,
   "id": "2cc80f9f-1aff-4921-bcef-cabdb74eeb54",
   "metadata": {},
   "outputs": [
    {
     "data": {
      "text/markdown": [
       "To get your washing machine repaired in Southampton, you should contact a professional appliance repair service. Trades such as appliance repair engineers or technicians are the ones you need to call. Companies like NAC, Go Assist, and Hedge End Domestics offer reliable and fast washing machine repair services in Southampton, often providing same or next-day visits[1][2][3]. They can diagnose and fix various issues with different types of washing machines."
      ],
      "text/plain": [
       "<IPython.core.display.Markdown object>"
      ]
     },
     "metadata": {},
     "output_type": "display_data"
    },
    {
     "name": "stdout",
     "output_type": "stream",
     "text": [
      "CPU times: user 11.9 ms, sys: 5.71 ms, total: 17.6 ms\n",
      "Wall time: 3.25 s\n"
     ]
    }
   ],
   "source": [
    "%%time\n",
    "\n",
    "renderResponse(getPerplexityResponse(prompt, model='sonar'))"
   ]
  },
  {
   "cell_type": "code",
   "execution_count": 6,
   "id": "b25a8b4b-9e7b-4ebd-a73d-5814167e75ad",
   "metadata": {},
   "outputs": [
    {
     "data": {
      "text/markdown": [
       "If you have a broken washing machine in Southampton, UK, you have several options to get it repaired. You'll want to call an appliance repair specialist or a washing machine repair service. Here are some steps you can take:\n",
       "\n",
       "1. Contact a local appliance repair service:\n",
       "Several companies in Southampton offer washing machine repair services. For example, NAC Repair provides same-day or next-day washing machine repairs in Southampton[1][7]. They have a network of engineers serving the area and can often complete repairs on the spot.\n",
       "\n",
       "2. Book a repair appointment:\n",
       "Many companies allow you to book repairs online or over the phone. NAC Repair, for instance, offers an online booking system for easy scheduling[7].\n",
       "\n",
       "3. Consider the repair costs:\n",
       "Most reputable companies will provide a free quote before starting any work. Some, like Go Assist, offer competitive and transparent pricing without hidden fees[3].\n",
       "\n",
       "4. Check for guarantees:\n",
       "Look for companies that offer guarantees on their work. For example, NAC backs their repairs with a guarantee, promising to fix any reoccurring faults free of charge[1].\n",
       "\n",
       "5. Ensure the repairer is experienced with your machine:\n",
       "Reputable repair services like NAC and Go Assist can handle all makes and models of washing machines, including popular brands like Bosch, Samsung, Hotpoint, and Indesit[1][3].\n",
       "\n",
       "6. Ask about same-day service:\n",
       "If your need is urgent, many companies offer same-day or next-day service. Go Assist, for instance, provides quick service to minimize appliance downtime[3].\n",
       "\n",
       "7. Check for additional services:\n",
       "Some companies, like Harrap Domestic Appliances, offer advice on upgrades if your washing machine is beyond repair[4].\n",
       "\n",
       "Remember to choose a licensed and insured repair service for your safety and peace of mind. If you're unsure about a company's credentials, don't hesitate to ask for proof of their qualifications and insurance."
      ],
      "text/plain": [
       "<IPython.core.display.Markdown object>"
      ]
     },
     "metadata": {},
     "output_type": "display_data"
    },
    {
     "name": "stdout",
     "output_type": "stream",
     "text": [
      "[1]: https://nacrepair.co.uk/appliance-repairs/washing-machine-repair/washing-machine-repair-southampton/\n",
      "[2]: https://hemiappliances.com/southampton-appliance-repair-pa-18966-southampton-pa-appliance-repair-southampton-pennsylvania-18966-southampton-appliance-repair-pennsylvania-southampton-18966-pa/\n",
      "[3]: https://go-assist.co.uk/appliance-repairs/washing-machine-repairs/washing-machine-repair-southampton\n",
      "[4]: https://www.harrapdomesticappliances.co.uk/p/appliances-repairs-and-spares\n",
      "[5]: https://appliancerepairsouthampton.ny-biz.co\n",
      "[6]: https://www.southampton-appliance-repairs.co.uk/help/terms-conditions\n",
      "[7]: https://nacrepair.co.uk/appliance-repair/appliance-repair-southampton/\n",
      "[8]: https://www.southamptonnyappliancerepair.com\n",
      "[9]: https://www.advancedappliancecare.co.uk/find-appliance-repair-specialist-can-trust/\n",
      "[10]: https://www.aaqualitydomesticappliances.co.uk\n"
     ]
    }
   ],
   "source": [
    "d = getPerplexityResponse(prompt, model='sonar-pro', direction=POLITE_DETAIL)\n",
    "renderResponse(d)\n",
    "getCitations(d)"
   ]
  },
  {
   "cell_type": "code",
   "execution_count": 7,
   "id": "1569eb3f-9dac-4f47-9a80-02babdeb6d57",
   "metadata": {},
   "outputs": [
    {
     "data": {
      "text/markdown": [
       "If you have a broken washing machine and live in Southampton, UK, there are several options to get it mended. Here are a few steps you can take:\n",
       "\n",
       "1. **Contact Local Appliance Repair Services:**\n",
       "   - **NAC Repair:** NAC offers same-day or next-day washing machine repairs in Southampton. They have a network of engineers who can diagnose and fix various types of washing machines, including front-loading, top-loading, semi-automatic, and fully automatic models[1].\n",
       "   - **Go Assist:** Go Assist provides trusted washing machine repair services in and around Southampton. They offer same or next-day service, competitive pricing, and a repair guarantee. Their engineers are experienced in repairing all makes and models of washing machines[3].\n",
       "   - **Harrap Domestic Appliances:** Harrap offers comprehensive and affordable washing machine repair services in Southampton. Their highly skilled team can diagnose and repair a wide range of washing machine issues[4].\n",
       "\n",
       "2. **Book a Repair Online:**\n",
       "   - You can book your repair online with NAC or Go Assist to ensure quick and reliable service.\n",
       "\n",
       "3. **Call for Immediate Assistance:**\n",
       "   - If you need immediate assistance, you can call NAC directly for same-day or next-day repairs, or contact Go Assist for their on-demand service.\n",
       "\n",
       "4. **Check Reviews and Guarantees:**\n",
       "   - Before choosing a service, check reviews and guarantees offered by each company to ensure you're getting reliable and high-quality service.\n",
       "\n",
       "5. **Additional Options:**\n",
       "   - If you prefer to contact a local service directly, you can also look up other local appliance repair services in Southampton, such as Raynor Appliance Service, which offers a one-year guarantee for parts and labor[5].\n",
       "\n",
       "By following these steps, you should be able to find a reliable and efficient solution to get your washing machine mended quickly."
      ],
      "text/plain": [
       "<IPython.core.display.Markdown object>"
      ]
     },
     "metadata": {},
     "output_type": "display_data"
    },
    {
     "name": "stdout",
     "output_type": "stream",
     "text": [
      "CPU times: user 12.8 ms, sys: 8.34 ms, total: 21.2 ms\n",
      "Wall time: 3.14 s\n"
     ]
    }
   ],
   "source": [
    "%%time\n",
    "\n",
    "renderResponse(getPerplexityResponse(prompt, model='llama-3.1-sonar-small-128k-online', direction=POLITE_DETAIL))"
   ]
  },
  {
   "cell_type": "markdown",
   "id": "f279a8ba-f0bf-4b09-9ae2-9ccf478e47f8",
   "metadata": {},
   "source": [
    "Let's see how it handles a query with a more detailed response:"
   ]
  },
  {
   "cell_type": "code",
   "execution_count": 8,
   "id": "a806519b-adc5-40e6-b1f3-89e25d29bde8",
   "metadata": {},
   "outputs": [
    {
     "data": {
      "text/markdown": [
       "To fix a broken garden gate that is no longer closing properly, you should call a gate repair technician. These professionals specialize in diagnosing and repairing issues with gates, including problems with hinges, latches, and the overall alignment of the gate.\n",
       "\n",
       "Here are some key points to consider:\n",
       "\n",
       "1. **Specialized Tools and Expertise**: A gate repair technician has the right tools and expertise to assess and fix the problem accurately. They can identify issues that might not be immediately apparent, such as worn-out hinges or misaligned posts, which can prevent the gate from closing properly[1][2].\n",
       "\n",
       "2. **Common Repairs**: The most common repairs for a sagging or misaligned gate include checking and adjusting the hinge system, ensuring that the gate is properly aligned, and possibly replacing damaged parts like hinges or latches[1][2][4].\n",
       "\n",
       "3. **DIY vs. Professional**: While some DIY guides are available for fixing a sagging gate, hiring a professional can ensure that the job is done correctly and safely. Professionals can also provide long-term solutions by addressing underlying issues that might cause future problems[2][4].\n",
       "\n",
       "4. **Cost Estimates**: It's a good idea to contact several gate repair professionals to get accurate cost estimates for your specific repair needs. The cost can vary based on the type of repair required, the materials needed, and the complexity of the job[1].\n",
       "\n",
       "By calling a gate repair technician, you can ensure that your garden gate is fixed efficiently and effectively, restoring its functionality and ensuring your garden remains secure and accessible."
      ],
      "text/plain": [
       "<IPython.core.display.Markdown object>"
      ]
     },
     "metadata": {},
     "output_type": "display_data"
    },
    {
     "name": "stdout",
     "output_type": "stream",
     "text": [
      "CPU times: user 11.3 ms, sys: 7.96 ms, total: 19.2 ms\n",
      "Wall time: 2.79 s\n"
     ]
    }
   ],
   "source": [
    "%%time\n",
    "\n",
    "prompt = \"\"\"\"I have a broken garden gate which is no longer closing properly.  \n",
    "What trade do I need to call to fix it?\"\"\"\n",
    "renderResponse(getPerplexityResponse(prompt, model='llama-3.1-sonar-small-128k-online', direction=GREAT_DETAIL))"
   ]
  },
  {
   "cell_type": "markdown",
   "id": "4112eaf9-92eb-4787-98df-8bde2090f637",
   "metadata": {},
   "source": [
    "## 3. Streaming interface"
   ]
  },
  {
   "cell_type": "markdown",
   "id": "18d6ce28-e34c-412e-b436-2415ec3f80f5",
   "metadata": {},
   "source": [
    "Leveraging the OpenAI interface:"
   ]
  },
  {
   "cell_type": "code",
   "execution_count": 9,
   "id": "10ee4b52-10cf-444d-80ec-ced285ec311c",
   "metadata": {},
   "outputs": [
    {
     "name": "stdout",
     "output_type": "stream",
     "text": [
      "The Milky Way galaxy contains approximately 100-400 billion stars[1][3][6]. This estimate is based on calculations of the galaxy's mass and the percentage of that mass made up of stars[6]. However, determining an exact number is challenging due to the difficulty in counting stars individually across such vast distances[3]. The range in estimates stems from uncertainties in factors like the average mass of stars and the total mass of the galaxy[6]. While this number is enormous, it's worth noting that the Milky Way is just one of an estimated 2 trillion galaxies in the observable universe[4].0: https://www.astronomy.com/science/astro-for-kids-how-many-stars-are-there-in-space/\n",
      "1: https://www.littlepassports.com/blog/space/how-many-stars-are-in-the-universe/\n",
      "2: https://www.space.com/25959-how-many-stars-are-in-the-milky-way.html\n",
      "3: https://bigthink.com/starts-with-a-bang/how-many-stars/\n",
      "4: https://www.youtube.com/watch?v=Py2nZYmvTKg\n",
      "5: https://asd.gsfc.nasa.gov/blueshift/index.php/2015/07/22/how-many-stars-in-the-milky-way/\n",
      "6: https://imagine.gsfc.nasa.gov/science/objects/milkyway1.html\n",
      "7: https://en.wikipedia.org/wiki/Milky_Way\n",
      "8: https://www.astronomy.com/science/astro-for-kids-how-many-stars-are-there-in-space/\n",
      "9: https://www.littlepassports.com/blog/space/how-many-stars-are-in-the-universe/\n",
      "10: https://www.space.com/25959-how-many-stars-are-in-the-milky-way.html\n",
      "11: https://bigthink.com/starts-with-a-bang/how-many-stars/\n",
      "12: https://www.youtube.com/watch?v=Py2nZYmvTKg\n",
      "13: https://asd.gsfc.nasa.gov/blueshift/index.php/2015/07/22/how-many-stars-in-the-milky-way/\n",
      "14: https://imagine.gsfc.nasa.gov/science/objects/milkyway1.html\n",
      "15: https://en.wikipedia.org/wiki/Milky_Way\n",
      "16: https://www.astronomy.com/science/astro-for-kids-how-many-stars-are-there-in-space/\n",
      "17: https://www.littlepassports.com/blog/space/how-many-stars-are-in-the-universe/\n",
      "18: https://www.space.com/25959-how-many-stars-are-in-the-milky-way.html\n",
      "19: https://bigthink.com/starts-with-a-bang/how-many-stars/\n",
      "20: https://www.youtube.com/watch?v=Py2nZYmvTKg\n",
      "21: https://asd.gsfc.nasa.gov/blueshift/index.php/2015/07/22/how-many-stars-in-the-milky-way/\n",
      "22: https://imagine.gsfc.nasa.gov/science/objects/milkyway1.html\n",
      "23: https://en.wikipedia.org/wiki/Milky_Way\n",
      "24: https://www.astronomy.com/science/astro-for-kids-how-many-stars-are-there-in-space/\n",
      "25: https://www.littlepassports.com/blog/space/how-many-stars-are-in-the-universe/\n",
      "26: https://www.space.com/25959-how-many-stars-are-in-the-milky-way.html\n",
      "27: https://bigthink.com/starts-with-a-bang/how-many-stars/\n",
      "28: https://www.youtube.com/watch?v=Py2nZYmvTKg\n",
      "29: https://asd.gsfc.nasa.gov/blueshift/index.php/2015/07/22/how-many-stars-in-the-milky-way/\n",
      "30: https://imagine.gsfc.nasa.gov/science/objects/milkyway1.html\n",
      "31: https://en.wikipedia.org/wiki/Milky_Way\n",
      "32: https://www.astronomy.com/science/astro-for-kids-how-many-stars-are-there-in-space/\n",
      "33: https://www.littlepassports.com/blog/space/how-many-stars-are-in-the-universe/\n",
      "34: https://www.space.com/25959-how-many-stars-are-in-the-milky-way.html\n",
      "35: https://bigthink.com/starts-with-a-bang/how-many-stars/\n",
      "36: https://www.youtube.com/watch?v=Py2nZYmvTKg\n",
      "37: https://asd.gsfc.nasa.gov/blueshift/index.php/2015/07/22/how-many-stars-in-the-milky-way/\n",
      "38: https://imagine.gsfc.nasa.gov/science/objects/milkyway1.html\n",
      "39: https://en.wikipedia.org/wiki/Milky_Way\n",
      "40: https://www.astronomy.com/science/astro-for-kids-how-many-stars-are-there-in-space/\n",
      "41: https://www.littlepassports.com/blog/space/how-many-stars-are-in-the-universe/\n",
      "42: https://www.space.com/25959-how-many-stars-are-in-the-milky-way.html\n",
      "43: https://bigthink.com/starts-with-a-bang/how-many-stars/\n",
      "44: https://www.youtube.com/watch?v=Py2nZYmvTKg\n",
      "45: https://asd.gsfc.nasa.gov/blueshift/index.php/2015/07/22/how-many-stars-in-the-milky-way/\n",
      "46: https://imagine.gsfc.nasa.gov/science/objects/milkyway1.html\n",
      "47: https://en.wikipedia.org/wiki/Milky_Way\n",
      "48: https://www.astronomy.com/science/astro-for-kids-how-many-stars-are-there-in-space/\n",
      "49: https://www.littlepassports.com/blog/space/how-many-stars-are-in-the-universe/\n",
      "50: https://www.space.com/25959-how-many-stars-are-in-the-milky-way.html\n",
      "51: https://bigthink.com/starts-with-a-bang/how-many-stars/\n",
      "52: https://www.youtube.com/watch?v=Py2nZYmvTKg\n",
      "53: https://asd.gsfc.nasa.gov/blueshift/index.php/2015/07/22/how-many-stars-in-the-milky-way/\n",
      "54: https://imagine.gsfc.nasa.gov/science/objects/milkyway1.html\n",
      "55: https://en.wikipedia.org/wiki/Milky_Way\n",
      "56: https://www.astronomy.com/science/astro-for-kids-how-many-stars-are-there-in-space/\n",
      "57: https://www.littlepassports.com/blog/space/how-many-stars-are-in-the-universe/\n",
      "58: https://www.space.com/25959-how-many-stars-are-in-the-milky-way.html\n",
      "59: https://bigthink.com/starts-with-a-bang/how-many-stars/\n",
      "60: https://www.youtube.com/watch?v=Py2nZYmvTKg\n",
      "61: https://asd.gsfc.nasa.gov/blueshift/index.php/2015/07/22/how-many-stars-in-the-milky-way/\n",
      "62: https://imagine.gsfc.nasa.gov/science/objects/milkyway1.html\n",
      "63: https://en.wikipedia.org/wiki/Milky_Way\n",
      "64: https://www.astronomy.com/science/astro-for-kids-how-many-stars-are-there-in-space/\n",
      "65: https://www.littlepassports.com/blog/space/how-many-stars-are-in-the-universe/\n",
      "66: https://www.space.com/25959-how-many-stars-are-in-the-milky-way.html\n",
      "67: https://bigthink.com/starts-with-a-bang/how-many-stars/\n",
      "68: https://www.youtube.com/watch?v=Py2nZYmvTKg\n",
      "69: https://asd.gsfc.nasa.gov/blueshift/index.php/2015/07/22/how-many-stars-in-the-milky-way/\n",
      "70: https://imagine.gsfc.nasa.gov/science/objects/milkyway1.html\n",
      "71: https://en.wikipedia.org/wiki/Milky_Way\n",
      "72: https://www.astronomy.com/science/astro-for-kids-how-many-stars-are-there-in-space/\n",
      "73: https://www.littlepassports.com/blog/space/how-many-stars-are-in-the-universe/\n",
      "74: https://www.space.com/25959-how-many-stars-are-in-the-milky-way.html\n",
      "75: https://bigthink.com/starts-with-a-bang/how-many-stars/\n",
      "76: https://www.youtube.com/watch?v=Py2nZYmvTKg\n",
      "77: https://asd.gsfc.nasa.gov/blueshift/index.php/2015/07/22/how-many-stars-in-the-milky-way/\n",
      "78: https://imagine.gsfc.nasa.gov/science/objects/milkyway1.html\n",
      "79: https://en.wikipedia.org/wiki/Milky_Way\n",
      "80: https://www.astronomy.com/science/astro-for-kids-how-many-stars-are-there-in-space/\n",
      "81: https://www.littlepassports.com/blog/space/how-many-stars-are-in-the-universe/\n",
      "82: https://www.space.com/25959-how-many-stars-are-in-the-milky-way.html\n",
      "83: https://bigthink.com/starts-with-a-bang/how-many-stars/\n",
      "84: https://www.youtube.com/watch?v=Py2nZYmvTKg\n",
      "85: https://asd.gsfc.nasa.gov/blueshift/index.php/2015/07/22/how-many-stars-in-the-milky-way/\n",
      "86: https://imagine.gsfc.nasa.gov/science/objects/milkyway1.html\n",
      "87: https://en.wikipedia.org/wiki/Milky_Way\n",
      "88: https://www.astronomy.com/science/astro-for-kids-how-many-stars-are-there-in-space/\n",
      "89: https://www.littlepassports.com/blog/space/how-many-stars-are-in-the-universe/\n",
      "90: https://www.space.com/25959-how-many-stars-are-in-the-milky-way.html\n",
      "91: https://bigthink.com/starts-with-a-bang/how-many-stars/\n",
      "92: https://www.youtube.com/watch?v=Py2nZYmvTKg\n",
      "93: https://asd.gsfc.nasa.gov/blueshift/index.php/2015/07/22/how-many-stars-in-the-milky-way/\n",
      "94: https://imagine.gsfc.nasa.gov/science/objects/milkyway1.html\n",
      "95: https://en.wikipedia.org/wiki/Milky_Way\n",
      "96: https://www.astronomy.com/science/astro-for-kids-how-many-stars-are-there-in-space/\n",
      "97: https://www.littlepassports.com/blog/space/how-many-stars-are-in-the-universe/\n",
      "98: https://www.space.com/25959-how-many-stars-are-in-the-milky-way.html\n",
      "99: https://bigthink.com/starts-with-a-bang/how-many-stars/\n",
      "100: https://www.youtube.com/watch?v=Py2nZYmvTKg\n",
      "101: https://asd.gsfc.nasa.gov/blueshift/index.php/2015/07/22/how-many-stars-in-the-milky-way/\n",
      "102: https://imagine.gsfc.nasa.gov/science/objects/milkyway1.html\n",
      "103: https://en.wikipedia.org/wiki/Milky_Way\n",
      "104: https://www.astronomy.com/science/astro-for-kids-how-many-stars-are-there-in-space/\n",
      "105: https://www.littlepassports.com/blog/space/how-many-stars-are-in-the-universe/\n",
      "106: https://www.space.com/25959-how-many-stars-are-in-the-milky-way.html\n",
      "107: https://bigthink.com/starts-with-a-bang/how-many-stars/\n",
      "108: https://www.youtube.com/watch?v=Py2nZYmvTKg\n",
      "109: https://asd.gsfc.nasa.gov/blueshift/index.php/2015/07/22/how-many-stars-in-the-milky-way/\n",
      "110: https://imagine.gsfc.nasa.gov/science/objects/milkyway1.html\n",
      "111: https://en.wikipedia.org/wiki/Milky_Way\n"
     ]
    }
   ],
   "source": [
    "import asyncio\n",
    "from openai import OpenAI\n",
    "from typing import List\n",
    "\n",
    "references = []\n",
    "\n",
    "async def getPerplexityResponseStreaming(question:str, references:List, direction:str=MID_LEVEL_DETAIL) -> str:\n",
    "    messages = [\n",
    "        {\n",
    "            \"role\": \"system\",\n",
    "            \"content\": (direction),\n",
    "        },\n",
    "        {   \n",
    "            \"role\": \"user\",\n",
    "            \"content\": (question),\n",
    "        },\n",
    "    ]\n",
    "    client = OpenAI(api_key=API_KEY, base_url=\"https://api.perplexity.ai\")\n",
    "    # chat completion with streaming\n",
    "    response_stream = client.chat.completions.create(\n",
    "        model=\"sonar-pro\",\n",
    "        messages=messages,\n",
    "        stream=True,\n",
    "    )\n",
    "    for response in response_stream:\n",
    "        if response.citations:\n",
    "            references += response.citations\n",
    "        yield response.choices[0].delta.content\n",
    "\n",
    "async def processStreamingResponse(prompt, references):\n",
    "    async for ref in getPerplexityResponseStreaming(prompt, references):\n",
    "        print(ref, end=\"\")  # Print each result as soon as it's yielded without adding newlines\n",
    "\n",
    "# Jupyter-specific way to run asyncio in a cell\n",
    "prompt = \"How many stars are there in our galaxy?\"\n",
    "\n",
    "# Use an event loop in Jupyter to run the async function\n",
    "await processStreamingResponse(prompt, references)\n",
    "for i,ref in enumerate(references):\n",
    "    print(f\"{i}: {ref}\")"
   ]
  }
 ],
 "metadata": {
  "kernelspec": {
   "display_name": "Python 3 (ipykernel)",
   "language": "python",
   "name": "python3"
  },
  "language_info": {
   "codemirror_mode": {
    "name": "ipython",
    "version": 3
   },
   "file_extension": ".py",
   "mimetype": "text/x-python",
   "name": "python",
   "nbconvert_exporter": "python",
   "pygments_lexer": "ipython3",
   "version": "3.11.11"
  }
 },
 "nbformat": 4,
 "nbformat_minor": 5
}
