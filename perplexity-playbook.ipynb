{
 "cells": [
  {
   "cell_type": "markdown",
   "id": "419db21c-0a9d-4f4e-83bb-36f70b8fabe9",
   "metadata": {},
   "source": [
    "# Perplexity playbook"
   ]
  },
  {
   "cell_type": "markdown",
   "id": "c71d82e1-e147-495e-b6a9-3acccdc16e5c",
   "metadata": {},
   "source": [
    "<p>\n",
    "Mal Minhas, v0.2<br>\n",
    "01.01.24\n",
    "</p>"
   ]
  },
  {
   "cell_type": "markdown",
   "id": "802262f0-12b1-4bf4-b84a-906dcb938f9a",
   "metadata": {},
   "source": [
    "## 1. Introduction"
   ]
  },
  {
   "cell_type": "markdown",
   "id": "1d30ba74-dd1d-4f40-8032-d97146a56891",
   "metadata": {},
   "source": [
    "Perplexity is an intelligent search engine with a chatbot sytle interface that leverages popular AI models to offer comprehensive answers to user inquiries.  It is able to search the internet to provide real-time information via a friendly user experience that includes native mobile apps.  The tool is specifically designed to perform as a research companion providing links to underlying source articles unlike ChatGPT in default mode.  Perplexity comes with a limited API."
   ]
  },
  {
   "cell_type": "markdown",
   "id": "decf70c0-bd76-4eab-8f0c-c73b7e3e9ca6",
   "metadata": {},
   "source": [
    "Supported models are [as follows](https://docs.perplexity.ai/docs/model-cards):\n",
    "```\n",
    "Model\t                  Context Length       Model Type\n",
    "codellama-34b-instruct\t      16384          Chat Completion\n",
    "llama-2-70b-chat               4096          Chat Completion\n",
    "mistral-7b-instruct [2]\t       4096 [1]      Chat Completion\n",
    "mixtral-8x7b-instruct\t       4096 [1]      Chat Completion\n",
    "pplx-7b-chat\t               8192          Chat Completion\n",
    "pplx-70b-chat\t               4096          Chat Completion\n",
    "pplx-7b-online\t               4096          Chat Completion\n",
    "pplx-70b-online\t               4096          Chat Completion\n",
    "\n",
    "[1] We will be increasing the context length of mistral-7b-instruct to 32k tokens (see roadmap).\n",
    "[2] This model refers to the v0.2 release of mistral-7b-instruct.\n",
    "```"
   ]
  },
  {
   "cell_type": "markdown",
   "id": "f0f67141-26d5-4317-b863-e996d8397894",
   "metadata": {},
   "source": [
    "The only API function currently supported is on `chat_completions` documented [here](https://docs.perplexity.ai/reference/post_chat_completions).  The next section outlines how to use it."
   ]
  },
  {
   "cell_type": "markdown",
   "id": "2e448db2-9950-4092-8d86-cb2ffad33c8b",
   "metadata": {},
   "source": [
    "## 2. Basic Usage"
   ]
  },
  {
   "cell_type": "markdown",
   "id": "b4d6a2db-1f2a-4c0d-a471-8c9f5242c89a",
   "metadata": {},
   "source": [
    "Let's start with a few basics:"
   ]
  },
  {
   "cell_type": "code",
   "execution_count": 1,
   "id": "08b053ca-d2ba-4d04-85a0-d8d20f59ce4a",
   "metadata": {},
   "outputs": [],
   "source": [
    "import os\n",
    "import requests\n",
    "\n",
    "API_KEY = os.environ.get(\"PERPLEXITY_API_KEY\")\n",
    "DEFAULT_MODEL = \"mistral-7b-instruct\"\n",
    "CONCISE_DETAIL = \"Be precise and concise.\"\n",
    "MID_LEVEL_DETAIL = \"Explain in a few sentences.\"\n",
    "GREAT_DETAIL = \"Explain in a lot of detail.\""
   ]
  },
  {
   "cell_type": "markdown",
   "id": "89c761bc-e7bd-4cc2-a49c-db21c99047ea",
   "metadata": {},
   "source": [
    "The following is a convenience function that wraps the Perplexity API allowing different models to be used and also differing levels of depth of response detail:"
   ]
  },
  {
   "cell_type": "code",
   "execution_count": 2,
   "id": "e429ee1e-712b-4d36-9ca8-f680b08232d0",
   "metadata": {},
   "outputs": [],
   "source": [
    "def getPerplexityResponse(question, model=DEFAULT_MODEL, instruction=MID_LEVEL_DETAIL):\n",
    "    url = \"https://api.perplexity.ai/chat/completions\"\n",
    "    payload = {\n",
    "        \"model\": model,\n",
    "        \"messages\": [\n",
    "            {\n",
    "                \"role\": \"system\",\n",
    "                \"content\": instruction,\n",
    "            },\n",
    "            {\n",
    "                \"role\": \"user\",\n",
    "                \"content\": question\n",
    "            }\n",
    "        ]\n",
    "    }\n",
    "    headers = {\n",
    "        \"accept\": \"application/json\",\n",
    "        \"content-type\": \"application/json\",\n",
    "        \"Authorization\": f\"Bearer {API_KEY}\",\n",
    "    }\n",
    "    response = requests.post(url, json=payload, headers=headers).json()\n",
    "    return response.get(\"choices\")[0].get(\"message\").get(\"content\")"
   ]
  },
  {
   "cell_type": "markdown",
   "id": "ef9feef6-aaba-433c-9b47-2985b031c9a5",
   "metadata": {},
   "source": [
    "Let's test the function on an example query using the default Mistral 7b model and then Llama2.  Note the differences in response timing:"
   ]
  },
  {
   "cell_type": "code",
   "execution_count": 3,
   "id": "66286a1c-026e-47e5-900e-99e670d54db6",
   "metadata": {},
   "outputs": [
    {
     "name": "stdout",
     "output_type": "stream",
     "text": [
      "CPU times: user 9.05 ms, sys: 5.64 ms, total: 14.7 ms\n",
      "Wall time: 1.49 s\n"
     ]
    },
    {
     "data": {
      "text/plain": [
       "\"In Southampton, UK, if you have a broken washing machine, you should consider calling a local appliance repair service. These professionals have the expertise to diagnose and fix various washing machine issues. Look up reputable repair companies online, check reviews, and ensure they are certified and insured. Contact them to schedule an appointment, provide them with the model number of your washing machine, and briefly explain the symptoms you've observed. Remember to ask about their estimated cost for the repair before they start the work\""
      ]
     },
     "execution_count": 3,
     "metadata": {},
     "output_type": "execute_result"
    }
   ],
   "source": [
    "%%time\n",
    "\n",
    "getPerplexityResponse(\"I have a broken washing machine and I live in Southamption in the UK.  What can I do to get it mended?  What trade do I need to call?\")"
   ]
  },
  {
   "cell_type": "code",
   "execution_count": 7,
   "id": "2cc80f9f-1aff-4921-bcef-cabdb74eeb54",
   "metadata": {},
   "outputs": [
    {
     "name": "stdout",
     "output_type": "stream",
     "text": [
      "CPU times: user 6.67 ms, sys: 5.52 ms, total: 12.2 ms\n",
      "Wall time: 2.61 s\n"
     ]
    },
    {
     "data": {
      "text/plain": [
       "\"You can call a professional appliance repair technician or a washing machine repair service in Southampton to fix your broken washing machine. You can search for local repair services online or look up reviews on websites like Checkatrade or Trustpilot to find a reputable technician. Alternatively, you can also contact the manufacturer's customer service number to see if they can provide assistance or recommend a repair service.\""
      ]
     },
     "execution_count": 7,
     "metadata": {},
     "output_type": "execute_result"
    }
   ],
   "source": [
    "%%time\n",
    "\n",
    "getPerplexityResponse(\"I have a broken washing machine and I live in Southamption in the UK.  What can I do to get it mended?  What trade do I need to call?\", model='llama-2-70b-chat')"
   ]
  },
  {
   "cell_type": "markdown",
   "id": "f279a8ba-f0bf-4b09-9ae2-9ccf478e47f8",
   "metadata": {},
   "source": [
    "Let's see how it handles a query with a more detailed response:"
   ]
  },
  {
   "cell_type": "code",
   "execution_count": 5,
   "id": "a806519b-adc5-40e6-b1f3-89e25d29bde8",
   "metadata": {},
   "outputs": [
    {
     "name": "stdout",
     "output_type": "stream",
     "text": [
      "CPU times: user 6.49 ms, sys: 5.72 ms, total: 12.2 ms\n",
      "Wall time: 4.93 s\n"
     ]
    },
    {
     "data": {
      "text/plain": [
       "\"To repair a broken garden gate and ensure it closes properly, you would typically need to hire the services of a tradesperson specializing in carpentry, fence repair, or gate installation and repair. happens, the gate may require various types of repairs ranging from simple adjustments to more complex replacements of broken components. Let me explain the potential issues in detail and what each trade might contribute to fixing them.\\n\\n1. Carpenter: A carpenter specializes in the designing, constructing, and repairing of wooden structures. If your garden gate is made of wood, a carpenter can assess the problem and perform necessary repairs. They can check for issues like warped wood, broken hinges, or loose screws that might prevent the gate from closing properly. They can also replace damaged wooden parts, tighten screws and nails, or make adjustments to the gate's frame, ensuring a secure and functional gate.\\n\\n2. Fence Repair Specialist: A fence repair specialist deals specifically with repairing and maintaining fences. They are familiar with various materials used in fencing, such as wood, vinyl, aluminum, or iron, and the specific issues that arise with each material. If your garden gate is part of a fence system, a fence repair specialist can identify and rectify underlying issues, such as faulty posts, inadequate support, or worn-out gate components. Besides, they can properly seal and paint the fence, making the entire fence system visually appealing and protected against the elements.\\n\\n3. Gate Installer/Repairer: A gate installer or repairer concentrates on gates, whether they are side-entry, swing gates, or sliding gates. These professionals specialize in damaged gate mechanisms, such as slamming, jerky motion, or difficulty opening or closing the gate. They are the go-to people for fixing issues like broken or misaligned hinges, worn-out wheels or rollers, and damaged latches or handles. Furthermore, they can upgrade your garden gate by installing an automated gate opener system or suggestion gate locks to secure the area.\\n\\nTo summarize, if you have a broken garden gate that needs repairing, you can either consider hiring a carpenter, a fence repair specialist, or a gate installer/repairer, depending on the extent of the damage and the materials used in the gate construction. These tradespeople can diagnose and repair the issues, ensuring your garden gate is once again functional and secure\""
      ]
     },
     "execution_count": 5,
     "metadata": {},
     "output_type": "execute_result"
    }
   ],
   "source": [
    "%%time\n",
    "\n",
    "getPerplexityResponse(\"I have a broken garden gate which is no longer closing properly.  What trade do I need to call to fix it?\", instruction=GREAT_DETAIL)"
   ]
  }
 ],
 "metadata": {
  "kernelspec": {
   "display_name": "Python 3 (ipykernel)",
   "language": "python",
   "name": "python3"
  },
  "language_info": {
   "codemirror_mode": {
    "name": "ipython",
    "version": 3
   },
   "file_extension": ".py",
   "mimetype": "text/x-python",
   "name": "python",
   "nbconvert_exporter": "python",
   "pygments_lexer": "ipython3",
   "version": "3.10.10"
  }
 },
 "nbformat": 4,
 "nbformat_minor": 5
}
