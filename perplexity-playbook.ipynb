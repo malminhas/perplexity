{
 "cells": [
  {
   "cell_type": "markdown",
   "id": "419db21c-0a9d-4f4e-83bb-36f70b8fabe9",
   "metadata": {},
   "source": [
    "# Perplexity playbook"
   ]
  },
  {
   "cell_type": "markdown",
   "id": "c71d82e1-e147-495e-b6a9-3acccdc16e5c",
   "metadata": {},
   "source": [
    "<p>\n",
    "Mal Minhas, v0.2<br>\n",
    "01.01.24\n",
    "</p>"
   ]
  },
  {
   "cell_type": "markdown",
   "id": "802262f0-12b1-4bf4-b84a-906dcb938f9a",
   "metadata": {},
   "source": [
    "## 1. Introduction"
   ]
  },
  {
   "cell_type": "markdown",
   "id": "1d30ba74-dd1d-4f40-8032-d97146a56891",
   "metadata": {},
   "source": [
    "Perplexity is an intelligent search engine with a chatbot sytle interface that leverages popular AI models to offer comprehensive answers to user inquiries.  It is able to search the internet to provide real-time information via a friendly user experience that includes native mobile apps.  The tool is specifically designed to perform as a research companion providing links to underlying source articles unlike ChatGPT in default mode.  Perplexity comes with a limited API.  See [here](https://docs.perplexity.ai/docs/getting-started) for a guide on how to set up an API key and get started with the API.  The following examples assume you have set up the API key in an environment variable called `PERPLEXITY_API_KEY`."
   ]
  },
  {
   "cell_type": "markdown",
   "id": "decf70c0-bd76-4eab-8f0c-c73b7e3e9ca6",
   "metadata": {},
   "source": [
    "Supported models are [as follows](https://docs.perplexity.ai/docs/model-cards):\n",
    "```\n",
    "Model\t                  Context Length       Model Type\n",
    "codellama-34b-instruct\t      16384          Chat Completion\n",
    "llama-2-70b-chat               4096          Chat Completion\n",
    "mistral-7b-instruct [2]\t       4096 [1]      Chat Completion\n",
    "mixtral-8x7b-instruct\t       4096 [1]      Chat Completion\n",
    "pplx-7b-chat\t               8192          Chat Completion\n",
    "pplx-70b-chat\t               4096          Chat Completion\n",
    "pplx-7b-online\t               4096          Chat Completion\n",
    "pplx-70b-online\t               4096          Chat Completion\n",
    "\n",
    "[1] We will be increasing the context length of mistral-7b-instruct to 32k tokens (see roadmap).\n",
    "[2] This model refers to the v0.2 release of mistral-7b-instruct.\n",
    "```"
   ]
  },
  {
   "cell_type": "markdown",
   "id": "f0f67141-26d5-4317-b863-e996d8397894",
   "metadata": {},
   "source": [
    "The only API function currently supported is on `chat_completions` documented [here](https://docs.perplexity.ai/reference/post_chat_completions).  The next section outlines how to use it."
   ]
  },
  {
   "cell_type": "markdown",
   "id": "2e448db2-9950-4092-8d86-cb2ffad33c8b",
   "metadata": {},
   "source": [
    "## 2. Basic Usage"
   ]
  },
  {
   "cell_type": "markdown",
   "id": "b4d6a2db-1f2a-4c0d-a471-8c9f5242c89a",
   "metadata": {},
   "source": [
    "Let's start with a few basics:"
   ]
  },
  {
   "cell_type": "code",
   "execution_count": 1,
   "id": "08b053ca-d2ba-4d04-85a0-d8d20f59ce4a",
   "metadata": {},
   "outputs": [],
   "source": [
    "import os\n",
    "import requests\n",
    "\n",
    "API_KEY = os.environ.get(\"PERPLEXITY_API_KEY\")\n",
    "DEFAULT_MODEL = \"mistral-7b-instruct\"\n",
    "CONCISE_DETAIL = \"Be precise and concise.\"\n",
    "MID_LEVEL_DETAIL = \"Explain in a few sentences.\"\n",
    "GREAT_DETAIL = \"Explain in a lot of detail.\""
   ]
  },
  {
   "cell_type": "markdown",
   "id": "89c761bc-e7bd-4cc2-a49c-db21c99047ea",
   "metadata": {},
   "source": [
    "The following is a convenience function that wraps the Perplexity API allowing different models to be used and also differing levels of depth of response detail:"
   ]
  },
  {
   "cell_type": "code",
   "execution_count": 2,
   "id": "e429ee1e-712b-4d36-9ca8-f680b08232d0",
   "metadata": {},
   "outputs": [],
   "source": [
    "def getPerplexityResponse(question, model=DEFAULT_MODEL, instruction=MID_LEVEL_DETAIL):\n",
    "    url = \"https://api.perplexity.ai/chat/completions\"\n",
    "    payload = {\n",
    "        \"model\": model,\n",
    "        \"messages\": [\n",
    "            {\n",
    "                \"role\": \"system\",\n",
    "                \"content\": instruction,\n",
    "            },\n",
    "            {\n",
    "                \"role\": \"user\",\n",
    "                \"content\": question\n",
    "            }\n",
    "        ]\n",
    "    }\n",
    "    headers = {\n",
    "        \"accept\": \"application/json\",\n",
    "        \"content-type\": \"application/json\",\n",
    "        \"Authorization\": f\"Bearer {API_KEY}\",\n",
    "    }\n",
    "    response = requests.post(url, json=payload, headers=headers).json()\n",
    "    return response.get(\"choices\")[0].get(\"message\").get(\"content\")"
   ]
  },
  {
   "cell_type": "markdown",
   "id": "ef9feef6-aaba-433c-9b47-2985b031c9a5",
   "metadata": {},
   "source": [
    "Let's test the function on an example query using the default Mistral 7b model and then Llama2.  Note the differences in response timing:"
   ]
  },
  {
   "cell_type": "code",
   "execution_count": 3,
   "id": "66286a1c-026e-47e5-900e-99e670d54db6",
   "metadata": {},
   "outputs": [
    {
     "name": "stdout",
     "output_type": "stream",
     "text": [
      "CPU times: user 8.88 ms, sys: 4.42 ms, total: 13.3 ms\n",
      "Wall time: 1.52 s\n"
     ]
    },
    {
     "data": {
      "text/plain": [
       "'A broken washing machine in Southampton, UK, can be repaired by a professional appliance repair technician. You can look up local appliance repair services in Southampton by searching online or checking local directories. Alternatively, you can contact a domestic appliance repair company that operates in the area. These technicians are trained to diagnose and fix various issues with washing machines, from simple parts replacement to more complex electrical faults. Book an appointment with them, and they will come to your home to assess and repair the problem on-site'"
      ]
     },
     "execution_count": 3,
     "metadata": {},
     "output_type": "execute_result"
    }
   ],
   "source": [
    "%%time\n",
    "\n",
    "getPerplexityResponse(\"I have a broken washing machine and I live in Southamption in the UK.  What can I do to get it mended?  What trade do I need to call?\")"
   ]
  },
  {
   "cell_type": "code",
   "execution_count": 4,
   "id": "2cc80f9f-1aff-4921-bcef-cabdb74eeb54",
   "metadata": {},
   "outputs": [
    {
     "name": "stdout",
     "output_type": "stream",
     "text": [
      "CPU times: user 6.47 ms, sys: 3.96 ms, total: 10.4 ms\n",
      "Wall time: 2.6 s\n"
     ]
    },
    {
     "data": {
      "text/plain": [
       "\"If you have a broken washing machine in Southampton, UK, you can call a domestic appliance repair technician to fix it. You can search online for local repair services or check online directories like Yellow Pages or Google Maps to find a reputable technician in your area. Additionally, you can also contact the manufacturer's customer service number to see if they offer repair services or can recommend a local technician.\""
      ]
     },
     "execution_count": 4,
     "metadata": {},
     "output_type": "execute_result"
    }
   ],
   "source": [
    "%%time\n",
    "\n",
    "getPerplexityResponse(\"I have a broken washing machine and I live in Southamption in the UK.  What can I do to get it mended?  What trade do I need to call?\", model='llama-2-70b-chat')"
   ]
  },
  {
   "cell_type": "markdown",
   "id": "f279a8ba-f0bf-4b09-9ae2-9ccf478e47f8",
   "metadata": {},
   "source": [
    "Let's see how it handles a query with a more detailed response:"
   ]
  },
  {
   "cell_type": "code",
   "execution_count": 5,
   "id": "a806519b-adc5-40e6-b1f3-89e25d29bde8",
   "metadata": {},
   "outputs": [
    {
     "name": "stdout",
     "output_type": "stream",
     "text": [
      "CPU times: user 7.63 ms, sys: 9.54 ms, total: 17.2 ms\n",
      "Wall time: 5.67 s\n"
     ]
    },
    {
     "data": {
      "text/plain": [
       "\"To solve the problem of a broken garden gate that no longer closes properly, you would typically need to engage the services of a tradesperson who specializes in carpentry, gate repair, or fence repair. I'd be happy to help explain the potential causes and the procedures involved in getting your garden gate fixed.\\n\\nThe broken garden gate issue could be attributed to several factors. The hinges could be loose or even broken, making it challenging for the gate to stay in place when closed. The latch or locking mechanism could be faulty, leading to the gate failing to latch properly. Wooden garden gates may also warp or rot over time, requiring replacement or repair. Furthermore, the gate might have collision damage due to vehicles, pets, or other external factors.\\n\\nWhen choosing a tradesperson to repair your garden gate, consider the following steps:\\n\\n1. Assess the issue: Before contacting any professional, it's essential to identify the problem with your garden gate. Check for loose hinges, damaged latches, or rot and warp on wooden gates. If you are uncertain about the cause, you may consider taking some pictures or videos to help explain the situation to potential contractors.\\n\\n2. Get quotes from professionals: Research local carpentry services, gate repair companies, and fence repair specialists. Check reviews, ratings, and testimonials to ensure that you choose a reliable and trustworthy service provider. Request quotes from multiple companies to compare prices and services.\\n\\n3. Schedule the repair: Once you have chosen a service provider, schedule the repair according to their availability. Be sure to communicate any special requirements or requests, such as same-day service or upgrading hardware for improved security.\\n\\n4. Prepare for the repair: Make sure the technician has clear access to your property. Move any obstacles away from the gate, including garden ornaments, vehicles, or tools. Prepare a safe working area and ensure that there is ample parking for the repair technician's vehicle.\\n\\n5. The repair process: When the repair professional arrives, they will assess the problem, diagnose the cause, and explain the repair process to you. The repair may involve tightening or replacing hinges, fixing the latch, sanding and repainting the gate, or other significant repairs. Discuss any additional costs or requirements before the work begins.\\n\\n6. Gate maintenance and future proofing: Discuss any preventative measures or maintenance tips that the repair professional can offer to help prevent further issues. This could include routine inspections, seasonal upkeep, or the use of weather-resistant hardware.\\n\\nBy understanding the potential causes, selecting an experienced tradesperson, and ensuring clear communication, you'll be well on your way to getting your garden gate fixed and functioning properly once again\""
      ]
     },
     "execution_count": 5,
     "metadata": {},
     "output_type": "execute_result"
    }
   ],
   "source": [
    "%%time\n",
    "\n",
    "getPerplexityResponse(\"I have a broken garden gate which is no longer closing properly.  What trade do I need to call to fix it?\", instruction=GREAT_DETAIL)"
   ]
  }
 ],
 "metadata": {
  "kernelspec": {
   "display_name": "Python 3 (ipykernel)",
   "language": "python",
   "name": "python3"
  },
  "language_info": {
   "codemirror_mode": {
    "name": "ipython",
    "version": 3
   },
   "file_extension": ".py",
   "mimetype": "text/x-python",
   "name": "python",
   "nbconvert_exporter": "python",
   "pygments_lexer": "ipython3",
   "version": "3.10.10"
  }
 },
 "nbformat": 4,
 "nbformat_minor": 5
}
