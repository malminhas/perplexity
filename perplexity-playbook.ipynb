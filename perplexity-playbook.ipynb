{
 "cells": [
  {
   "cell_type": "markdown",
   "id": "419db21c-0a9d-4f4e-83bb-36f70b8fabe9",
   "metadata": {},
   "source": [
    "# Perplexity playbook"
   ]
  },
  {
   "cell_type": "markdown",
   "id": "c71d82e1-e147-495e-b6a9-3acccdc16e5c",
   "metadata": {
    "jp-MarkdownHeadingCollapsed": true,
    "tags": []
   },
   "source": [
    "<p>\n",
    "Mal Minhas, v0.7<br>\n",
    "25.01.25\n",
    "</p>\n",
    "<p>\n",
    "<h4>Versions</h4>\n",
    "<ul>\n",
    "<li><b>v0.3</b>: 15.01.24. First version</li>\n",
    "<li><b>v0.4</b>: 02.06.24. Updated for latest Perplexity API</li>\n",
    "<li><b>v0.5</b>: 01.08.24. Updated again for latest Perplexity API and llama 3.1 support</li>\n",
    "<li><b>v0.6</b>: 09.11.24. Updated to include support for retrieving citations</li>\n",
    "<li><b>v0.7</b>: 25.01.25. Updated to latest Perplexity models and added streaming support</li>\n",
    "</ul>\n",
    "</p>"
   ]
  },
  {
   "cell_type": "markdown",
   "id": "802262f0-12b1-4bf4-b84a-906dcb938f9a",
   "metadata": {
    "tags": []
   },
   "source": [
    "## 1. Introduction"
   ]
  },
  {
   "cell_type": "markdown",
   "id": "1d30ba74-dd1d-4f40-8032-d97146a56891",
   "metadata": {},
   "source": [
    "Perplexity is an intelligent search engine with a chatbot sytle interface that leverages popular AI models to offer comprehensive answers to user inquiries.  It is able to search the internet to provide real-time information via a friendly user experience that includes native mobile apps.  The tool is specifically designed to perform as a research companion providing links to underlying source articles unlike ChatGPT in default mode.  Perplexity comes with an OpenAI-compliant API called [`pplx-api`](https://blog.perplexity.ai/blog/introducing-pplx-api) which was introduced in October 2023.  See [here](https://docs.perplexity.ai/docs/getting-started) for a guide on how to set up an API key and get started with `pplx-api` per the documetnation [here](https://docs.perplexity.ai/).  Perplexity regularly update the model support for this API and at the time of writing the latest and greatest supported model is `llama-3.1`.  The following examples assume you have set up the API key in an environment variable called `PERPLEXITY_API_KEY`."
   ]
  },
  {
   "cell_type": "markdown",
   "id": "decf70c0-bd76-4eab-8f0c-c73b7e3e9ca6",
   "metadata": {},
   "source": [
    "Supported models are [as follows](https://docs.perplexity.ai/guides/model-cards):\n",
    "```\n",
    "Model\tContext Length\tModel Type\n",
    "sonar-pro\t200k\tChat Completion\n",
    "sonar\t127k\tChat Completion\n",
    "```"
   ]
  },
  {
   "cell_type": "markdown",
   "id": "f0f67141-26d5-4317-b863-e996d8397894",
   "metadata": {},
   "source": [
    "The only API function currently supported is on `chat_completions` documented [here](https://docs.perplexity.ai/reference/post_chat_completions).  The next section outlines how to use it."
   ]
  },
  {
   "cell_type": "markdown",
   "id": "2e448db2-9950-4092-8d86-cb2ffad33c8b",
   "metadata": {},
   "source": [
    "## 2. Basic Usage"
   ]
  },
  {
   "cell_type": "markdown",
   "id": "b4d6a2db-1f2a-4c0d-a471-8c9f5242c89a",
   "metadata": {},
   "source": [
    "Let's start with a few basics including a utility function to render text for display in Jupyter:"
   ]
  },
  {
   "cell_type": "code",
   "execution_count": 1,
   "id": "08b053ca-d2ba-4d04-85a0-d8d20f59ce4a",
   "metadata": {},
   "outputs": [],
   "source": [
    "import os\n",
    "import requests\n",
    "from IPython.display import display, Markdown\n",
    "\n",
    "def renderTextAsMarkdown(text: str):\n",
    "    display(Markdown(text))\n",
    "    \n",
    "API_KEY = os.environ.get('PERPLEXITY_API_KEY')\n",
    "DEFAULT_MODEL = 'sonar'\n",
    "DEFAULT_TOKENS = 1024\n",
    "CONCISE_DETAIL = 'Be precise and concise.'\n",
    "MID_LEVEL_DETAIL = 'Explain in a few sentences.'\n",
    "GREAT_DETAIL = 'Explain in a lot of detail.'\n",
    "POLITE_DETAIL = 'You are an artificial intelligence assistant and you need to engage in a helpful, detailed, polite conversation with a user.'\n",
    "DEFAULT_TEMP = 0.0"
   ]
  },
  {
   "cell_type": "markdown",
   "id": "89c761bc-e7bd-4cc2-a49c-db21c99047ea",
   "metadata": {},
   "source": [
    "The following is a convenience function that wraps the Perplexity API allowing different models to be used and also differing levels of depth of response detail:"
   ]
  },
  {
   "cell_type": "code",
   "execution_count": 2,
   "id": "e429ee1e-712b-4d36-9ca8-f680b08232d0",
   "metadata": {},
   "outputs": [],
   "source": [
    "def getPerplexityResponse(question:str, model:str=DEFAULT_MODEL, direction:str=MID_LEVEL_DETAIL, max_tokens:int=DEFAULT_TOKENS, temperature:float=DEFAULT_TEMP) -> str:\n",
    "    url = \"https://api.perplexity.ai/chat/completions\"\n",
    "    payload = {\n",
    "        \"model\": model,\n",
    "        \"stream\": False,\n",
    "        \"max_tokens\": max_tokens,\n",
    "        \"temperature\": temperature,\n",
    "        \"messages\": [\n",
    "            {\n",
    "                \"role\": \"system\",\n",
    "                \"content\": direction\n",
    "            },\n",
    "            {\n",
    "                \"role\": \"user\",\n",
    "                \"content\": question\n",
    "            }\n",
    "        ]\n",
    "    }\n",
    "    headers = {\n",
    "        \"accept\": \"application/json\",\n",
    "        \"content-type\": \"application/json\",\n",
    "        \"Authorization\": f\"Bearer {API_KEY}\",\n",
    "    }\n",
    "    r = requests.post(url, json=payload, headers=headers)\n",
    "    assert(r.status_code == 200)\n",
    "    return r.json()\n",
    "\n",
    "def renderResponse(d):\n",
    "    return renderTextAsMarkdown(d.get(\"choices\")[0].get(\"message\").get(\"content\"))\n",
    "\n",
    "def getModel(d):\n",
    "    return renderTextAsMarkdown(d.get(\"model\"))\n",
    "\n",
    "def renderCitations(d):\n",
    "    def formatReferences(url_list):\n",
    "        return [f\"[{i + 1}]: {url}\" for i, url in enumerate(url_list)] \n",
    "    # Print citations in a Markdown-compatible format\n",
    "    markdown_output = \"\\n\".join(formatReferences(d.get(\"citations\", [])))\n",
    "    print(markdown_output)"
   ]
  },
  {
   "cell_type": "markdown",
   "id": "ef9feef6-aaba-433c-9b47-2985b031c9a5",
   "metadata": {},
   "source": [
    "Let's test the function on an example query using the default `llama-3.1-sonar-small-128k-online` model and then `llama-3.1-8b-instruct`.  Note the differences in response timing:"
   ]
  },
  {
   "cell_type": "code",
   "execution_count": 3,
   "id": "66286a1c-026e-47e5-900e-99e670d54db6",
   "metadata": {},
   "outputs": [
    {
     "data": {
      "text/markdown": [
       "To get your washing machine repaired in Southampton, you should contact a domestic appliance repair service. Trades such as appliance repair engineers or technicians are the professionals you need to call. Companies like NAC, Go Assist, and Domestec offer same or next-day repair services for washing machines in Southampton, covering various brands and models[1][2][3]. You can book their services online or by phone to arrange a visit from an experienced engineer."
      ],
      "text/plain": [
       "<IPython.core.display.Markdown object>"
      ]
     },
     "metadata": {},
     "output_type": "display_data"
    },
    {
     "name": "stdout",
     "output_type": "stream",
     "text": [
      "CPU times: user 9.72 ms, sys: 3.61 ms, total: 13.3 ms\n",
      "Wall time: 3.32 s\n"
     ]
    }
   ],
   "source": [
    "%%time\n",
    "\n",
    "prompt = \"\"\"I have a broken washing machine and I live in Southamption in the UK. \n",
    "What can I do to get it mended?  What trade do I need to call?\"\"\"\n",
    "d = getPerplexityResponse(prompt)\n",
    "renderResponse(d)"
   ]
  },
  {
   "cell_type": "markdown",
   "id": "5d986e66-2d22-47a0-b895-52965bf859af",
   "metadata": {},
   "source": [
    "As of 09.11.24, Perplexity are offering citations as part of the API response.  We can pull them out as follows.  The URLs all work and point to valid companies that could help with this job:"
   ]
  },
  {
   "cell_type": "code",
   "execution_count": 4,
   "id": "de7c60f1-d226-4a41-bfa9-b203e96cce96",
   "metadata": {},
   "outputs": [
    {
     "name": "stdout",
     "output_type": "stream",
     "text": [
      "[1]: https://nacrepair.co.uk/appliance-repairs/washing-machine-repair/washing-machine-repair-southampton/\n",
      "[2]: https://go-assist.co.uk/appliance-repairs/washing-machine-repairs/washing-machine-repair-southampton\n",
      "[3]: https://domestec.co.uk/southampton-appliance-repairs/\n",
      "[4]: https://www.southampton-appliance-repairs.co.uk/help/terms-conditions\n",
      "[5]: https://www.harrapdomesticappliances.co.uk/p/appliances-repairs-and-spares\n"
     ]
    }
   ],
   "source": [
    "renderCitations(d)"
   ]
  },
  {
   "cell_type": "code",
   "execution_count": 5,
   "id": "2cc80f9f-1aff-4921-bcef-cabdb74eeb54",
   "metadata": {},
   "outputs": [
    {
     "data": {
      "text/markdown": [
       "To get your washing machine repaired in Southampton, you should contact a domestic appliance repair service. Trades such as appliance repair engineers or technicians are the professionals you need to call. Companies like NAC, Go Assist, and Domestec offer same-day or next-day repair services for washing machines in Southampton, covering various brands and models[1][2][3]. You can book their services online or by phone to have your washing machine diagnosed and fixed promptly."
      ],
      "text/plain": [
       "<IPython.core.display.Markdown object>"
      ]
     },
     "metadata": {},
     "output_type": "display_data"
    },
    {
     "name": "stdout",
     "output_type": "stream",
     "text": [
      "CPU times: user 13.6 ms, sys: 7.36 ms, total: 21 ms\n",
      "Wall time: 3.58 s\n"
     ]
    }
   ],
   "source": [
    "%%time\n",
    "\n",
    "renderResponse(getPerplexityResponse(prompt, model='sonar'))"
   ]
  },
  {
   "cell_type": "code",
   "execution_count": 6,
   "id": "b25a8b4b-9e7b-4ebd-a73d-5814167e75ad",
   "metadata": {},
   "outputs": [
    {
     "data": {
      "text/markdown": [
       "If you have a broken washing machine in Southampton, UK, you have several options to get it repaired. Here's what you can do:\n",
       "\n",
       "1. Call an appliance repair service: There are several reputable appliance repair companies in Southampton that specialize in washing machine repairs. Some options include:\n",
       "\n",
       "- NAC Repair: They offer same-day or next-day washing machine repairs in Southampton[1][7].\n",
       "- Go Assist: They provide local washing machine repair services with experienced engineers[3].\n",
       "- Harrap Domestic Appliances: A local company offering washing machine repairs in Southampton[4].\n",
       "\n",
       "2. Contact a local technician: You can search for independent appliance repair technicians in Southampton who may offer more flexible scheduling and competitive pricing.\n",
       "\n",
       "3. Check with the manufacturer: If your washing machine is still under warranty, contact the manufacturer directly as they may offer free repairs or send an authorized technician.\n",
       "\n",
       "The trade you need to call is typically referred to as an \"appliance repair technician\" or \"domestic appliance engineer.\" These professionals are trained to diagnose and fix issues with various household appliances, including washing machines.\n",
       "\n",
       "When contacting a repair service, be prepared to provide:\n",
       "\n",
       "- The make and model of your washing machine\n",
       "- A description of the problem you're experiencing\n",
       "- Your location in Southampton\n",
       "- Your availability for a repair appointment\n",
       "\n",
       "Many repair services offer online booking or phone consultations to make the process easier. They often provide upfront pricing and may be able to complete the repair on the first visit if they carry common spare parts with them[1][3].\n",
       "\n",
       "Remember to choose a reputable service with good reviews and proper qualifications to ensure a quality repair for your washing machine."
      ],
      "text/plain": [
       "<IPython.core.display.Markdown object>"
      ]
     },
     "metadata": {},
     "output_type": "display_data"
    },
    {
     "name": "stdout",
     "output_type": "stream",
     "text": [
      "[1]: https://nacrepair.co.uk/appliance-repairs/washing-machine-repair/washing-machine-repair-southampton/\n",
      "[2]: https://appliancerepairsouthampton.ny-biz.co\n",
      "[3]: https://go-assist.co.uk/appliance-repairs/washing-machine-repairs/washing-machine-repair-southampton\n",
      "[4]: https://www.harrapdomesticappliances.co.uk/p/appliances-repairs-and-spares\n",
      "[5]: https://www.southamptonnyappliancerepair.com\n",
      "[6]: https://www.southampton-appliance-repairs.co.uk/help/terms-conditions\n",
      "[7]: https://nacrepair.co.uk/appliance-repair/appliance-repair-southampton/\n",
      "[8]: https://speedyrefrigeratorservice.com/southampton/\n",
      "[9]: https://appliancecare-southampton.co.uk/terms-conditions/\n",
      "[10]: https://www.aaqualitydomesticappliances.co.uk\n"
     ]
    }
   ],
   "source": [
    "d = getPerplexityResponse(prompt, model='sonar-pro', direction=POLITE_DETAIL)\n",
    "renderResponse(d)\n",
    "renderCitations(d)"
   ]
  },
  {
   "cell_type": "code",
   "execution_count": 7,
   "id": "1569eb3f-9dac-4f47-9a80-02babdeb6d57",
   "metadata": {},
   "outputs": [
    {
     "data": {
      "text/markdown": [
       "If you have a broken washing machine in Southampton, UK, there are several options for getting it repaired. Here are a few reliable services you can consider:\n",
       "\n",
       "1. **NAC Repair**: NAC offers same-day or next-day washing machine repairs in Southampton and surrounding areas. They have a network of engineers who can diagnose and fix various types of washing machines, including front-loading, top-loading, semi-automatic, and fully automatic models[1].\n",
       "\n",
       "2. **Raynor Appliance Service**: Raynor Appliance Service has over 40 years of experience in appliance repairs, including washing machines. They provide a one-year guarantee for parts and labor and serve the Southampton area with competitive pricing[2].\n",
       "\n",
       "3. **Go Assist**: Go Assist offers trusted washing machine repair services in and around Southampton. They provide same or next-day service, competitive pricing, and a repair guarantee. Their engineers are experienced in repairing all makes and models of washing machines[3].\n",
       "\n",
       "4. **Harrap Domestic Appliances**: Harrap offers comprehensive and affordable washing machine repair services in Southampton. Their highly skilled team can diagnose and fix various issues with your washing machine, and they also provide advice on upgrading if necessary[4].\n",
       "\n",
       "To get your washing machine mended, you should call one of these appliance repair services. Here’s how you can proceed:\n",
       "\n",
       "- **NAC Repair**: Call them or book online quickly and easily.\n",
       "- **Raynor Appliance Service**: Contact them via phone or email.\n",
       "- **Go Assist**: Call them on 0333 733 1234 or book online.\n",
       "- **Harrap Domestic Appliances**: Ring them on 02380771585.\n",
       "\n",
       "Each service has its own unique benefits, so it might be helpful to compare their services and guarantees before making a decision."
      ],
      "text/plain": [
       "<IPython.core.display.Markdown object>"
      ]
     },
     "metadata": {},
     "output_type": "display_data"
    },
    {
     "name": "stdout",
     "output_type": "stream",
     "text": [
      "CPU times: user 12.2 ms, sys: 7.26 ms, total: 19.5 ms\n",
      "Wall time: 3.95 s\n"
     ]
    }
   ],
   "source": [
    "%%time\n",
    "\n",
    "renderResponse(getPerplexityResponse(prompt, model='llama-3.1-sonar-small-128k-online', direction=POLITE_DETAIL))"
   ]
  },
  {
   "cell_type": "markdown",
   "id": "f279a8ba-f0bf-4b09-9ae2-9ccf478e47f8",
   "metadata": {},
   "source": [
    "Let's see how it handles a query with a more detailed response:"
   ]
  },
  {
   "cell_type": "code",
   "execution_count": 8,
   "id": "a806519b-adc5-40e6-b1f3-89e25d29bde8",
   "metadata": {},
   "outputs": [
    {
     "data": {
      "text/markdown": [
       "To fix a broken garden gate that is no longer closing properly, you have several options depending on your level of DIY expertise and the extent of the damage. Here are the steps you can take:\n",
       "\n",
       "### DIY Approach\n",
       "\n",
       "1. **Evaluate the Gate**:\n",
       "   - Check if the gate is sagging or if the hinges are loose. This can often be fixed by tightening loose screws or replacing damaged hinges [2][4].\n",
       "\n",
       "2. **Inspect Hinges and Latches**:\n",
       "   - Look for rust, wear, or missing screws on the hinges and latches. Tighten any loose screws or replace them if necessary [4].\n",
       "\n",
       "3. **Adjust Gate Alignment**:\n",
       "   - Use a level to ensure the gate is even. If it's sagging, you might need to realign it using a turnbuckle kit or by adjusting the hinges [2][4].\n",
       "\n",
       "4. **Replace Hardware**:\n",
       "   - If the hinges are damaged, purchase new ones. Opt for heavy-duty hinges if your gate is large or heavy [4].\n",
       "\n",
       "5. **Reinforce Posts**:\n",
       "   - If the posts supporting the gate are wobbly or leaning, use concrete mix and post levelers to reinforce them [4].\n",
       "\n",
       "### Professional Help\n",
       "\n",
       "1. **Call a Fence and Gate Repair Service**:\n",
       "   - If the damage is extensive or you're not comfortable with DIY repairs, consider hiring a professional fence and gate repair service. They can assess the gate and provide a solution that ensures it functions properly and securely [1][5].\n",
       "\n",
       "2. **Check Local Reviews**:\n",
       "   - Look for local professionals with good reviews on platforms like Angi to ensure you're hiring someone reliable and skilled [5].\n",
       "\n",
       "### Steps for Professional Repair\n",
       "\n",
       "1. **Assessment**:\n",
       "   - The professional will evaluate the gate's condition, including the hinges, latches, and posts.\n",
       "   \n",
       "2. **Repair or Replacement**:\n",
       "   - Depending on the extent of the damage, they may need to replace hinges, latches, or even parts of the gate frame.\n",
       "   \n",
       "3. **Reinstallation**:\n",
       "   - Once the necessary repairs are made, they will reinstall the gate ensuring it swings freely and closes securely.\n",
       "\n",
       "By following these steps, whether you choose to DIY or hire a professional, you can ensure your garden gate is fixed and functioning properly again."
      ],
      "text/plain": [
       "<IPython.core.display.Markdown object>"
      ]
     },
     "metadata": {},
     "output_type": "display_data"
    },
    {
     "name": "stdout",
     "output_type": "stream",
     "text": [
      "CPU times: user 8.84 ms, sys: 7.66 ms, total: 16.5 ms\n",
      "Wall time: 3.67 s\n"
     ]
    }
   ],
   "source": [
    "%%time\n",
    "\n",
    "prompt = \"\"\"\"I have a broken garden gate which is no longer closing properly.  \n",
    "What trade do I need to call to fix it?\"\"\"\n",
    "renderResponse(getPerplexityResponse(prompt, model='llama-3.1-sonar-small-128k-online', direction=GREAT_DETAIL))"
   ]
  },
  {
   "cell_type": "markdown",
   "id": "4112eaf9-92eb-4787-98df-8bde2090f637",
   "metadata": {},
   "source": [
    "## 3. Streaming interface"
   ]
  },
  {
   "cell_type": "markdown",
   "id": "18d6ce28-e34c-412e-b436-2415ec3f80f5",
   "metadata": {},
   "source": [
    "Leveraging the OpenAI interface:"
   ]
  },
  {
   "cell_type": "code",
   "execution_count": 9,
   "id": "10ee4b52-10cf-444d-80ec-ced285ec311c",
   "metadata": {},
   "outputs": [
    {
     "name": "stdout",
     "output_type": "stream",
     "text": [
      "The Milky Way galaxy contains an estimated 100 to 400 billion stars[1][3][6]. This wide range reflects the difficulty in precisely counting stars in our galaxy. Astronomers estimate this number by calculating the galaxy's mass and the percentage of that mass made up of stars[6]. The exact figure depends on factors like the average mass of stars used in calculations and our ability to detect very faint, low-mass stars throughout the galaxy[3][6]. While we can't count each star individually, these estimates give us a sense of the vast scale of our home galaxy.\n",
      "------------ References ------------\n",
      "[1]: https://www.astronomy.com/science/astro-for-kids-how-many-stars-are-there-in-space/\n",
      "[2]: https://www.littlepassports.com/blog/space/how-many-stars-are-in-the-universe/\n",
      "[3]: https://www.space.com/25959-how-many-stars-are-in-the-milky-way.html\n",
      "[4]: https://www.youtube.com/watch?v=Py2nZYmvTKg\n",
      "[5]: https://www.space.com/26078-how-many-stars-are-there.html\n",
      "[6]: https://asd.gsfc.nasa.gov/blueshift/index.php/2015/07/22/how-many-stars-in-the-milky-way/\n",
      "[7]: https://imagine.gsfc.nasa.gov/science/objects/milkyway1.html\n",
      "[8]: https://en.wikipedia.org/wiki/Milky_Way\n",
      "[9]: https://www.astronomy.com/science/astro-for-kids-how-many-stars-are-there-in-space/\n",
      "[10]: https://www.littlepassports.com/blog/space/how-many-stars-are-in-the-universe/\n",
      "[11]: https://www.space.com/25959-how-many-stars-are-in-the-milky-way.html\n",
      "[12]: https://www.youtube.com/watch?v=Py2nZYmvTKg\n",
      "[13]: https://www.space.com/26078-how-many-stars-are-there.html\n",
      "[14]: https://asd.gsfc.nasa.gov/blueshift/index.php/2015/07/22/how-many-stars-in-the-milky-way/\n",
      "[15]: https://imagine.gsfc.nasa.gov/science/objects/milkyway1.html\n",
      "[16]: https://en.wikipedia.org/wiki/Milky_Way\n",
      "[17]: https://www.astronomy.com/science/astro-for-kids-how-many-stars-are-there-in-space/\n",
      "[18]: https://www.littlepassports.com/blog/space/how-many-stars-are-in-the-universe/\n",
      "[19]: https://www.space.com/25959-how-many-stars-are-in-the-milky-way.html\n",
      "[20]: https://www.youtube.com/watch?v=Py2nZYmvTKg\n",
      "[21]: https://www.space.com/26078-how-many-stars-are-there.html\n",
      "[22]: https://asd.gsfc.nasa.gov/blueshift/index.php/2015/07/22/how-many-stars-in-the-milky-way/\n",
      "[23]: https://imagine.gsfc.nasa.gov/science/objects/milkyway1.html\n",
      "[24]: https://en.wikipedia.org/wiki/Milky_Way\n",
      "[25]: https://www.astronomy.com/science/astro-for-kids-how-many-stars-are-there-in-space/\n",
      "[26]: https://www.littlepassports.com/blog/space/how-many-stars-are-in-the-universe/\n",
      "[27]: https://www.space.com/25959-how-many-stars-are-in-the-milky-way.html\n",
      "[28]: https://www.youtube.com/watch?v=Py2nZYmvTKg\n",
      "[29]: https://www.space.com/26078-how-many-stars-are-there.html\n",
      "[30]: https://asd.gsfc.nasa.gov/blueshift/index.php/2015/07/22/how-many-stars-in-the-milky-way/\n",
      "[31]: https://imagine.gsfc.nasa.gov/science/objects/milkyway1.html\n",
      "[32]: https://en.wikipedia.org/wiki/Milky_Way\n",
      "[33]: https://www.astronomy.com/science/astro-for-kids-how-many-stars-are-there-in-space/\n",
      "[34]: https://www.littlepassports.com/blog/space/how-many-stars-are-in-the-universe/\n",
      "[35]: https://www.space.com/25959-how-many-stars-are-in-the-milky-way.html\n",
      "[36]: https://www.youtube.com/watch?v=Py2nZYmvTKg\n",
      "[37]: https://www.space.com/26078-how-many-stars-are-there.html\n",
      "[38]: https://asd.gsfc.nasa.gov/blueshift/index.php/2015/07/22/how-many-stars-in-the-milky-way/\n",
      "[39]: https://imagine.gsfc.nasa.gov/science/objects/milkyway1.html\n",
      "[40]: https://en.wikipedia.org/wiki/Milky_Way\n",
      "[41]: https://www.astronomy.com/science/astro-for-kids-how-many-stars-are-there-in-space/\n",
      "[42]: https://www.littlepassports.com/blog/space/how-many-stars-are-in-the-universe/\n",
      "[43]: https://www.space.com/25959-how-many-stars-are-in-the-milky-way.html\n",
      "[44]: https://www.youtube.com/watch?v=Py2nZYmvTKg\n",
      "[45]: https://www.space.com/26078-how-many-stars-are-there.html\n",
      "[46]: https://asd.gsfc.nasa.gov/blueshift/index.php/2015/07/22/how-many-stars-in-the-milky-way/\n",
      "[47]: https://imagine.gsfc.nasa.gov/science/objects/milkyway1.html\n",
      "[48]: https://en.wikipedia.org/wiki/Milky_Way\n",
      "[49]: https://www.astronomy.com/science/astro-for-kids-how-many-stars-are-there-in-space/\n",
      "[50]: https://www.littlepassports.com/blog/space/how-many-stars-are-in-the-universe/\n",
      "[51]: https://www.space.com/25959-how-many-stars-are-in-the-milky-way.html\n",
      "[52]: https://www.youtube.com/watch?v=Py2nZYmvTKg\n",
      "[53]: https://www.space.com/26078-how-many-stars-are-there.html\n",
      "[54]: https://asd.gsfc.nasa.gov/blueshift/index.php/2015/07/22/how-many-stars-in-the-milky-way/\n",
      "[55]: https://imagine.gsfc.nasa.gov/science/objects/milkyway1.html\n",
      "[56]: https://en.wikipedia.org/wiki/Milky_Way\n",
      "[57]: https://www.astronomy.com/science/astro-for-kids-how-many-stars-are-there-in-space/\n",
      "[58]: https://www.littlepassports.com/blog/space/how-many-stars-are-in-the-universe/\n",
      "[59]: https://www.space.com/25959-how-many-stars-are-in-the-milky-way.html\n",
      "[60]: https://www.youtube.com/watch?v=Py2nZYmvTKg\n",
      "[61]: https://www.space.com/26078-how-many-stars-are-there.html\n",
      "[62]: https://asd.gsfc.nasa.gov/blueshift/index.php/2015/07/22/how-many-stars-in-the-milky-way/\n",
      "[63]: https://imagine.gsfc.nasa.gov/science/objects/milkyway1.html\n",
      "[64]: https://en.wikipedia.org/wiki/Milky_Way\n",
      "[65]: https://www.astronomy.com/science/astro-for-kids-how-many-stars-are-there-in-space/\n",
      "[66]: https://www.littlepassports.com/blog/space/how-many-stars-are-in-the-universe/\n",
      "[67]: https://www.space.com/25959-how-many-stars-are-in-the-milky-way.html\n",
      "[68]: https://www.youtube.com/watch?v=Py2nZYmvTKg\n",
      "[69]: https://www.space.com/26078-how-many-stars-are-there.html\n",
      "[70]: https://asd.gsfc.nasa.gov/blueshift/index.php/2015/07/22/how-many-stars-in-the-milky-way/\n",
      "[71]: https://imagine.gsfc.nasa.gov/science/objects/milkyway1.html\n",
      "[72]: https://en.wikipedia.org/wiki/Milky_Way\n",
      "[73]: https://www.astronomy.com/science/astro-for-kids-how-many-stars-are-there-in-space/\n",
      "[74]: https://www.littlepassports.com/blog/space/how-many-stars-are-in-the-universe/\n",
      "[75]: https://www.space.com/25959-how-many-stars-are-in-the-milky-way.html\n",
      "[76]: https://www.youtube.com/watch?v=Py2nZYmvTKg\n",
      "[77]: https://www.space.com/26078-how-many-stars-are-there.html\n",
      "[78]: https://asd.gsfc.nasa.gov/blueshift/index.php/2015/07/22/how-many-stars-in-the-milky-way/\n",
      "[79]: https://imagine.gsfc.nasa.gov/science/objects/milkyway1.html\n",
      "[80]: https://en.wikipedia.org/wiki/Milky_Way\n",
      "[81]: https://www.astronomy.com/science/astro-for-kids-how-many-stars-are-there-in-space/\n",
      "[82]: https://www.littlepassports.com/blog/space/how-many-stars-are-in-the-universe/\n",
      "[83]: https://www.space.com/25959-how-many-stars-are-in-the-milky-way.html\n",
      "[84]: https://www.youtube.com/watch?v=Py2nZYmvTKg\n",
      "[85]: https://www.space.com/26078-how-many-stars-are-there.html\n",
      "[86]: https://asd.gsfc.nasa.gov/blueshift/index.php/2015/07/22/how-many-stars-in-the-milky-way/\n",
      "[87]: https://imagine.gsfc.nasa.gov/science/objects/milkyway1.html\n",
      "[88]: https://en.wikipedia.org/wiki/Milky_Way\n",
      "[89]: https://www.astronomy.com/science/astro-for-kids-how-many-stars-are-there-in-space/\n",
      "[90]: https://www.littlepassports.com/blog/space/how-many-stars-are-in-the-universe/\n",
      "[91]: https://www.space.com/25959-how-many-stars-are-in-the-milky-way.html\n",
      "[92]: https://www.youtube.com/watch?v=Py2nZYmvTKg\n",
      "[93]: https://www.space.com/26078-how-many-stars-are-there.html\n",
      "[94]: https://asd.gsfc.nasa.gov/blueshift/index.php/2015/07/22/how-many-stars-in-the-milky-way/\n",
      "[95]: https://imagine.gsfc.nasa.gov/science/objects/milkyway1.html\n",
      "[96]: https://en.wikipedia.org/wiki/Milky_Way\n",
      "[97]: https://www.astronomy.com/science/astro-for-kids-how-many-stars-are-there-in-space/\n",
      "[98]: https://www.littlepassports.com/blog/space/how-many-stars-are-in-the-universe/\n",
      "[99]: https://www.space.com/25959-how-many-stars-are-in-the-milky-way.html\n",
      "[100]: https://www.youtube.com/watch?v=Py2nZYmvTKg\n",
      "[101]: https://www.space.com/26078-how-many-stars-are-there.html\n",
      "[102]: https://asd.gsfc.nasa.gov/blueshift/index.php/2015/07/22/how-many-stars-in-the-milky-way/\n",
      "[103]: https://imagine.gsfc.nasa.gov/science/objects/milkyway1.html\n",
      "[104]: https://en.wikipedia.org/wiki/Milky_Way\n",
      "[105]: https://www.astronomy.com/science/astro-for-kids-how-many-stars-are-there-in-space/\n",
      "[106]: https://www.littlepassports.com/blog/space/how-many-stars-are-in-the-universe/\n",
      "[107]: https://www.space.com/25959-how-many-stars-are-in-the-milky-way.html\n",
      "[108]: https://www.youtube.com/watch?v=Py2nZYmvTKg\n",
      "[109]: https://www.space.com/26078-how-many-stars-are-there.html\n",
      "[110]: https://asd.gsfc.nasa.gov/blueshift/index.php/2015/07/22/how-many-stars-in-the-milky-way/\n",
      "[111]: https://imagine.gsfc.nasa.gov/science/objects/milkyway1.html\n",
      "[112]: https://en.wikipedia.org/wiki/Milky_Way\n"
     ]
    }
   ],
   "source": [
    "import asyncio\n",
    "from openai import OpenAI\n",
    "from typing import List\n",
    "\n",
    "citations = {}\n",
    "references = []\n",
    "\n",
    "async def getPerplexityResponseStreaming(question:str, references:List, direction:str=MID_LEVEL_DETAIL) -> str:\n",
    "    messages = [\n",
    "        {\n",
    "            \"role\": \"system\",\n",
    "            \"content\": (direction),\n",
    "        },\n",
    "        {   \n",
    "            \"role\": \"user\",\n",
    "            \"content\": (question),\n",
    "        },\n",
    "    ]\n",
    "    client = OpenAI(api_key=API_KEY, base_url=\"https://api.perplexity.ai\")\n",
    "    # chat completion with streaming\n",
    "    response_stream = client.chat.completions.create(\n",
    "        model=\"sonar-pro\",\n",
    "        messages=messages,\n",
    "        stream=True,\n",
    "    )\n",
    "    for response in response_stream:\n",
    "        if response.citations:\n",
    "            references += response.citations\n",
    "        yield response.choices[0].delta.content\n",
    "\n",
    "async def processStreamingResponse(prompt, references):\n",
    "    async for ref in getPerplexityResponseStreaming(prompt, references):\n",
    "        print(ref, end=\"\")  # Print each result as soon as it's yielded without adding newlines\n",
    "\n",
    "# Jupyter-specific way to run asyncio in a cell\n",
    "prompt = \"How many stars are there in our galaxy?\"\n",
    "\n",
    "# Use an event loop in Jupyter to run the async function\n",
    "await processStreamingResponse(prompt, references)\n",
    "print(f\"\\n------------ References ------------\")\n",
    "citations['citations'] = references\n",
    "renderCitations(citations)"
   ]
  }
 ],
 "metadata": {
  "kernelspec": {
   "display_name": "Python 3 (ipykernel)",
   "language": "python",
   "name": "python3"
  },
  "language_info": {
   "codemirror_mode": {
    "name": "ipython",
    "version": 3
   },
   "file_extension": ".py",
   "mimetype": "text/x-python",
   "name": "python",
   "nbconvert_exporter": "python",
   "pygments_lexer": "ipython3",
   "version": "3.11.11"
  }
 },
 "nbformat": 4,
 "nbformat_minor": 5
}
