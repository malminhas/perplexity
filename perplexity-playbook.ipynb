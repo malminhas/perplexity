{
 "cells": [
  {
   "cell_type": "markdown",
   "id": "419db21c-0a9d-4f4e-83bb-36f70b8fabe9",
   "metadata": {},
   "source": [
    "# Perplexity playbook"
   ]
  },
  {
   "cell_type": "markdown",
   "id": "c71d82e1-e147-495e-b6a9-3acccdc16e5c",
   "metadata": {},
   "source": [
    "<p>\n",
    "Mal Minhas, v0.2<br>\n",
    "01.01.24\n",
    "</p>"
   ]
  },
  {
   "cell_type": "markdown",
   "id": "802262f0-12b1-4bf4-b84a-906dcb938f9a",
   "metadata": {},
   "source": [
    "## 1. Introduction"
   ]
  },
  {
   "cell_type": "markdown",
   "id": "1d30ba74-dd1d-4f40-8032-d97146a56891",
   "metadata": {},
   "source": [
    "Perplexity is an intelligent search engine with a chatbot sytle interface that leverages popular AI models to offer comprehensive answers to user inquiries.  It is able to search the internet to provide real-time information via a friendly user experience that includes native mobile apps.  The tool is specifically designed to perform as a research companion providing links to underlying source articles unlike ChatGPT in default mode.  Perplexity comes with an API called [`pplx-api`](https://blog.perplexity.ai/blog/introducing-pplx-api) which was introduced in October 2023.  See [here](https://docs.perplexity.ai/docs/getting-started) for a guide on how to set up an API key and get started with `pplx-api`.  The following examples assume you have set up the API key in an environment variable called `PERPLEXITY_API_KEY`."
   ]
  },
  {
   "cell_type": "markdown",
   "id": "decf70c0-bd76-4eab-8f0c-c73b7e3e9ca6",
   "metadata": {},
   "source": [
    "Supported models are [as follows](https://docs.perplexity.ai/docs/model-cards):\n",
    "```\n",
    "Model\t                  Context Length       Model Type\n",
    "codellama-34b-instruct\t      16384          Chat Completion\n",
    "llama-2-70b-chat               4096          Chat Completion\n",
    "mistral-7b-instruct [2]\t       4096 [1]      Chat Completion\n",
    "mixtral-8x7b-instruct\t       4096 [1]      Chat Completion\n",
    "pplx-7b-chat\t               8192          Chat Completion\n",
    "pplx-70b-chat\t               4096          Chat Completion\n",
    "pplx-7b-online\t               4096          Chat Completion\n",
    "pplx-70b-online\t               4096          Chat Completion\n",
    "\n",
    "[1] We will be increasing the context length of mistral-7b-instruct to 32k tokens (see roadmap).\n",
    "[2] This model refers to the v0.2 release of mistral-7b-instruct.\n",
    "```"
   ]
  },
  {
   "cell_type": "markdown",
   "id": "f0f67141-26d5-4317-b863-e996d8397894",
   "metadata": {},
   "source": [
    "The only API function currently supported is on `chat_completions` documented [here](https://docs.perplexity.ai/reference/post_chat_completions).  The next section outlines how to use it."
   ]
  },
  {
   "cell_type": "markdown",
   "id": "2e448db2-9950-4092-8d86-cb2ffad33c8b",
   "metadata": {},
   "source": [
    "## 2. Basic Usage"
   ]
  },
  {
   "cell_type": "markdown",
   "id": "b4d6a2db-1f2a-4c0d-a471-8c9f5242c89a",
   "metadata": {},
   "source": [
    "Let's start with a few basics:"
   ]
  },
  {
   "cell_type": "code",
   "execution_count": 1,
   "id": "08b053ca-d2ba-4d04-85a0-d8d20f59ce4a",
   "metadata": {},
   "outputs": [],
   "source": [
    "import os\n",
    "import requests\n",
    "\n",
    "API_KEY = os.environ.get(\"PERPLEXITY_API_KEY\")\n",
    "DEFAULT_MODEL = \"mistral-7b-instruct\"\n",
    "DEFAULT_TOKENS = 1024\n",
    "CONCISE_DETAIL = \"Be precise and concise.\"\n",
    "MID_LEVEL_DETAIL = \"Explain in a few sentences.\"\n",
    "GREAT_DETAIL = \"Explain in a lot of detail.\"\n",
    "DEFAULT_TEMP = 0.0"
   ]
  },
  {
   "cell_type": "markdown",
   "id": "89c761bc-e7bd-4cc2-a49c-db21c99047ea",
   "metadata": {},
   "source": [
    "The following is a convenience function that wraps the Perplexity API allowing different models to be used and also differing levels of depth of response detail:"
   ]
  },
  {
   "cell_type": "code",
   "execution_count": 2,
   "id": "e429ee1e-712b-4d36-9ca8-f680b08232d0",
   "metadata": {},
   "outputs": [],
   "source": [
    "def getPerplexityResponse(question, model=DEFAULT_MODEL, instruction=MID_LEVEL_DETAIL, max_tokens=DEFAULT_TOKENS, temperature=DEFAULT_TEMP):\n",
    "    url = \"https://api.perplexity.ai/chat/completions\"\n",
    "    payload = {\n",
    "        \"model\": model,\n",
    "        \"stream\": False,\n",
    "        \"max_tokens\": max_tokens,\n",
    "        \"temperature\": temperature,\n",
    "        \"messages\": [\n",
    "            {\n",
    "                \"role\": \"system\",\n",
    "                \"content\": instruction,\n",
    "            },\n",
    "            {\n",
    "                \"role\": \"user\",\n",
    "                \"content\": question\n",
    "            }\n",
    "        ]\n",
    "    }\n",
    "    headers = {\n",
    "        \"accept\": \"application/json\",\n",
    "        \"content-type\": \"application/json\",\n",
    "        \"Authorization\": f\"Bearer {API_KEY}\",\n",
    "    }\n",
    "    response = requests.post(url, json=payload, headers=headers).json()\n",
    "    return response.get(\"choices\")[0].get(\"message\").get(\"content\")"
   ]
  },
  {
   "cell_type": "markdown",
   "id": "ef9feef6-aaba-433c-9b47-2985b031c9a5",
   "metadata": {},
   "source": [
    "Let's test the function on an example query using the default Mistral 7b model and then Llama2.  Note the differences in response timing:"
   ]
  },
  {
   "cell_type": "code",
   "execution_count": 3,
   "id": "66286a1c-026e-47e5-900e-99e670d54db6",
   "metadata": {},
   "outputs": [
    {
     "name": "stdout",
     "output_type": "stream",
     "text": [
      "CPU times: user 9.52 ms, sys: 5.15 ms, total: 14.7 ms\n",
      "Wall time: 1.31 s\n"
     ]
    },
    {
     "data": {
      "text/plain": [
       "'In Southampton, UK, if you have a broken washing machine, you should call a professional appliance repair technician. They have the necessary skills and expertise to diagnose and fix common washing machine issues. You can look up local appliance repair services online or check directories like Yell or Thomson Local. Alternatively, you can contact appliance manufacturers or retailers who may offer repair services for their specific brands. Make sure to ask for quotes and availability before scheduling an appointment'"
      ]
     },
     "execution_count": 3,
     "metadata": {},
     "output_type": "execute_result"
    }
   ],
   "source": [
    "%%time\n",
    "\n",
    "getPerplexityResponse(\"I have a broken washing machine and I live in Southamption in the UK.  What can I do to get it mended?  What trade do I need to call?\")"
   ]
  },
  {
   "cell_type": "code",
   "execution_count": 4,
   "id": "2cc80f9f-1aff-4921-bcef-cabdb74eeb54",
   "metadata": {},
   "outputs": [
    {
     "name": "stdout",
     "output_type": "stream",
     "text": [
      "CPU times: user 6.35 ms, sys: 2.08 ms, total: 8.44 ms\n",
      "Wall time: 2.22 s\n"
     ]
    },
    {
     "data": {
      "text/plain": [
       "\"If you have a broken washing machine in Southampton, UK, you can call a local appliance repair service or a professional appliance engineer to fix the issue. You can search online for appliance repair services in your area, or look up local trade directories such as Yell or Checkatrade to find a reputable repair person. Additionally, you can also contact the manufacturer's customer service number to see if they offer repair services or can recommend a local technician.\""
      ]
     },
     "execution_count": 4,
     "metadata": {},
     "output_type": "execute_result"
    }
   ],
   "source": [
    "%%time\n",
    "\n",
    "getPerplexityResponse(\"I have a broken washing machine and I live in Southamption in the UK.  What can I do to get it mended?  What trade do I need to call?\", model='llama-2-70b-chat')"
   ]
  },
  {
   "cell_type": "markdown",
   "id": "f279a8ba-f0bf-4b09-9ae2-9ccf478e47f8",
   "metadata": {},
   "source": [
    "Let's see how it handles a query with a more detailed response:"
   ]
  },
  {
   "cell_type": "code",
   "execution_count": 5,
   "id": "a806519b-adc5-40e6-b1f3-89e25d29bde8",
   "metadata": {},
   "outputs": [
    {
     "name": "stdout",
     "output_type": "stream",
     "text": [
      "CPU times: user 6.76 ms, sys: 4.58 ms, total: 11.3 ms\n",
      "Wall time: 4.4 s\n"
     ]
    },
    {
     "data": {
      "text/plain": [
       "\"To fix a broken garden gate, you would typically need to hire the services of a professional tradesperson who specializes in carpentry, gate repair, or fencing. Here's a detailed explanation of the process and the reasons why you might need to call one of these trades:\\n\\n1. Carpenter: A carpenter is a skilled craftsperson who specializes in the design, construction, and repair of wooden structures. They have a deep understanding of various types of wood, joinery techniques, and carpentry tools. If your garden gate is made of wood and has broken hinges, posts, or other structural components, a carpenter would be an excellent choice to repair or replace the damaged parts. They can also help you with any customization or modifications you might want to make to your gate.\\n\\n2. Gate Repair Specialist: A gate repair specialist is a tradesperson who focuses specifically on the repair and maintenance of various types of gates, including automatic gates, sliding gates, and swing gates. They have extensive knowledge of gate mechanisms, such as hinges, latches, and electric operators. If your garden gate is not closing properly due to a faulty latch, damaged hinges, or a malfunctioning electric opener, a gate repair specialist would be the best person to call. They can diagnose the issue, provide a quote for the repair, and complete the work efficiently and effectively.\\n\\n3. Fencing Contractor: A fencing contractor is a professional who specializes in the installation, repair, and maintenance of fences and gates. They have experience working with various materials, such as wood, vinyl, aluminum, and chain link, and can help you with any issues related to your garden gate. If your gate is attached to a fence and the fence has been damaged, a fencing contractor would be able to assess the damage and provide a solution that addresses both the gate and the fence.\\n\\nIn summary, if you have a broken garden gate that is no longer closing properly, you would typically need to call a carpenter, gate repair specialist, or fencing contractor, depending on the nature of the damage and the materials used in the construction of your gate. These tradespeople have the skills and expertise to diagnose the issue, provide a quote for the repair, and complete the work efficiently and effectively\""
      ]
     },
     "execution_count": 5,
     "metadata": {},
     "output_type": "execute_result"
    }
   ],
   "source": [
    "%%time\n",
    "\n",
    "getPerplexityResponse(\"I have a broken garden gate which is no longer closing properly.  What trade do I need to call to fix it?\", instruction=GREAT_DETAIL)"
   ]
  },
  {
   "cell_type": "markdown",
   "id": "4535bd91-d3a0-4032-b952-32d73a98f96e",
   "metadata": {},
   "source": [
    "## 3. Streaming interface"
   ]
  },
  {
   "cell_type": "markdown",
   "id": "94051f96-5242-44e8-a42b-b2b0c9d0aaef",
   "metadata": {},
   "source": [
    "tbd"
   ]
  }
 ],
 "metadata": {
  "kernelspec": {
   "display_name": "Python 3 (ipykernel)",
   "language": "python",
   "name": "python3"
  },
  "language_info": {
   "codemirror_mode": {
    "name": "ipython",
    "version": 3
   },
   "file_extension": ".py",
   "mimetype": "text/x-python",
   "name": "python",
   "nbconvert_exporter": "python",
   "pygments_lexer": "ipython3",
   "version": "3.10.10"
  }
 },
 "nbformat": 4,
 "nbformat_minor": 5
}
